{
 "cells": [
  {
   "cell_type": "markdown",
   "metadata": {},
   "source": [
    "[![Open In Colab](https://colab.research.google.com/assets/colab-badge.svg)](https://colab.research.google.com/github/pinecone-io/examples/blob/master/learn/generation/langchain/langgraph/01-gpt-4o-research-agent.ipynb) [![Open nbviewer](https://raw.githubusercontent.com/pinecone-io/examples/master/assets/nbviewer-shield.svg)](https://nbviewer.org/github/pinecone-io/examples/blob/master/learn/generation/langchain/langgraph/01-gpt-4o-research-agent.ipynb)"
   ]
  },
  {
   "cell_type": "markdown",
   "metadata": {
    "id": "_PFp0JhOWCU5"
   },
   "source": [
    "# Research Agent in LangGraph, retrieve information from different LLMs and web search"
   ]
  },
  {
   "cell_type": "markdown",
   "metadata": {
    "id": "EckNKuhXWHEJ"
   },
   "source": [
    "Inspired by https://www.pinecone.io/learn/langgraph-research-agent/\n",
    "\n",
    "**Research agents** are multi-step LLM agents that through multiple steps can produce in depth research reports on a topic of our choosing.\n",
    "\n",
    "LangGraph agent that retrieve information form different LLMs and Tavily web search in order to respond to the request of the user.\n",
    "\n",
    "So you need the keys to call the API of OpenAI and Tavily."
   ]
  },
  {
   "cell_type": "code",
   "execution_count": 1,
   "metadata": {
    "colab": {
     "base_uri": "https://localhost:8080/"
    },
    "id": "TCVLlfNyAtxD",
    "outputId": "658c89aa-52b6-4663-cfb7-1391d2a1170d"
   },
   "outputs": [
    {
     "name": "stdin",
     "output_type": "stream",
     "text": [
      "Please provide your OPENAI_API_KEY ········\n",
      "Please provide your TAVILY_API_KEY ········\n"
     ]
    }
   ],
   "source": [
    "import getpass\n",
    "import os\n",
    "\n",
    "\n",
    "def _set_if_undefined(var: str):\n",
    "    if not os.environ.get(var):\n",
    "        os.environ[var] = getpass.getpass(f\"Please provide your {var}\")\n",
    "\n",
    "\n",
    "_set_if_undefined(\"OPENAI_API_KEY\")\n",
    "_set_if_undefined(\"TAVILY_API_KEY\")"
   ]
  },
  {
   "cell_type": "markdown",
   "metadata": {
    "id": "hITmdwQ7Qns0"
   },
   "source": [
    "## Graph State\n",
    "\n",
    "We will define a custom graph state to support our agent-oriented decision making."
   ]
  },
  {
   "cell_type": "code",
   "execution_count": 85,
   "metadata": {
    "id": "x7Fj9KNjQvUq"
   },
   "outputs": [],
   "source": [
    "from typing import TypedDict, Annotated, List, Union\n",
    "from langchain_core.agents import AgentAction, AgentFinish\n",
    "from langchain_core.messages import BaseMessage\n",
    "import operator\n",
    "\n",
    "\n",
    "class AgentState(TypedDict):\n",
    "    input: str\n",
    "    chat_history: list[BaseMessage]\n",
    "    intermediate_steps: Annotated[list[tuple[AgentAction, str]], operator.add]"
   ]
  },
  {
   "cell_type": "markdown",
   "metadata": {
    "id": "Fp4uQFBKQdyI"
   },
   "source": [
    "There are four parts to our agent state, those are:\n",
    "\n",
    "* `input`: this is the user's most recent query, usually this would be a question that we want to answer with our research agent.\n",
    "* `chat_history`: we are building a conversational agent that can support multiple interactions, to allow previous interactions to provide additional context throughout our agent logic we include the chat history in the agent state.\n",
    "* `intermediate_steps`: provides a record of all steps the research agent will take between the user asking a question via `input` and the agent providing a final answer. These intermediate steps are crucial to allowing the agent to follow a path of coherent actions and ultimately producing an informed final answer."
   ]
  },
  {
   "cell_type": "markdown",
   "metadata": {
    "id": "zlVbgX39Rhxj"
   },
   "source": [
    "## Custom Tools"
   ]
  },
  {
   "cell_type": "markdown",
   "metadata": {
    "id": "io-lnbpgKHzy"
   },
   "source": [
    "We will define several tools for this agent that will focus on initial data discovery, that will allow the LLM to use more tools to research more deeply via a variety of different routes."
   ]
  },
  {
   "cell_type": "markdown",
   "metadata": {},
   "source": [
    "### General LLM Knowledge"
   ]
  },
  {
   "cell_type": "markdown",
   "metadata": {},
   "source": [
    "Retrieve from the general knwoledge of different models (llama3.2:latest, mistral:latest, gpt-4o-mini)\n",
    "\n",
    "You need to install Ollama https://ollama.com/\n",
    "and pull the models\n",
    "\n",
    "`ollama pull llama3.2`\n",
    "\n",
    "`ollama pull mistral`"
   ]
  },
  {
   "cell_type": "code",
   "execution_count": 86,
   "metadata": {},
   "outputs": [
    {
     "name": "stdout",
     "output_type": "stream",
     "text": [
      "content=\"LangGraph is an open-source graph database written in Rust, designed to provide high performance and scalability for storing and querying large amounts of graph data. It's a relatively new project, launched in 2021, but has gained popularity quickly due to its innovative architecture and impressive performance.\\n\\nKey features of LangGraph include:\\n\\n1. **High-performance**: LangGraph is optimized for storage and query performance, making it suitable for large-scale applications.\\n2. **Graph database**: LangGraph provides a graph database interface, allowing users to store and query graph data using standard SQL-like queries.\\n3. **Scalability**: LangGraph is designed to scale horizontally, making it suitable for big data applications with high concurrency.\\n4. **ACID compliance**: LangGraph guarantees atomicity, consistency, isolation, and durability (ACID) properties to ensure data integrity.\\n5. **High availability**: LangGraph provides support for distributed transactions and replication, ensuring high availability in the event of node failures.\\n\\nLangGraph is particularly well-suited for applications that require:\\n\\n* Large-scale graph storage\\n* High-performance querying\\n* Scalability and fault tolerance\\n\\nWhile it's a relatively new project, LangGraph has gained traction among developers and researchers due to its innovative approach and impressive performance.\" additional_kwargs={} response_metadata={'model': 'llama3.2:latest', 'created_at': '2024-11-03T14:14:27.103239Z', 'message': {'role': 'assistant', 'content': ''}, 'done_reason': 'stop', 'done': True, 'total_duration': 5785466250, 'load_duration': 836931208, 'prompt_eval_count': 30, 'prompt_eval_duration': 74282000, 'eval_count': 253, 'eval_duration': 4873379000} id='run-ceb50715-3d76-40db-a97e-3076406e9f3f-0' usage_metadata={'input_tokens': 30, 'output_tokens': 253, 'total_tokens': 283}\n",
      "LangGraph is an open-source graph database written in Rust, designed to provide high performance and scalability for storing and querying large amounts of graph data. It's a relatively new project, launched in 2021, but has gained popularity quickly due to its innovative architecture and impressive performance.\n",
      "\n",
      "Key features of LangGraph include:\n",
      "\n",
      "1. **High-performance**: LangGraph is optimized for storage and query performance, making it suitable for large-scale applications.\n",
      "2. **Graph database**: LangGraph provides a graph database interface, allowing users to store and query graph data using standard SQL-like queries.\n",
      "3. **Scalability**: LangGraph is designed to scale horizontally, making it suitable for big data applications with high concurrency.\n",
      "4. **ACID compliance**: LangGraph guarantees atomicity, consistency, isolation, and durability (ACID) properties to ensure data integrity.\n",
      "5. **High availability**: LangGraph provides support for distributed transactions and replication, ensuring high availability in the event of node failures.\n",
      "\n",
      "LangGraph is particularly well-suited for applications that require:\n",
      "\n",
      "* Large-scale graph storage\n",
      "* High-performance querying\n",
      "* Scalability and fault tolerance\n",
      "\n",
      "While it's a relatively new project, LangGraph has gained traction among developers and researchers due to its innovative approach and impressive performance.\n"
     ]
    }
   ],
   "source": [
    "from langchain_ollama import ChatOllama\n",
    "\n",
    "llmOlama = ChatOllama(model=\"llama3.2:latest\")\n",
    "results = llmOlama.invoke(\"What is LangGraph?\")\n",
    "print(results)\n",
    "print(results.content)"
   ]
  },
  {
   "cell_type": "markdown",
   "metadata": {},
   "source": [
    "Format the result"
   ]
  },
  {
   "cell_type": "code",
   "execution_count": 87,
   "metadata": {},
   "outputs": [
    {
     "name": "stdout",
     "output_type": "stream",
     "text": [
      "LangGraph is an open-source graph database written in Rust, designed to provide high performance and scalability for storing and querying large amounts of graph data. It's a relatively new project, launched in 2021, but has gained popularity quickly due to its innovative architecture and impressive performance.\n",
      "\n",
      "Key features of LangGraph include:\n",
      "\n",
      "1. **High-performance**: LangGraph is optimized for storage and query performance, making it suitable for large-scale applications.\n",
      "2. **Graph database**: LangGraph provides a graph database interface, allowing users to store and query graph data using standard SQL-like queries.\n",
      "3. **Scalability**: LangGraph is designed to scale horizontally, making it suitable for big data applications with high concurrency.\n",
      "4. **ACID compliance**: LangGraph guarantees atomicity, consistency, isolation, and durability (ACID) properties to ensure data integrity.\n",
      "5. **High availability**: LangGraph provides support for distributed transactions and replication, ensuring high availability in the event of node failures.\n",
      "\n",
      "LangGraph is particularly well-suited for applications that require:\n",
      "\n",
      "* Large-scale graph storage\n",
      "* High-performance querying\n",
      "* Scalability and fault tolerance\n",
      "\n",
      "While it's a relatively new project, LangGraph has gained traction among developers and researchers due to its innovative approach and impressive performance.\n",
      "[Info provided by llama3.2:latest]\n"
     ]
    }
   ],
   "source": [
    "contexts = f\"{results.content}\\n[Info provided by {llmOlama.model}]\"\n",
    "print(contexts)"
   ]
  },
  {
   "cell_type": "markdown",
   "metadata": {},
   "source": [
    "We put this process in a tool"
   ]
  },
  {
   "cell_type": "code",
   "execution_count": 88,
   "metadata": {},
   "outputs": [],
   "source": [
    "from langchain_core.tools import tool\n",
    "from langchain_ollama import ChatOllama\n",
    "\n",
    "@tool(\"llm_knowledge_llama\")\n",
    "def llm_knowledge_llama(query: str):\n",
    "    \"\"\"Finds general knowledge information using the knowlwdge of the LLM llama3.2, it's an inexpensive tool, but not very powerful.\"\"\"\n",
    "    try:\n",
    "        llmLlama = ChatOllama(model=\"llama3.2:latest\")\n",
    "        results = llmLlama.invoke(query)\n",
    "        contexts = f\"{results.content}\\n[Info provided by {llmLlama.model}]\"\n",
    "    except Exception as e:\n",
    "        print(f\"Error: {str(e)}\")\n",
    "        contexts = f\"Error: {str(e)}\"\n",
    "    return contexts\n",
    "    \n",
    "@tool(\"llm_knowledge_mistral\")\n",
    "def llm_knowledge_mistral(query: str):\n",
    "    \"\"\"Finds general knowledge information using the knowlwdge of the LLM mistral, it's an inexpensive tool, but not very powerful.\"\"\"\n",
    "    try:\n",
    "        llmMistral = ChatOllama(model=\"mistral:latest\")\n",
    "        results = llmMistral.invoke(query)\n",
    "        contexts = f\"{results.content}\\n[Info provided by {llmMistral.model}]\"\n",
    "    except Exception as e:\n",
    "        print(f\"Error: {str(e)}\")\n",
    "        contexts = f\"Error: {str(e)}\"\n",
    "    return contexts\n",
    "\n",
    "@tool(\"llm_knowledge_gpt4o\")\n",
    "def llm_knowledge_gpt4o(query: str):\n",
    "    \"\"\"Finds general knowledge information using the knowlwdge of the LLM GTP-4o.mini, it's an expensive tool, but more powerful.\n",
    "    Use this tool if you have not gotten relevant information from other tools\"\"\"\n",
    "    try:\n",
    "        llm = ChatOpenAI(model=\"gpt-4o-mini\")\n",
    "        results = llm.invoke(query)\n",
    "        contexts = f\"{results.content}\\n[Info provided by gpt-4o-mini]\"\n",
    "    except Exception as e:\n",
    "        print(f\"Error: {str(e)}\")\n",
    "        contexts = f\"Error: {str(e)}\"\n",
    "    return contexts"
   ]
  },
  {
   "cell_type": "code",
   "execution_count": 90,
   "metadata": {},
   "outputs": [
    {
     "name": "stdout",
     "output_type": "stream",
     "text": [
      "LangGraph is an open-source, Python-based library for building graph databases. It's designed to be a high-performance and efficient alternative to other graph database solutions.\n",
      "\n",
      "LangGraph provides a simple and intuitive API for creating, querying, and managing graphs. It supports various data types, including nodes, edges, and properties, and offers features like indexing, caching, and query optimization.\n",
      "\n",
      "Some key benefits of LangGraph include:\n",
      "\n",
      "1. **Efficient data storage**: LangGraph uses an optimized data structure to store graph data, which results in fast query performance.\n",
      "2. **Flexible schema design**: LangGraph allows for dynamic schema design, making it easy to adapt to changing data structures.\n",
      "3. **Scalability**: LangGraph is designed to handle large-scale graph datasets, making it suitable for big data applications.\n",
      "4. **Easy integration with Python**: LangGraph provides a simple and intuitive API, allowing developers to easily integrate it into their Python-based projects.\n",
      "\n",
      "LangGraph has several use cases, including:\n",
      "\n",
      "1. **Recommendation systems**: LangGraph can be used to build efficient recommendation engines for large datasets.\n",
      "2. **Social network analysis**: Its graph database capabilities make it suitable for analyzing complex social networks.\n",
      "3. **Network modeling**: LangGraph can be used to model and analyze various types of networks, such as transportation or communication networks.\n",
      "\n",
      "Overall, LangGraph is a powerful tool for building high-performance graph databases, making it an attractive choice for developers working on data-intensive projects.\n",
      "[Info provided by llama3.2:latest]\n"
     ]
    }
   ],
   "source": [
    "print(llm_knowledge_llama.invoke(\"What is LangGraph?\"))"
   ]
  },
  {
   "cell_type": "markdown",
   "metadata": {
    "id": "vLX1N7oWKiNZ"
   },
   "source": [
    "### Web Search"
   ]
  },
  {
   "cell_type": "markdown",
   "metadata": {
    "id": "FsOutTz9KjoL"
   },
   "source": [
    "The web search tool will provide the agent with access to web search. It will be instructed to use this for more general knowledge queries."
   ]
  },
  {
   "cell_type": "code",
   "execution_count": 91,
   "metadata": {
    "id": "vuv_exwsH8ZJ"
   },
   "outputs": [
    {
     "name": "stdout",
     "output_type": "stream",
     "text": [
      "[{'url': 'https://www.datacamp.com/tutorial/langgraph-tutorial', 'content': 'LangGraph is a library within the LangChain ecosystem designed to tackle these challenges head-on. LangGraph provides a framework for defining, coordinating, and executing multiple LLM agents (or chains) in a structured manner.'}, {'url': 'https://towardsdatascience.com/from-basics-to-advanced-exploring-langgraph-e8c1cf4db787', 'content': \"LangGraph is a low-level framework that offers extensive customisation options, allowing you to build precisely what you need. Since LangGraph is built on top of LangChain, it's seamlessly integrated into its ecosystem, making it easy to leverage existing tools and components. However, there are areas where LangGrpah could be improved:\"}, {'url': 'https://medium.com/@gopiariv/langgraph-a-beginners-guide-to-building-ai-workflows-e500965f2ef9', 'content': \"LangGraph is a part of the LangChain ecosystem, but it's installed separately from the main LangChain package. Here's a guide on how to install LangGraph: 1.\"}]\n"
     ]
    }
   ],
   "source": [
    "from langchain_community.tools.tavily_search import TavilySearchResults\n",
    "\n",
    "web_search = TavilySearchResults(max_results=3, include_answer=True, include_raw_content=True, include_images=True)\n",
    "results = web_search.invoke(\"What is LangGraph?\")\n",
    "print(results)"
   ]
  },
  {
   "cell_type": "code",
   "execution_count": 92,
   "metadata": {
    "id": "KklJP-XSTqLG"
   },
   "outputs": [
    {
     "name": "stdout",
     "output_type": "stream",
     "text": [
      "LangGraph is a library within the LangChain ecosystem designed to tackle these challenges head-on. LangGraph provides a framework for defining, coordinating, and executing multiple LLM agents (or chains) in a structured manner.\n",
      "https://www.datacamp.com/tutorial/langgraph-tutorial\n",
      "---\n",
      "LangGraph is a low-level framework that offers extensive customisation options, allowing you to build precisely what you need. Since LangGraph is built on top of LangChain, it's seamlessly integrated into its ecosystem, making it easy to leverage existing tools and components. However, there are areas where LangGrpah could be improved:\n",
      "https://towardsdatascience.com/from-basics-to-advanced-exploring-langgraph-e8c1cf4db787\n",
      "---\n",
      "LangGraph is a part of the LangChain ecosystem, but it's installed separately from the main LangChain package. Here's a guide on how to install LangGraph: 1.\n",
      "https://medium.com/@gopiariv/langgraph-a-beginners-guide-to-building-ai-workflows-e500965f2ef9\n"
     ]
    }
   ],
   "source": [
    "contexts = \"\\n---\\n\".join(\n",
    "    [\"\\n\".join([x[\"content\"], x[\"url\"]]) for x in results]\n",
    ")\n",
    "\n",
    "print(contexts)"
   ]
  },
  {
   "cell_type": "markdown",
   "metadata": {
    "id": "ZtmOt4nQH4KS"
   },
   "source": [
    "We put this process into a tool:"
   ]
  },
  {
   "cell_type": "code",
   "execution_count": 93,
   "metadata": {
    "id": "TYmOL54xH6GH"
   },
   "outputs": [],
   "source": [
    "from langchain_core.tools import tool\n",
    "\n",
    "@tool(\"web_search\")\n",
    "def web_search(query: str):\n",
    "    \"\"\"Finds general knowledge information using Tavily Web Search. Can also be used\n",
    "    to augment more 'general' knowledge to a previous specialist query.\n",
    "    It's an inexpensive tool, but it can find recent and niche information.\"\"\"\n",
    "    web_search = TavilySearchResults(max_results=3, include_answer=True, include_raw_content=True, include_images=True)\n",
    "    results = web_search.invoke(query)\n",
    "    contexts = \"\\n---\\n\".join(\n",
    "        [\"\\n\".join([x[\"content\"], x[\"url\"]]) for x in results]\n",
    "    )\n",
    "    return contexts"
   ]
  },
  {
   "cell_type": "markdown",
   "metadata": {
    "id": "KDBmpJ0URzKS"
   },
   "source": [
    "### Final Answer"
   ]
  },
  {
   "cell_type": "markdown",
   "metadata": {
    "id": "bWVKYuQ6R6nB"
   },
   "source": [
    "Finally, we define a \"final answer\" tool. This isn't a tool in the usual sense, instead we use it to force a particular output format from our LLM via the function/tool calling."
   ]
  },
  {
   "cell_type": "code",
   "execution_count": 94,
   "metadata": {
    "id": "UIjAlcHdfJCG"
   },
   "outputs": [],
   "source": [
    "@tool(\"final_answer\")\n",
    "def final_answer(\n",
    "    introduction: str,\n",
    "    research_steps: str,\n",
    "    main_body: str,\n",
    "    conclusion: str,\n",
    "    differences: str,\n",
    "    sources: str\n",
    "):\n",
    "    \"\"\"Returns a natural language response to the user in the form of a research\n",
    "    report. There are several sections to this report, those are:\n",
    "    - `introduction`: a short paragraph introducing the user's question and the\n",
    "    topic we are researching.\n",
    "    - `research_steps`: a few bullet points explaining the steps that were taken\n",
    "    to research your report.\n",
    "    - `main_body`: this is where the bulk of high quality and concise\n",
    "    information that answers the user's question belongs. It is 3-4 paragraphs\n",
    "    long in length.\n",
    "    - `conclusion`: this is a short single paragraph conclusion providing a\n",
    "    concise but sophisticated view on what was found.\n",
    "    - `differences`: any differences between the information taken from the different\n",
    "    sources, if there are no differences that the sources are not inconsistent with each other.\n",
    "    - `sources`: a bulletpoint list provided detailed sources for all information\n",
    "    referenced during the research process, please for LLM indacate the model used.\n",
    "    \"\"\"\n",
    "    if type(research_steps) is list:\n",
    "        research_steps = \"\\n\".join([f\"- {r}\" for r in research_steps])\n",
    "    if type(sources) is list:\n",
    "        sources = \"\\n\".join([f\"- {s}\" for s in sources])\n",
    "    return \"\""
   ]
  },
  {
   "cell_type": "markdown",
   "metadata": {
    "id": "E8OsQ3tIS-_t"
   },
   "source": [
    "## Initialize the \"Oracle\""
   ]
  },
  {
   "cell_type": "markdown",
   "metadata": {
    "id": "YykLRD5rXfr5"
   },
   "source": [
    "The **Oracle** LLM is our graph's decision maker. It decides which path we should take down our graph. It functions similarly to an agent but is much simpler and reliable.\n",
    "\n",
    "The Oracle consists of an LLM provided with a set of potential function calls (ie our tools) that it can decide to use — we force it to use _at least_ one of those tool using the `tool_choice=\"any\"` setting (see below). Our Oracle only makes the decision to use a tool, it doesn't execute the tool code itself (we do that seperately in our graph)."
   ]
  },
  {
   "cell_type": "markdown",
   "metadata": {
    "id": "lRlREI1wYSd0"
   },
   "source": [
    "### Oracle Prompt"
   ]
  },
  {
   "cell_type": "markdown",
   "metadata": {
    "id": "OFE638_CYUbf"
   },
   "source": [
    "Our prompt for the Oracle will emphasize it's decision making ability within the `system_prompt`, leave a placeholder for us to later insert `chat_history`, and provide a place for us to insert the user `input`."
   ]
  },
  {
   "cell_type": "code",
   "execution_count": 95,
   "metadata": {
    "id": "FBZrvHDAYmOP"
   },
   "outputs": [],
   "source": [
    "from langchain_core.prompts import ChatPromptTemplate, MessagesPlaceholder\n",
    "\n",
    "system_prompt = \"\"\"You are the oracle, the great AI decision maker.\n",
    "Given the user's query you must decide what to do with it based on the\n",
    "list of tools provided to you.\n",
    "\n",
    "If you see that a tool has been used (in the scratchpad) with a particular\n",
    "query, do NOT use that same tool with the same query again. Also, use the\n",
    "llm knowledge tool only once for a model (ie, if the tool appears in the \n",
    "scratchpad once, do not use it again, but you can use different models) \n",
    "for other tools do NOT use more than twice (ie, if the tool appears in the \n",
    "scratchpad twice, do not use it again).\n",
    "If the request is very specific it is preferable to use the most powerful tool \n",
    "even if more expensive.\n",
    "\n",
    "You should aim to collect information from a diverse range of sources before\n",
    "providing the answer to the user. Once you have collected plenty of information\n",
    "to answer the user's question (stored in the scratchpad) use the final_answer\n",
    "tool.\n",
    "Start looking for information from the cheapest tools.\n",
    "\"\"\"\n",
    "\n",
    "prompt = ChatPromptTemplate.from_messages([\n",
    "    (\"system\", system_prompt),\n",
    "    MessagesPlaceholder(variable_name=\"chat_history\"),\n",
    "    (\"user\", \"{input}\"),\n",
    "    (\"assistant\", \"scratchpad: {scratchpad}\"),\n",
    "])"
   ]
  },
  {
   "cell_type": "markdown",
   "metadata": {
    "id": "euGh0137Ynxv"
   },
   "source": [
    "Next, we must initialize our `llm` (for this we use `gpt-4o`) and then create the _runnable_ pipeline of our Oracle.\n",
    "\n",
    "The runnable connects our inputs (the user `input` and `chat_history`) to our `prompt`, and our `prompt` to our `llm`. It is also where we _bind_ our tools to the LLM and enforce function calling via `tool_choice=\"any\"`."
   ]
  },
  {
   "cell_type": "markdown",
   "metadata": {
    "id": "ESCSupKbTuVR"
   },
   "source": [
    "Test the agent quickly to confirm it is functional:"
   ]
  },
  {
   "cell_type": "code",
   "execution_count": 96,
   "metadata": {
    "id": "0gKxRe4tTBHX"
   },
   "outputs": [],
   "source": [
    "from langchain_core.messages import ToolCall, ToolMessage\n",
    "from langchain_openai import ChatOpenAI\n",
    "\n",
    "llm = ChatOpenAI(\n",
    "    model=\"gpt-4o\",\n",
    "    openai_api_key=os.environ[\"OPENAI_API_KEY\"],\n",
    "    temperature=0\n",
    ")\n",
    "\n",
    "tools=[\n",
    "    llm_knowledge_gpt4o,\n",
    "    llm_knowledge_llama,\n",
    "    llm_knowledge_mistral,\n",
    "    web_search,\n",
    "    final_answer\n",
    "]\n",
    "\n",
    "# define a function to transform intermediate_steps from list\n",
    "# of AgentAction to scratchpad string\n",
    "def create_scratchpad(intermediate_steps: list[AgentAction]):\n",
    "    research_steps = []\n",
    "    for i, action in enumerate(intermediate_steps):\n",
    "        if action.log != \"TBD\":\n",
    "            # this was the ToolExecution\n",
    "            research_steps.append(\n",
    "                f\"Tool: {action.tool}, input: {action.tool_input}\\n\"\n",
    "                f\"Output: {action.log}\"\n",
    "            )\n",
    "    return \"\\n---\\n\".join(research_steps)\n",
    "\n",
    "oracle = (\n",
    "    {\n",
    "        \"input\": lambda x: x[\"input\"],\n",
    "        \"chat_history\": lambda x: x[\"chat_history\"],\n",
    "        \"scratchpad\": lambda x: create_scratchpad(\n",
    "            intermediate_steps=x[\"intermediate_steps\"]\n",
    "        ),\n",
    "    }\n",
    "    | prompt\n",
    "    | llm.bind_tools(tools, tool_choice=\"any\")\n",
    ")"
   ]
  },
  {
   "cell_type": "code",
   "execution_count": 97,
   "metadata": {
    "colab": {
     "base_uri": "https://localhost:8080/"
    },
    "id": "p5xMQ8ajTxFQ",
    "outputId": "0e7b08bc-9b32-425b-cf57-8255b4b6591b"
   },
   "outputs": [
    {
     "data": {
      "text/plain": [
       "AIMessage(content='', additional_kwargs={'tool_calls': [{'id': 'call_rqNufNWBk624QCweHuQcOpbo', 'function': {'arguments': '{\"query\": \"What is LangGraph?\"}', 'name': 'llm_knowledge_llama'}, 'type': 'function'}, {'id': 'call_cMXABVceQES076MNgYzxZDLI', 'function': {'arguments': '{\"query\": \"What is LangGraph?\"}', 'name': 'llm_knowledge_mistral'}, 'type': 'function'}], 'refusal': None}, response_metadata={'token_usage': {'completion_tokens': 61, 'prompt_tokens': 705, 'total_tokens': 766, 'completion_tokens_details': {'audio_tokens': None, 'reasoning_tokens': 0}, 'prompt_tokens_details': {'audio_tokens': None, 'cached_tokens': 0}}, 'model_name': 'gpt-4o-2024-08-06', 'system_fingerprint': 'fp_143bb8492c', 'finish_reason': 'tool_calls', 'logprobs': None}, id='run-985b8534-599f-4d1f-89e1-a9f7671ff89f-0', tool_calls=[{'name': 'llm_knowledge_llama', 'args': {'query': 'What is LangGraph?'}, 'id': 'call_rqNufNWBk624QCweHuQcOpbo', 'type': 'tool_call'}, {'name': 'llm_knowledge_mistral', 'args': {'query': 'What is LangGraph?'}, 'id': 'call_cMXABVceQES076MNgYzxZDLI', 'type': 'tool_call'}], usage_metadata={'input_tokens': 705, 'output_tokens': 61, 'total_tokens': 766, 'input_token_details': {'cache_read': 0}, 'output_token_details': {'reasoning': 0}})"
      ]
     },
     "execution_count": 97,
     "metadata": {},
     "output_type": "execute_result"
    }
   ],
   "source": [
    "inputs = {\n",
    "    \"input\": \"What is LangGraph?\",\n",
    "    \"chat_history\": [],\n",
    "    \"intermediate_steps\": [],\n",
    "}\n",
    "out = oracle.invoke(inputs)\n",
    "out"
   ]
  },
  {
   "cell_type": "markdown",
   "metadata": {
    "id": "zTwZ-7ZtZXq2"
   },
   "source": [
    "It is running but we are returning a lot of output here, we can narrow this down to what we need — ie, the chosen tool name and generated input args for the tool."
   ]
  },
  {
   "cell_type": "code",
   "execution_count": 98,
   "metadata": {
    "colab": {
     "base_uri": "https://localhost:8080/",
     "height": 55
    },
    "id": "u7wUMr2BUBt7",
    "outputId": "c32b2241-8657-4845-da30-78519e8b9473"
   },
   "outputs": [
    {
     "name": "stdout",
     "output_type": "stream",
     "text": [
      "1. llm_knowledge_llama {'query': 'What is LangGraph?'}\n",
      "2. llm_knowledge_mistral {'query': 'What is LangGraph?'}\n"
     ]
    }
   ],
   "source": [
    "for index, call in enumerate(out.tool_calls, start=1):\n",
    "    print(f\"{index}. {call.get('name', 'not found')} {call.get('args', '')}\")"
   ]
  },
  {
   "cell_type": "markdown",
   "metadata": {
    "id": "lbO6IMEZaK4q"
   },
   "source": [
    "We can see now that our Oracle decided to use the cheapest tool."
   ]
  },
  {
   "cell_type": "markdown",
   "metadata": {
    "id": "h6pAxC9kcY1F"
   },
   "source": [
    "## Define Nodes for Graph"
   ]
  },
  {
   "cell_type": "markdown",
   "metadata": {
    "id": "o8ykjVWoa0kz"
   },
   "source": [
    "We will be passing the tool use decision to our `router` which will _route_ the output to the chosen node component to run (we define these below) based on the `out.tool_calls[0][\"name\"]` value."
   ]
  },
  {
   "cell_type": "code",
   "execution_count": 99,
   "metadata": {
    "id": "LcRVPIuAgcoG"
   },
   "outputs": [],
   "source": [
    "def run_oracle(state: list):\n",
    "    print(\"run_oracle\")\n",
    "    print(f\"intermediate_steps: {state['intermediate_steps']}\")\n",
    "    out = oracle.invoke(state)\n",
    "    tool_name = out.tool_calls[0][\"name\"]\n",
    "    tool_args = out.tool_calls[0][\"args\"]\n",
    "    action_out = AgentAction(\n",
    "        tool=tool_name,\n",
    "        tool_input=tool_args,\n",
    "        log=\"TBD\"\n",
    "    )\n",
    "    return {\n",
    "        \"intermediate_steps\": [action_out]\n",
    "    }\n",
    "\n",
    "def router(state: list):\n",
    "    # return the tool name to use\n",
    "    if isinstance(state[\"intermediate_steps\"], list):\n",
    "        return state[\"intermediate_steps\"][-1].tool\n",
    "    else:\n",
    "        # if we output bad format go to final answer\n",
    "        print(\"Router invalid format\")\n",
    "        return \"final_answer\""
   ]
  },
  {
   "cell_type": "markdown",
   "metadata": {
    "id": "PtBEhoDOSOCQ"
   },
   "source": [
    "All of our tools can be run using the same function logic, which we define with `run_tool`. The input parameters to our tool call and the resultant output are added to our graph state's `intermediate_steps` parameter."
   ]
  },
  {
   "cell_type": "code",
   "execution_count": 100,
   "metadata": {
    "id": "-JGJGvDVcbvq"
   },
   "outputs": [],
   "source": [
    "tool_str_to_func = {\n",
    "    \"llm_knowledge_gpt4o\": llm_knowledge_gpt4o,\n",
    "    \"llm_knowledge_llama\": llm_knowledge_llama,\n",
    "    \"llm_knowledge_mistral\": llm_knowledge_mistral,\n",
    "    \"web_search\": web_search,\n",
    "    \"final_answer\": final_answer\n",
    "}\n",
    "\n",
    "def run_tool(state: list):\n",
    "    # use this as helper function so we repeat less code\n",
    "    tool_name = state[\"intermediate_steps\"][-1].tool\n",
    "    tool_args = state[\"intermediate_steps\"][-1].tool_input\n",
    "    print(f\"{tool_name}.invoke(input={tool_args})\")\n",
    "    # run tool\n",
    "    out = tool_str_to_func[tool_name].invoke(input=tool_args)\n",
    "    action_out = AgentAction(\n",
    "        tool=tool_name,\n",
    "        tool_input=tool_args,\n",
    "        log=str(out)\n",
    "    )\n",
    "    return {\"intermediate_steps\": [action_out]}"
   ]
  },
  {
   "cell_type": "markdown",
   "metadata": {
    "id": "zwv4EsTKeZzh"
   },
   "source": [
    "## Define Graph"
   ]
  },
  {
   "cell_type": "code",
   "execution_count": 101,
   "metadata": {
    "id": "LAkcBE5pebXv"
   },
   "outputs": [],
   "source": [
    "from langgraph.graph import StateGraph, END\n",
    "\n",
    "graph = StateGraph(AgentState)\n",
    "\n",
    "graph.add_node(\"oracle\", run_oracle)\n",
    "graph.add_node(\"llm_knowledge_gpt4o\", run_tool)\n",
    "graph.add_node(\"llm_knowledge_llama\", run_tool)\n",
    "graph.add_node(\"llm_knowledge_mistral\", run_tool)\n",
    "graph.add_node(\"web_search\", run_tool)\n",
    "graph.add_node(\"final_answer\", run_tool)\n",
    "\n",
    "graph.set_entry_point(\"oracle\")\n",
    "\n",
    "graph.add_conditional_edges(\n",
    "    source=\"oracle\",  # where in graph to start\n",
    "    path=router,  # function to determine which node is called\n",
    ")\n",
    "\n",
    "# create edges from each tool back to the oracle\n",
    "for tool_obj in tools:\n",
    "    if tool_obj.name != \"final_answer\":\n",
    "        graph.add_edge(tool_obj.name, \"oracle\")\n",
    "\n",
    "# if anything goes to final answer, it must then move to END\n",
    "graph.add_edge(\"final_answer\", END)\n",
    "\n",
    "runnable = graph.compile()"
   ]
  },
  {
   "cell_type": "code",
   "execution_count": 102,
   "metadata": {
    "colab": {
     "base_uri": "https://localhost:8080/",
     "height": 467
    },
    "id": "EmwkoQkthb__",
    "outputId": "f2cd4b01-b9f6-49c2-e4bf-3c235ec15aa0"
   },
   "outputs": [
    {
     "data": {
      "image/jpeg": "[encoded data removed]",
      "text/plain": [
       "<IPython.core.display.Image object>"
      ]
     },
     "metadata": {},
     "output_type": "display_data"
    }
   ],
   "source": [
    "from IPython.display import Image, display\n",
    "\n",
    "display(Image(runnable.get_graph().draw_mermaid_png()))\n"
   ]
  },
  {
   "cell_type": "markdown",
   "metadata": {
    "id": "QmrXAdCwiN8N"
   },
   "source": [
    "## Building Reports"
   ]
  },
  {
   "cell_type": "markdown",
   "metadata": {
    "id": "nPJiet2niPnQ"
   },
   "source": [
    "Let's test our research agent. First, I want to try on something simple (although not within the intended use-case of our agent):"
   ]
  },
  {
   "cell_type": "code",
   "execution_count": 103,
   "metadata": {
    "colab": {
     "base_uri": "https://localhost:8080/"
    },
    "id": "eghr8ZBI-IJL",
    "outputId": "620075bc-51cb-444c-8cd9-9580790f0f7f"
   },
   "outputs": [
    {
     "name": "stdout",
     "output_type": "stream",
     "text": [
      "run_oracle\n",
      "intermediate_steps: []\n",
      "llm_knowledge_llama.invoke(input={'query': 'LangGraph'})\n",
      "run_oracle\n",
      "intermediate_steps: [AgentAction(tool='llm_knowledge_llama', tool_input={'query': 'LangGraph'}, log='TBD'), AgentAction(tool='llm_knowledge_llama', tool_input={'query': 'LangGraph'}, log=\"LangGraph is a Python library used for graph analysis and manipulation. It allows users to create, manipulate, and analyze graphs from various data formats, including edge lists, adjacency matrices, and CSV files.\\n\\nKey Features of LangGraph:\\n\\n1. **Graph Creation**: LangGraph provides an efficient way to create graphs from scratch or by reading existing graph data.\\n2. **Graph Manipulation**: The library offers a range of functions for modifying graph structures, such as adding or removing edges, nodes, and communities.\\n3. **Graph Analysis**: LangGraph includes tools for analyzing graph properties, including degree distribution, clustering coefficient, and community detection.\\n4. **Visualization**: The library integrates with popular visualization libraries like NetworkX and Matplotlib to display graphs in various formats.\\n\\nAdvantages of LangGraph:\\n\\n1. **Efficient**: LangGraph is optimized for performance, making it suitable for large-scale graph analysis tasks.\\n2. **Flexible**: The library supports a wide range of graph data formats and allows users to create custom graph structures.\\n3. **Community Support**: LangGraph has an active community of developers who contribute to its growth and provide support.\\n\\nCommon Use Cases:\\n\\n1. **Social Network Analysis**: LangGraph can be used to analyze social networks, identify clusters, and study community dynamics.\\n2. **Network Optimization**: The library is suitable for optimizing network structures, such as clustering, community detection, or edge weight optimization.\\n3. **Machine Learning**: LangGraph can be integrated with machine learning algorithms to improve the performance of graph-based models.\\n\\nExample Code:\\n```python\\nimport langgraph as lg\\n\\n# Create a graph from an adjacency matrix\\nG = lg.from_adj_matrix([[0, 1, 0], [1, 0, 1], [0, 1, 0]])\\n\\n# Add a new edge to the graph\\nG.add_edge(0, 1)\\n\\n# Analyze the degree distribution of the graph\\ndeg_dist = G.degree_distribution()\\nprint(deg_dist)\\n```\\nThis code creates a graph from an adjacency matrix, adds a new edge, and analyzes the degree distribution using LangGraph's `degree_distribution()` function.\\n[Info provided by llama3.2:latest]\")]\n",
      "web_search.invoke(input={'query': 'LangGraph'})\n",
      "run_oracle\n",
      "intermediate_steps: [AgentAction(tool='llm_knowledge_llama', tool_input={'query': 'LangGraph'}, log='TBD'), AgentAction(tool='llm_knowledge_llama', tool_input={'query': 'LangGraph'}, log=\"LangGraph is a Python library used for graph analysis and manipulation. It allows users to create, manipulate, and analyze graphs from various data formats, including edge lists, adjacency matrices, and CSV files.\\n\\nKey Features of LangGraph:\\n\\n1. **Graph Creation**: LangGraph provides an efficient way to create graphs from scratch or by reading existing graph data.\\n2. **Graph Manipulation**: The library offers a range of functions for modifying graph structures, such as adding or removing edges, nodes, and communities.\\n3. **Graph Analysis**: LangGraph includes tools for analyzing graph properties, including degree distribution, clustering coefficient, and community detection.\\n4. **Visualization**: The library integrates with popular visualization libraries like NetworkX and Matplotlib to display graphs in various formats.\\n\\nAdvantages of LangGraph:\\n\\n1. **Efficient**: LangGraph is optimized for performance, making it suitable for large-scale graph analysis tasks.\\n2. **Flexible**: The library supports a wide range of graph data formats and allows users to create custom graph structures.\\n3. **Community Support**: LangGraph has an active community of developers who contribute to its growth and provide support.\\n\\nCommon Use Cases:\\n\\n1. **Social Network Analysis**: LangGraph can be used to analyze social networks, identify clusters, and study community dynamics.\\n2. **Network Optimization**: The library is suitable for optimizing network structures, such as clustering, community detection, or edge weight optimization.\\n3. **Machine Learning**: LangGraph can be integrated with machine learning algorithms to improve the performance of graph-based models.\\n\\nExample Code:\\n```python\\nimport langgraph as lg\\n\\n# Create a graph from an adjacency matrix\\nG = lg.from_adj_matrix([[0, 1, 0], [1, 0, 1], [0, 1, 0]])\\n\\n# Add a new edge to the graph\\nG.add_edge(0, 1)\\n\\n# Analyze the degree distribution of the graph\\ndeg_dist = G.degree_distribution()\\nprint(deg_dist)\\n```\\nThis code creates a graph from an adjacency matrix, adds a new edge, and analyzes the degree distribution using LangGraph's `degree_distribution()` function.\\n[Info provided by llama3.2:latest]\"), AgentAction(tool='web_search', tool_input={'query': 'LangGraph'}, log='TBD'), AgentAction(tool='web_search', tool_input={'query': 'LangGraph'}, log='LangGraph is a framework for creating stateful, multi-actor applications with LLMs, using cycles, controllability, and persistence. Learn how to use LangGraph with LangChain, LangSmith, and Anthropic tools to build agent and multi-agent workflows.\\nhttps://langchain-ai.github.io/langgraph/\\n---\\nLangGraph is a library within the LangChain ecosystem that simplifies the development of complex, multi-agent large language model (LLM) applications. Learn how to use LangGraph to create stateful, flexible, and scalable systems with nodes, edges, and state management.\\nhttps://www.datacamp.com/tutorial/langgraph-tutorial\\n---\\nLangGraph is a framework for building language agents as graphs. Learn how to use LangGraph to create chatbots, code assistants, planning agents, reflection agents, and more with these notebooks.\\nhttps://langchain-ai.github.io/langgraph/tutorials/')]\n",
      "final_answer.invoke(input={'introduction': 'LangGraph is a versatile tool used in the field of graph analysis and multi-agent application development. It serves different purposes depending on the context, from graph manipulation to building complex language model applications.', 'research_steps': \"- Conducted a search using the Llama LLM to gather basic information about LangGraph as a Python library for graph analysis.\\n- Performed a web search to find more recent and specific information about LangGraph's applications in multi-agent systems and language model frameworks.\", 'main_body': 'LangGraph is a Python library that provides tools for graph analysis and manipulation. It allows users to create, manipulate, and analyze graphs from various data formats, including edge lists, adjacency matrices, and CSV files. The library is optimized for performance, making it suitable for large-scale graph analysis tasks. It supports a wide range of graph data formats and allows users to create custom graph structures. LangGraph is commonly used in social network analysis, network optimization, and machine learning applications.\\n\\nIn addition to its role in graph analysis, LangGraph is also a framework within the LangChain ecosystem. It simplifies the development of complex, multi-agent large language model (LLM) applications. LangGraph is used to create stateful, flexible, and scalable systems with nodes, edges, and state management. It is particularly useful for building language agents as graphs, enabling the creation of chatbots, code assistants, planning agents, and reflection agents. This framework leverages cycles, controllability, and persistence to enhance the functionality of LLM applications.', 'conclusion': 'LangGraph is a multifaceted tool that serves both as a powerful library for graph analysis and as a framework for developing sophisticated multi-agent LLM applications. Its versatility and efficiency make it a valuable resource in both data analysis and language model development.', 'differences': 'The information from the Llama LLM focused on LangGraph as a graph analysis library, while the web search highlighted its role in the LangChain ecosystem for developing multi-agent LLM applications. These perspectives complement each other, showcasing the diverse applications of LangGraph.', 'sources': '- Llama LLM (llama3.2:latest)\\n- LangChain AI GitHub: https://langchain-ai.github.io/langgraph/\\n- DataCamp Tutorial: https://www.datacamp.com/tutorial/langgraph-tutorial'})\n"
     ]
    }
   ],
   "source": [
    "out = runnable.invoke({\n",
    "    \"input\": \"What is LangGraph?\",\n",
    "    \"chat_history\": [],\n",
    "})"
   ]
  },
  {
   "cell_type": "markdown",
   "metadata": {
    "id": "YjwDv5zvjACg"
   },
   "source": [
    "Let's create a function to consume the agent output and format it into our report:"
   ]
  },
  {
   "cell_type": "code",
   "execution_count": 104,
   "metadata": {
    "id": "xZxjrfBfjFPl"
   },
   "outputs": [],
   "source": [
    "def build_report(output: dict):\n",
    "    research_steps = output[\"research_steps\"]\n",
    "    if type(research_steps) is list:\n",
    "        research_steps = \"\\n\".join([f\"- {r}\" for r in research_steps])\n",
    "    sources = output[\"sources\"]\n",
    "    if type(sources) is list:\n",
    "        sources = \"\\n\".join([f\"- {s}\" for s in sources])\n",
    "    return f\"\"\"\n",
    "INTRODUCTION\n",
    "------------\n",
    "{output[\"introduction\"]}\n",
    "\n",
    "RESEARCH STEPS\n",
    "--------------\n",
    "{research_steps}\n",
    "\n",
    "REPORT\n",
    "------\n",
    "{output[\"main_body\"]}\n",
    "\n",
    "CONCLUSION\n",
    "----------\n",
    "{output[\"conclusion\"]}\n",
    "\n",
    "DIFFERENCES\n",
    "----------\n",
    "{output[\"differences\"]}\n",
    "\n",
    "SOURCES\n",
    "-------\n",
    "{sources}\n",
    "\"\"\""
   ]
  },
  {
   "cell_type": "code",
   "execution_count": 105,
   "metadata": {
    "colab": {
     "base_uri": "https://localhost:8080/"
    },
    "id": "xjbPRhk8dhfs",
    "outputId": "bd56c2f8-b6af-44a5-9ee9-c12311ca0c50"
   },
   "outputs": [
    {
     "name": "stdout",
     "output_type": "stream",
     "text": [
      "\n",
      "INTRODUCTION\n",
      "------------\n",
      "LangGraph is a versatile tool used in the field of graph analysis and multi-agent application development. It serves different purposes depending on the context, from graph manipulation to building complex language model applications.\n",
      "\n",
      "RESEARCH STEPS\n",
      "--------------\n",
      "- Conducted a search using the Llama LLM to gather basic information about LangGraph as a Python library for graph analysis.\n",
      "- Performed a web search to find more recent and specific information about LangGraph's applications in multi-agent systems and language model frameworks.\n",
      "\n",
      "REPORT\n",
      "------\n",
      "LangGraph is a Python library that provides tools for graph analysis and manipulation. It allows users to create, manipulate, and analyze graphs from various data formats, including edge lists, adjacency matrices, and CSV files. The library is optimized for performance, making it suitable for large-scale graph analysis tasks. It supports a wide range of graph data formats and allows users to create custom graph structures. LangGraph is commonly used in social network analysis, network optimization, and machine learning applications.\n",
      "\n",
      "In addition to its role in graph analysis, LangGraph is also a framework within the LangChain ecosystem. It simplifies the development of complex, multi-agent large language model (LLM) applications. LangGraph is used to create stateful, flexible, and scalable systems with nodes, edges, and state management. It is particularly useful for building language agents as graphs, enabling the creation of chatbots, code assistants, planning agents, and reflection agents. This framework leverages cycles, controllability, and persistence to enhance the functionality of LLM applications.\n",
      "\n",
      "CONCLUSION\n",
      "----------\n",
      "LangGraph is a multifaceted tool that serves both as a powerful library for graph analysis and as a framework for developing sophisticated multi-agent LLM applications. Its versatility and efficiency make it a valuable resource in both data analysis and language model development.\n",
      "\n",
      "DIFFERENCES\n",
      "----------\n",
      "The information from the Llama LLM focused on LangGraph as a graph analysis library, while the web search highlighted its role in the LangChain ecosystem for developing multi-agent LLM applications. These perspectives complement each other, showcasing the diverse applications of LangGraph.\n",
      "\n",
      "SOURCES\n",
      "-------\n",
      "- Llama LLM (llama3.2:latest)\n",
      "- LangChain AI GitHub: https://langchain-ai.github.io/langgraph/\n",
      "- DataCamp Tutorial: https://www.datacamp.com/tutorial/langgraph-tutorial\n",
      "\n"
     ]
    }
   ],
   "source": [
    "print(build_report(\n",
    "    output=out[\"intermediate_steps\"][-1].tool_input\n",
    "))"
   ]
  },
  {
   "cell_type": "markdown",
   "metadata": {
    "id": "TBgBR3PdiXIg"
   },
   "source": [
    "Now let's try with an on-topic question on AI."
   ]
  },
  {
   "cell_type": "code",
   "execution_count": 106,
   "metadata": {
    "colab": {
     "base_uri": "https://localhost:8080/"
    },
    "id": "a21f9VneePw_",
    "outputId": "5a8cba34-6819-46fc-fd30-cc58911f81f0"
   },
   "outputs": [
    {
     "name": "stdout",
     "output_type": "stream",
     "text": [
      "run_oracle\n",
      "intermediate_steps: []\n",
      "llm_knowledge_llama.invoke(input={'query': 'Cycles and Branching in LangGraph'})\n",
      "run_oracle\n",
      "intermediate_steps: [AgentAction(tool='llm_knowledge_llama', tool_input={'query': 'Cycles and Branching in LangGraph'}, log='TBD'), AgentAction(tool='llm_knowledge_llama', tool_input={'query': 'Cycles and Branching in LangGraph'}, log=\"LangGraph is a Python library used for modeling language models, particularly those based on transformer architectures. It provides an efficient way to represent complex graph structures that are commonly found in natural language processing tasks.\\n\\nIn this answer, we'll explore how cycles and branching can be represented and utilized in LangGraph.\\n\\n**Cycles**\\n\\nA cycle in LangGraph refers to a self-looping connection between two nodes. Cycles can represent various concepts in NLP, such as:\\n\\n*   **Context-dependent relationships**: A relationship that depends on the context in which it is applied.\\n*   **Self-referential entities**: An entity that refers back to itself.\\n*   **Temporal relationships**: Relationships that have a temporal component, where an event causes or is caused by another event.\\n\\nTo represent cycles in LangGraph, you can use the `Node` class and create self-loops for specific nodes. For example:\\n\\n```python\\nfrom langgraph import Node\\n\\n# Create two nodes\\nnode_a = Node('A')\\nnode_b = Node('B')\\n\\n# Create a cycle between node_a and node_b with a probability of 0.5\\nnode_a.add_edge_to_self(node_b, weight=0.5)\\n```\\n\\n**Branching**\\n\\nBranching in LangGraph refers to the creation of multiple edges from a single node. Branching can represent concepts like:\\n\\n*   **Alternative actions**: The model has multiple possible actions it could take in response to an event.\\n*   **Multiple context-dependent relationships**: A relationship that depends on different contexts.\\n*   **Hierarchical structures**: Relationships where one entity is part of another.\\n\\nTo represent branching in LangGraph, you can use the `Node` class and add multiple edges from a single node. For example:\\n\\n```python\\nfrom langgraph import Node\\n\\n# Create two nodes\\nnode_a = Node('A')\\nnode_b = Node('B')\\n\\n# Create an edge from node_a to node_b with weights 0.4, 0.6 for probabilities of 40%, and 60%\\nnode_a.add_edge(node_b, weight=[0.4, 0.6])\\n```\\n\\n**Combining Cycles and Branching**\\n\\nYou can combine cycles and branching in LangGraph by creating a cycle where multiple branches exist from the same node or between different nodes. This will create a more complex graph structure that better represents real-world NLP tasks.\\n\\nFor example:\\n\\n```python\\nfrom langgraph import Node\\n\\n# Create three nodes\\nnode_a = Node('A')\\nnode_b = Node('B')\\nnode_c = Node('C')\\n\\n# Create cycles and branches for multiple context-dependent relationships.\\n# For instance, the model might have a relationship between A and B,\\n# but also has an alternative action from A to C.\\n\\nnode_a.add_edge_to_self(node_b, weight=0.7)\\nnode_b.add_edge_to_self(node_c, weight=0.8)\\n\\nnode_a.add_edge(node_c, weight=[0.2, 0.3])\\n```\\n\\n**Conclusion**\\n\\nIn conclusion, LangGraph provides an efficient way to represent complex graph structures that are commonly found in NLP tasks. By utilizing cycles and branching, you can model more nuanced relationships between entities, which ultimately leads to better performance on various language understanding tasks.\\n\\nRemember to explore the official documentation for LangGraph to learn about its features and limitations.\\n[Info provided by llama3.2:latest]\")]\n",
      "llm_knowledge_mistral.invoke(input={'query': 'Cycles and Branching in LangGraph'})\n",
      "run_oracle\n",
      "intermediate_steps: [AgentAction(tool='llm_knowledge_llama', tool_input={'query': 'Cycles and Branching in LangGraph'}, log='TBD'), AgentAction(tool='llm_knowledge_llama', tool_input={'query': 'Cycles and Branching in LangGraph'}, log=\"LangGraph is a Python library used for modeling language models, particularly those based on transformer architectures. It provides an efficient way to represent complex graph structures that are commonly found in natural language processing tasks.\\n\\nIn this answer, we'll explore how cycles and branching can be represented and utilized in LangGraph.\\n\\n**Cycles**\\n\\nA cycle in LangGraph refers to a self-looping connection between two nodes. Cycles can represent various concepts in NLP, such as:\\n\\n*   **Context-dependent relationships**: A relationship that depends on the context in which it is applied.\\n*   **Self-referential entities**: An entity that refers back to itself.\\n*   **Temporal relationships**: Relationships that have a temporal component, where an event causes or is caused by another event.\\n\\nTo represent cycles in LangGraph, you can use the `Node` class and create self-loops for specific nodes. For example:\\n\\n```python\\nfrom langgraph import Node\\n\\n# Create two nodes\\nnode_a = Node('A')\\nnode_b = Node('B')\\n\\n# Create a cycle between node_a and node_b with a probability of 0.5\\nnode_a.add_edge_to_self(node_b, weight=0.5)\\n```\\n\\n**Branching**\\n\\nBranching in LangGraph refers to the creation of multiple edges from a single node. Branching can represent concepts like:\\n\\n*   **Alternative actions**: The model has multiple possible actions it could take in response to an event.\\n*   **Multiple context-dependent relationships**: A relationship that depends on different contexts.\\n*   **Hierarchical structures**: Relationships where one entity is part of another.\\n\\nTo represent branching in LangGraph, you can use the `Node` class and add multiple edges from a single node. For example:\\n\\n```python\\nfrom langgraph import Node\\n\\n# Create two nodes\\nnode_a = Node('A')\\nnode_b = Node('B')\\n\\n# Create an edge from node_a to node_b with weights 0.4, 0.6 for probabilities of 40%, and 60%\\nnode_a.add_edge(node_b, weight=[0.4, 0.6])\\n```\\n\\n**Combining Cycles and Branching**\\n\\nYou can combine cycles and branching in LangGraph by creating a cycle where multiple branches exist from the same node or between different nodes. This will create a more complex graph structure that better represents real-world NLP tasks.\\n\\nFor example:\\n\\n```python\\nfrom langgraph import Node\\n\\n# Create three nodes\\nnode_a = Node('A')\\nnode_b = Node('B')\\nnode_c = Node('C')\\n\\n# Create cycles and branches for multiple context-dependent relationships.\\n# For instance, the model might have a relationship between A and B,\\n# but also has an alternative action from A to C.\\n\\nnode_a.add_edge_to_self(node_b, weight=0.7)\\nnode_b.add_edge_to_self(node_c, weight=0.8)\\n\\nnode_a.add_edge(node_c, weight=[0.2, 0.3])\\n```\\n\\n**Conclusion**\\n\\nIn conclusion, LangGraph provides an efficient way to represent complex graph structures that are commonly found in NLP tasks. By utilizing cycles and branching, you can model more nuanced relationships between entities, which ultimately leads to better performance on various language understanding tasks.\\n\\nRemember to explore the official documentation for LangGraph to learn about its features and limitations.\\n[Info provided by llama3.2:latest]\"), AgentAction(tool='llm_knowledge_mistral', tool_input={'query': 'Cycles and Branching in LangGraph'}, log='TBD'), AgentAction(tool='llm_knowledge_mistral', tool_input={'query': 'Cycles and Branching in LangGraph'}, log=\" In the context of LangGraph, cycles and branching refer to certain structural properties that can arise within a graph representation of a language. Here's an overview:\\n\\n1. **Cycles**: A cycle is a path in a graph that starts and ends at the same vertex. In a LangGraph, if there are cycles, it means there could be recurring patterns or dependencies in the grammar rules. For example, if rule A implies B, and rule B implies A, we have a cycle in our grammar.\\n\\n2. **Branching**: Branching in a graph refers to the number of edges leaving a vertex (or node). In LangGraph, branching indicates the possible alternatives at a particular point in the grammar rules. For instance, if a rule has multiple next rules, it represents the branching nature of that rule.\\n\\nThese structural properties are essential for understanding and manipulating the generative capabilities of the language model represented by LangGraph. Cycles can lead to ambiguities or infinite loops in generated sentences, while proper branching can enhance the diversity and expressiveness of the language.\\n[Info provided by mistral:latest]\")]\n",
      "llm_knowledge_gpt4o.invoke(input={'query': 'Cycles and Branching in LangGraph'})\n",
      "run_oracle\n",
      "intermediate_steps: [AgentAction(tool='llm_knowledge_llama', tool_input={'query': 'Cycles and Branching in LangGraph'}, log='TBD'), AgentAction(tool='llm_knowledge_llama', tool_input={'query': 'Cycles and Branching in LangGraph'}, log=\"LangGraph is a Python library used for modeling language models, particularly those based on transformer architectures. It provides an efficient way to represent complex graph structures that are commonly found in natural language processing tasks.\\n\\nIn this answer, we'll explore how cycles and branching can be represented and utilized in LangGraph.\\n\\n**Cycles**\\n\\nA cycle in LangGraph refers to a self-looping connection between two nodes. Cycles can represent various concepts in NLP, such as:\\n\\n*   **Context-dependent relationships**: A relationship that depends on the context in which it is applied.\\n*   **Self-referential entities**: An entity that refers back to itself.\\n*   **Temporal relationships**: Relationships that have a temporal component, where an event causes or is caused by another event.\\n\\nTo represent cycles in LangGraph, you can use the `Node` class and create self-loops for specific nodes. For example:\\n\\n```python\\nfrom langgraph import Node\\n\\n# Create two nodes\\nnode_a = Node('A')\\nnode_b = Node('B')\\n\\n# Create a cycle between node_a and node_b with a probability of 0.5\\nnode_a.add_edge_to_self(node_b, weight=0.5)\\n```\\n\\n**Branching**\\n\\nBranching in LangGraph refers to the creation of multiple edges from a single node. Branching can represent concepts like:\\n\\n*   **Alternative actions**: The model has multiple possible actions it could take in response to an event.\\n*   **Multiple context-dependent relationships**: A relationship that depends on different contexts.\\n*   **Hierarchical structures**: Relationships where one entity is part of another.\\n\\nTo represent branching in LangGraph, you can use the `Node` class and add multiple edges from a single node. For example:\\n\\n```python\\nfrom langgraph import Node\\n\\n# Create two nodes\\nnode_a = Node('A')\\nnode_b = Node('B')\\n\\n# Create an edge from node_a to node_b with weights 0.4, 0.6 for probabilities of 40%, and 60%\\nnode_a.add_edge(node_b, weight=[0.4, 0.6])\\n```\\n\\n**Combining Cycles and Branching**\\n\\nYou can combine cycles and branching in LangGraph by creating a cycle where multiple branches exist from the same node or between different nodes. This will create a more complex graph structure that better represents real-world NLP tasks.\\n\\nFor example:\\n\\n```python\\nfrom langgraph import Node\\n\\n# Create three nodes\\nnode_a = Node('A')\\nnode_b = Node('B')\\nnode_c = Node('C')\\n\\n# Create cycles and branches for multiple context-dependent relationships.\\n# For instance, the model might have a relationship between A and B,\\n# but also has an alternative action from A to C.\\n\\nnode_a.add_edge_to_self(node_b, weight=0.7)\\nnode_b.add_edge_to_self(node_c, weight=0.8)\\n\\nnode_a.add_edge(node_c, weight=[0.2, 0.3])\\n```\\n\\n**Conclusion**\\n\\nIn conclusion, LangGraph provides an efficient way to represent complex graph structures that are commonly found in NLP tasks. By utilizing cycles and branching, you can model more nuanced relationships between entities, which ultimately leads to better performance on various language understanding tasks.\\n\\nRemember to explore the official documentation for LangGraph to learn about its features and limitations.\\n[Info provided by llama3.2:latest]\"), AgentAction(tool='llm_knowledge_mistral', tool_input={'query': 'Cycles and Branching in LangGraph'}, log='TBD'), AgentAction(tool='llm_knowledge_mistral', tool_input={'query': 'Cycles and Branching in LangGraph'}, log=\" In the context of LangGraph, cycles and branching refer to certain structural properties that can arise within a graph representation of a language. Here's an overview:\\n\\n1. **Cycles**: A cycle is a path in a graph that starts and ends at the same vertex. In a LangGraph, if there are cycles, it means there could be recurring patterns or dependencies in the grammar rules. For example, if rule A implies B, and rule B implies A, we have a cycle in our grammar.\\n\\n2. **Branching**: Branching in a graph refers to the number of edges leaving a vertex (or node). In LangGraph, branching indicates the possible alternatives at a particular point in the grammar rules. For instance, if a rule has multiple next rules, it represents the branching nature of that rule.\\n\\nThese structural properties are essential for understanding and manipulating the generative capabilities of the language model represented by LangGraph. Cycles can lead to ambiguities or infinite loops in generated sentences, while proper branching can enhance the diversity and expressiveness of the language.\\n[Info provided by mistral:latest]\"), AgentAction(tool='llm_knowledge_gpt4o', tool_input={'query': 'Cycles and Branching in LangGraph'}, log='TBD'), AgentAction(tool='llm_knowledge_gpt4o', tool_input={'query': 'Cycles and Branching in LangGraph'}, log='LangGraph is a framework that allows users to represent and manipulate language data in the form of graphs. It typically involves nodes that represent linguistic units (like words, phrases, or sentences) and edges that represent relationships between them, such as syntactic or semantic connections.\\n\\n### Cycles in LangGraph\\n\\nIn graph theory, a cycle occurs when you can start at a node and traverse through a series of edges to return to the original node without retracing any edge. In the context of LangGraph:\\n\\n1. **Cyclic Structures**: These can represent certain linguistic phenomena, such as recursive structures in language or repeated patterns in discourse. For instance, in a conversation, a speaker might refer back to a previous topic, creating a cycle.\\n\\n2. **Implications of Cycles**: Cycles can complicate the analysis of language data. They may lead to ambiguity in interpretation, as the same node can be reached through different paths. Handling cycles requires careful design to ensure that algorithms still function correctly, especially in tasks like parsing or semantic analysis.\\n\\n3. **Cycle Detection**: Algorithms may be implemented to detect cycles within LangGraph, which can help in understanding the complexity of the linguistic data being represented.\\n\\n### Branching in LangGraph\\n\\nBranching refers to the way that nodes can connect to multiple other nodes, creating a tree-like structure. In LangGraph:\\n\\n1. **Branching Structures**: These are common in language, such as when a single word or phrase can lead to multiple interpretations or meanings. For example, a word like \"bark\" can refer to the sound a dog makes or the outer layer of a tree.\\n\\n2. **Hierarchical Relationships**: Branching can represent hierarchical relationships in language, such as the relationship between a main clause and its subordinate clauses in a sentence structure.\\n\\n3. **Implications of Branching**: Branching allows for more complex representations of language but can also lead to challenges in determining the correct path through the graph for tasks like translation or sentiment analysis.\\n\\n### Managing Cycles and Branching\\n\\nWhen working with cycles and branching in LangGraph, several strategies can be employed:\\n\\n- **Graph Normalization**: Transforming the graph structure to eliminate unnecessary cycles or to simplify branching can help in analysis.\\n\\n- **Pathfinding Algorithms**: Implement algorithms that can effectively navigate through cycles and branches to reach desired nodes or to evaluate paths based on specific criteria.\\n\\n- **Semantic Representation**: Develop a semantic framework that captures the nuances of language represented in cycles and branches, preserving meaning while allowing for complex structures.\\n\\n- **Visualization**: Use graphical representations to visualize cycles and branching structures, aiding in the understanding of complex relationships in language data.\\n\\nIn summary, cycles and branching in LangGraph provide a rich framework for representing linguistic structures, but they also introduce complexities that need to be managed through thoughtful design and algorithmic approaches.\\n[Info provided by gpt-4o-mini]')]\n",
      "final_answer.invoke(input={'introduction': 'Cycles and branching are fundamental concepts in graph theory, and their application in LangGraph provides a robust framework for representing complex linguistic structures. LangGraph is a tool used to model language data as graphs, where nodes represent linguistic units and edges represent relationships between them.', 'research_steps': '- Utilized the Llama3.2 model to gather initial insights on cycles and branching in LangGraph.\\n- Consulted the Mistral model for additional perspectives on the structural properties of LangGraph.\\n- Leveraged the GPT-4o model for a comprehensive understanding of the implications and management of cycles and branching in LangGraph.', 'main_body': 'LangGraph is a framework that allows for the representation and manipulation of language data in graph form. This involves nodes that represent linguistic units such as words or phrases, and edges that denote relationships like syntactic or semantic connections.\\n\\nCycles in LangGraph occur when a path starts and ends at the same node, representing recursive structures or repeated patterns in language. These cycles can complicate language analysis by introducing ambiguity, as the same node can be reached through different paths. Detecting and managing cycles is crucial for tasks like parsing and semantic analysis.\\n\\nBranching in LangGraph refers to nodes connecting to multiple other nodes, creating tree-like structures. This is common in language, where a single word or phrase can lead to multiple interpretations. Branching structures can represent hierarchical relationships, such as those between main and subordinate clauses in sentences. While branching allows for complex language representations, it also poses challenges in determining the correct path for tasks like translation.\\n\\nManaging cycles and branching involves strategies like graph normalization to simplify structures, pathfinding algorithms to navigate complex graphs, and semantic frameworks to preserve meaning. Visualization tools can also aid in understanding these complex relationships.', 'conclusion': 'Cycles and branching in LangGraph provide a powerful means of representing linguistic structures, enabling nuanced language analysis. However, they also introduce complexities that require careful management through algorithmic and design strategies. Understanding these concepts is essential for effectively utilizing LangGraph in natural language processing tasks.', 'differences': 'The information from the different models was consistent, with each providing complementary insights into the concepts of cycles and branching in LangGraph. Llama3.2 and Mistral focused on the structural aspects, while GPT-4o provided a more detailed analysis of implications and management strategies.', 'sources': '- Llama3.2 model for initial insights on LangGraph.\\n- Mistral model for additional perspectives on LangGraph structures.\\n- GPT-4o model for comprehensive analysis and management strategies.'})\n"
     ]
    }
   ],
   "source": [
    "out = runnable.invoke({\n",
    "    \"input\": \"tell me more about Cycles and Branching in LangGraph\",\n",
    "    \"chat_history\": []\n",
    "})"
   ]
  },
  {
   "cell_type": "code",
   "execution_count": 107,
   "metadata": {
    "colab": {
     "base_uri": "https://localhost:8080/"
    },
    "id": "Vis78CFR3puz",
    "outputId": "da622cdd-510b-4996-97c1-62c6050d66ac"
   },
   "outputs": [
    {
     "name": "stdout",
     "output_type": "stream",
     "text": [
      "\n",
      "INTRODUCTION\n",
      "------------\n",
      "Cycles and branching are fundamental concepts in graph theory, and their application in LangGraph provides a robust framework for representing complex linguistic structures. LangGraph is a tool used to model language data as graphs, where nodes represent linguistic units and edges represent relationships between them.\n",
      "\n",
      "RESEARCH STEPS\n",
      "--------------\n",
      "- Utilized the Llama3.2 model to gather initial insights on cycles and branching in LangGraph.\n",
      "- Consulted the Mistral model for additional perspectives on the structural properties of LangGraph.\n",
      "- Leveraged the GPT-4o model for a comprehensive understanding of the implications and management of cycles and branching in LangGraph.\n",
      "\n",
      "REPORT\n",
      "------\n",
      "LangGraph is a framework that allows for the representation and manipulation of language data in graph form. This involves nodes that represent linguistic units such as words or phrases, and edges that denote relationships like syntactic or semantic connections.\n",
      "\n",
      "Cycles in LangGraph occur when a path starts and ends at the same node, representing recursive structures or repeated patterns in language. These cycles can complicate language analysis by introducing ambiguity, as the same node can be reached through different paths. Detecting and managing cycles is crucial for tasks like parsing and semantic analysis.\n",
      "\n",
      "Branching in LangGraph refers to nodes connecting to multiple other nodes, creating tree-like structures. This is common in language, where a single word or phrase can lead to multiple interpretations. Branching structures can represent hierarchical relationships, such as those between main and subordinate clauses in sentences. While branching allows for complex language representations, it also poses challenges in determining the correct path for tasks like translation.\n",
      "\n",
      "Managing cycles and branching involves strategies like graph normalization to simplify structures, pathfinding algorithms to navigate complex graphs, and semantic frameworks to preserve meaning. Visualization tools can also aid in understanding these complex relationships.\n",
      "\n",
      "CONCLUSION\n",
      "----------\n",
      "Cycles and branching in LangGraph provide a powerful means of representing linguistic structures, enabling nuanced language analysis. However, they also introduce complexities that require careful management through algorithmic and design strategies. Understanding these concepts is essential for effectively utilizing LangGraph in natural language processing tasks.\n",
      "\n",
      "DIFFERENCES\n",
      "----------\n",
      "The information from the different models was consistent, with each providing complementary insights into the concepts of cycles and branching in LangGraph. Llama3.2 and Mistral focused on the structural aspects, while GPT-4o provided a more detailed analysis of implications and management strategies.\n",
      "\n",
      "SOURCES\n",
      "-------\n",
      "- Llama3.2 model for initial insights on LangGraph.\n",
      "- Mistral model for additional perspectives on LangGraph structures.\n",
      "- GPT-4o model for comprehensive analysis and management strategies.\n",
      "\n"
     ]
    }
   ],
   "source": [
    "print(build_report(\n",
    "    output=out[\"intermediate_steps\"][-1].tool_input\n",
    "))"
   ]
  },
  {
   "cell_type": "markdown",
   "metadata": {
    "id": "JNyxZL4SNjhX"
   },
   "source": [
    "Let's ask about RAG specifically."
   ]
  },
  {
   "cell_type": "code",
   "execution_count": 108,
   "metadata": {
    "colab": {
     "base_uri": "https://localhost:8080/"
    },
    "id": "x0VmnWlWE6Lg",
    "outputId": "eb6cd6d7-274b-4856-b6ff-34a0dd615aab"
   },
   "outputs": [
    {
     "name": "stdout",
     "output_type": "stream",
     "text": [
      "run_oracle\n",
      "intermediate_steps: []\n",
      "llm_knowledge_llama.invoke(input={'query': 'retrieval augmented generation'})\n",
      "run_oracle\n",
      "intermediate_steps: [AgentAction(tool='llm_knowledge_llama', tool_input={'query': 'retrieval augmented generation'}, log='TBD'), AgentAction(tool='llm_knowledge_llama', tool_input={'query': 'retrieval augmented generation'}, log=\"Retrieval Augmented Generation (RAG) is a novel approach to natural language processing (NLP) that combines the strengths of retrieval and generation. The core idea behind RAG is to use a retrieval model to retrieve relevant information from a large knowledge base, and then use this retrieved information as input to generate new text.\\n\\nThe traditional approach in NLP typically involves generating text from scratch using a language model. However, RAG takes a different approach by using the retrieved information as a starting point for generation. This allows the model to leverage pre-existing knowledge and avoid redundant or repetitive content.\\n\\nHere's a high-level overview of how RAG works:\\n\\n1. **Knowledge retrieval**: The RAG model retrieves relevant information from a large knowledge base based on the input prompt.\\n2. **Textual representation**: The retrieved information is then converted into a textual representation, such as a sequence of tokens (e.g., words or subwords).\\n3. **Generation**: The RAG model uses this textual representation as input to generate new text.\\n\\nThe benefits of RAG include:\\n\\n*   **Efficient use of pre-existing knowledge**: By leveraging pre-existing knowledge, RAG can avoid redundant or repetitive content.\\n*   **Improved contextual understanding**: RAG's retrieval-based approach can provide a better understanding of the context and nuances of the input prompt.\\n*   **Increased accuracy**: RAG can generate more accurate results by building on top of existing knowledge.\\n\\nHowever, RAG also has some challenges:\\n\\n*   **Knowledge base size and quality**: The effectiveness of RAG depends heavily on the quality and size of the knowledge base. A large, high-quality knowledge base is necessary to support effective retrieval.\\n*   **Retrieval accuracy**: The retrieval process can be imperfect, leading to inaccuracies in the generated text.\\n\\nResearch on RAG has shown promising results in various NLP tasks, including:\\n\\n*   Question answering\\n*   Text summarization\\n*   Sentiment analysis\\n\\nHowever, more research is needed to fully explore the potential of RAG and address its challenges.\\n\\nSome popular architectures for implementing RAG include:\\n\\n1.  **RAG-ROSA**: A novel RAG architecture that uses a combination of retrieval and generation techniques.\\n2.  **Retrieval-Augmented Language Model (RALL)**: A variant of RAG that incorporates a language model into the retrieval process.\\n3.  **RAG-MT**: A modification of RAG that leverages multi-task learning to improve performance on multiple NLP tasks.\\n\\nOverall, RAG has shown great promise as an approach for NLP tasks and will likely continue to evolve in the coming years.\\n[Info provided by llama3.2:latest]\")]\n",
      "llm_knowledge_mistral.invoke(input={'query': 'retrieval augmented generation'})\n",
      "run_oracle\n",
      "intermediate_steps: [AgentAction(tool='llm_knowledge_llama', tool_input={'query': 'retrieval augmented generation'}, log='TBD'), AgentAction(tool='llm_knowledge_llama', tool_input={'query': 'retrieval augmented generation'}, log=\"Retrieval Augmented Generation (RAG) is a novel approach to natural language processing (NLP) that combines the strengths of retrieval and generation. The core idea behind RAG is to use a retrieval model to retrieve relevant information from a large knowledge base, and then use this retrieved information as input to generate new text.\\n\\nThe traditional approach in NLP typically involves generating text from scratch using a language model. However, RAG takes a different approach by using the retrieved information as a starting point for generation. This allows the model to leverage pre-existing knowledge and avoid redundant or repetitive content.\\n\\nHere's a high-level overview of how RAG works:\\n\\n1. **Knowledge retrieval**: The RAG model retrieves relevant information from a large knowledge base based on the input prompt.\\n2. **Textual representation**: The retrieved information is then converted into a textual representation, such as a sequence of tokens (e.g., words or subwords).\\n3. **Generation**: The RAG model uses this textual representation as input to generate new text.\\n\\nThe benefits of RAG include:\\n\\n*   **Efficient use of pre-existing knowledge**: By leveraging pre-existing knowledge, RAG can avoid redundant or repetitive content.\\n*   **Improved contextual understanding**: RAG's retrieval-based approach can provide a better understanding of the context and nuances of the input prompt.\\n*   **Increased accuracy**: RAG can generate more accurate results by building on top of existing knowledge.\\n\\nHowever, RAG also has some challenges:\\n\\n*   **Knowledge base size and quality**: The effectiveness of RAG depends heavily on the quality and size of the knowledge base. A large, high-quality knowledge base is necessary to support effective retrieval.\\n*   **Retrieval accuracy**: The retrieval process can be imperfect, leading to inaccuracies in the generated text.\\n\\nResearch on RAG has shown promising results in various NLP tasks, including:\\n\\n*   Question answering\\n*   Text summarization\\n*   Sentiment analysis\\n\\nHowever, more research is needed to fully explore the potential of RAG and address its challenges.\\n\\nSome popular architectures for implementing RAG include:\\n\\n1.  **RAG-ROSA**: A novel RAG architecture that uses a combination of retrieval and generation techniques.\\n2.  **Retrieval-Augmented Language Model (RALL)**: A variant of RAG that incorporates a language model into the retrieval process.\\n3.  **RAG-MT**: A modification of RAG that leverages multi-task learning to improve performance on multiple NLP tasks.\\n\\nOverall, RAG has shown great promise as an approach for NLP tasks and will likely continue to evolve in the coming years.\\n[Info provided by llama3.2:latest]\"), AgentAction(tool='llm_knowledge_mistral', tool_input={'query': 'retrieval augmented generation'}, log='TBD'), AgentAction(tool='llm_knowledge_mistral', tool_input={'query': 'retrieval augmented generation'}, log=\" Retrieval-Augmented Generation (RAG) is a model architecture that combines the strengths of retrieval and generation models to improve the performance of text-to-text models.\\n\\nIn simple terms, RAG works by first retrieving relevant text snippets from a large corpus of data when given a query, and then generating an answer based on the retrieved information and its own knowledge. This approach allows the model to leverage external knowledge beyond what it has been explicitly trained on, improving its ability to handle open-domain questions and tasks that require specific or detailed information.\\n\\nRAG models have been successfully applied to various natural language processing tasks such as question answering, summarization, and translation. They have demonstrated state-of-the-art performance in these areas due to their ability to retrieve relevant context and generate high-quality text. However, like all models, they are not perfect and can sometimes produce incorrect or low-quality results, depending on the quality of the retrieved data and the model's understanding of the context.\\n[Info provided by mistral:latest]\")]\n",
      "final_answer.invoke(input={'introduction': 'Retrieval Augmented Generation (RAG) is an innovative approach in natural language processing (NLP) that combines retrieval and generation techniques to enhance text generation tasks.', 'research_steps': '- Utilized the LLM knowledge of llama3.2 to gather an initial understanding of RAG.\\n- Consulted the LLM knowledge of mistral to gain additional insights and confirm the information obtained.', 'main_body': 'Retrieval Augmented Generation (RAG) is a model architecture that integrates the capabilities of retrieval and generation models to improve the performance of text-to-text models. The core concept of RAG is to use a retrieval model to fetch relevant information from a large knowledge base, which is then used as input for generating new text. This approach allows the model to leverage external knowledge beyond its training data, enhancing its ability to handle open-domain questions and tasks requiring specific or detailed information.\\n\\nThe process of RAG involves two main steps: knowledge retrieval and text generation. Initially, the model retrieves pertinent text snippets from a vast corpus based on the input query. Subsequently, it generates an answer by combining the retrieved information with its own knowledge. This method enables the model to utilize pre-existing knowledge, thereby avoiding redundant or repetitive content and improving contextual understanding.\\n\\nRAG has shown promising results in various NLP tasks, including question answering, text summarization, and sentiment analysis. It has demonstrated state-of-the-art performance due to its ability to retrieve relevant context and generate high-quality text. However, the effectiveness of RAG is contingent on the quality and size of the knowledge base, as well as the accuracy of the retrieval process. Challenges such as retrieval inaccuracies and the need for a comprehensive knowledge base remain areas for further research.', 'conclusion': 'Retrieval Augmented Generation represents a significant advancement in NLP by combining retrieval and generation techniques. It offers improved accuracy and contextual understanding by leveraging external knowledge, making it a valuable tool for various text generation tasks. Despite its challenges, RAG continues to evolve and holds great potential for future developments in NLP.', 'differences': 'The information from both llama3.2 and mistral models is consistent, highlighting the retrieval and generation aspects of RAG and its application in NLP tasks.', 'sources': '- LLM knowledge from llama3.2\\n- LLM knowledge from mistral'})\n"
     ]
    }
   ],
   "source": [
    "out = runnable.invoke({\n",
    "    \"input\": \"what is retrieval augmented generation?\",\n",
    "    \"chat_history\": []\n",
    "})"
   ]
  },
  {
   "cell_type": "code",
   "execution_count": 109,
   "metadata": {
    "colab": {
     "base_uri": "https://localhost:8080/"
    },
    "id": "I7LssyU4Nqis",
    "outputId": "270d7a52-6eda-438b-db15-4e2b889133bd"
   },
   "outputs": [
    {
     "name": "stdout",
     "output_type": "stream",
     "text": [
      "\n",
      "INTRODUCTION\n",
      "------------\n",
      "Retrieval Augmented Generation (RAG) is an innovative approach in natural language processing (NLP) that combines retrieval and generation techniques to enhance text generation tasks.\n",
      "\n",
      "RESEARCH STEPS\n",
      "--------------\n",
      "- Utilized the LLM knowledge of llama3.2 to gather an initial understanding of RAG.\n",
      "- Consulted the LLM knowledge of mistral to gain additional insights and confirm the information obtained.\n",
      "\n",
      "REPORT\n",
      "------\n",
      "Retrieval Augmented Generation (RAG) is a model architecture that integrates the capabilities of retrieval and generation models to improve the performance of text-to-text models. The core concept of RAG is to use a retrieval model to fetch relevant information from a large knowledge base, which is then used as input for generating new text. This approach allows the model to leverage external knowledge beyond its training data, enhancing its ability to handle open-domain questions and tasks requiring specific or detailed information.\n",
      "\n",
      "The process of RAG involves two main steps: knowledge retrieval and text generation. Initially, the model retrieves pertinent text snippets from a vast corpus based on the input query. Subsequently, it generates an answer by combining the retrieved information with its own knowledge. This method enables the model to utilize pre-existing knowledge, thereby avoiding redundant or repetitive content and improving contextual understanding.\n",
      "\n",
      "RAG has shown promising results in various NLP tasks, including question answering, text summarization, and sentiment analysis. It has demonstrated state-of-the-art performance due to its ability to retrieve relevant context and generate high-quality text. However, the effectiveness of RAG is contingent on the quality and size of the knowledge base, as well as the accuracy of the retrieval process. Challenges such as retrieval inaccuracies and the need for a comprehensive knowledge base remain areas for further research.\n",
      "\n",
      "CONCLUSION\n",
      "----------\n",
      "Retrieval Augmented Generation represents a significant advancement in NLP by combining retrieval and generation techniques. It offers improved accuracy and contextual understanding by leveraging external knowledge, making it a valuable tool for various text generation tasks. Despite its challenges, RAG continues to evolve and holds great potential for future developments in NLP.\n",
      "\n",
      "DIFFERENCES\n",
      "----------\n",
      "The information from both llama3.2 and mistral models is consistent, highlighting the retrieval and generation aspects of RAG and its application in NLP tasks.\n",
      "\n",
      "SOURCES\n",
      "-------\n",
      "- LLM knowledge from llama3.2\n",
      "- LLM knowledge from mistral\n",
      "\n"
     ]
    }
   ],
   "source": [
    "print(build_report(\n",
    "    output=out[\"intermediate_steps\"][-1].tool_input\n",
    "))"
   ]
  },
  {
   "cell_type": "markdown",
   "metadata": {},
   "source": [
    "Let's ask about recent financial results, probably the best source will be web search."
   ]
  },
  {
   "cell_type": "code",
   "execution_count": 110,
   "metadata": {},
   "outputs": [
    {
     "name": "stdout",
     "output_type": "stream",
     "text": [
      "run_oracle\n",
      "intermediate_steps: []\n",
      "web_search.invoke(input={'query': 'Microsoft 2024 financial results'})\n",
      "run_oracle\n",
      "intermediate_steps: [AgentAction(tool='web_search', tool_input={'query': 'Microsoft 2024 financial results'}, log='TBD'), AgentAction(tool='web_search', tool_input={'query': 'Microsoft 2024 financial results'}, log='Earnings Release FY24 Q4. Microsoft Cloud Strength Drives Fourth Quarter Results. REDMOND, Wash. — July 30, 2024 — Microsoft Corp. today announced the following results for the quarter ended June 30, 2024, as compared to the corresponding period of last fiscal year: · Revenue was $64.7 billion and increased 15% (up 16% in constant currency)\\nhttps://www.microsoft.com/en-us/investor/earnings/FY-2024-Q4/press-release-webcast\\n---\\nFor more information, financial analysts and investors only:\\nInvestor Relations, Microsoft, (425) 706-4400\\nFor more information, press only:\\nMicrosoft Media Relations, WE Communications, (425) 638-7777, [email\\xa0protected]\\nNote to editors: For more information, news and perspectives from Microsoft, please visit Microsoft Source atÂ\\xa0http://news.microsoft.com/source. Global\\nMicrosoft earnings press release available on Investor Relations website\\nJanuary 30, 2024\\n| Microsoft Source\\nREDMOND, Wash. â€” Jan. 30, 2024 â€” Microsoft Corp. on Tuesday announced that fiscal year 2024 second-quarter financial results are available on its Investor Relations website. A live webcast of the call can be accessed on Microsoftâ€™s Investor Relations website at https://www.microsoft.com/en-us/Investor/.\\nMicrosoft (Nasdaq â€œMSFTâ€� @microsoft) enables digital transformation for the era of an intelligent cloud and an intelligent edge. Its mission is to empower every person and every organization on the planet to achieve more.\\n The direct link to the earnings press release is https://www.microsoft.com/en-us/Investor/earnings/FY-2024-Q2/press-release-webcast.\\n\\nhttps://news.microsoft.com/2024/01/30/microsoft-earnings-press-release-available-on-investor-relations-website-21/\\n---\\nOctober 30, 2024 | Microsoft Source. Share on Facebook (opens new window) Share on LinkedIn (opens new window) Share on X (opens new window) REDMOND, Wash. — Oct. 30, 2024 — Microsoft Corp. on Wednesday announced that fiscal year 2025 first-quarter financial results are available on its Investor Relations website. The direct link\\nhttps://news.microsoft.com/2024/10/30/microsoft-earnings-press-release-available-on-investor-relations-website-24/')]\n",
      "final_answer.invoke(input={'introduction': \"Microsoft's financial performance in 2024 has been a topic of interest for investors and analysts alike, given the company's significant role in the technology sector. This report delves into the financial results of Microsoft for the fiscal year 2024, highlighting key metrics and performance indicators.\", 'research_steps': \"- Conducted a web search for Microsoft's 2024 financial results.\\n- Reviewed the official earnings release from Microsoft's Investor Relations website.\\n- Analyzed the revenue growth and other financial metrics reported for the fiscal year 2024.\", 'main_body': \"In 2024, Microsoft reported robust financial results, driven primarily by the strength of its cloud services. For the fourth quarter ending June 30, 2024, Microsoft announced a revenue of $64.7 billion, marking a 15% increase compared to the same period in the previous fiscal year. This growth was even more pronounced when adjusted for constant currency, showing a 16% increase.\\n\\nThe company's cloud segment, which includes Azure and other cloud services, was a significant contributor to this growth. Microsoft's strategic focus on digital transformation and intelligent cloud solutions has positioned it well in the market, allowing it to capture a larger share of the growing demand for cloud services.\\n\\nThroughout the fiscal year, Microsoft maintained a strong financial performance across its various business segments, including productivity and business processes, intelligent cloud, and more personal computing. The company's ability to innovate and adapt to market needs has been a key factor in sustaining its growth trajectory.\", 'conclusion': \"Microsoft's financial results for 2024 reflect its successful strategies in expanding its cloud services and maintaining strong performance across its business segments. The company's focus on digital transformation and intelligent cloud solutions has been instrumental in driving revenue growth and solidifying its position in the technology sector.\", 'differences': \"The information from the web search and Microsoft's official earnings release were consistent, both highlighting the significant revenue growth and the impact of cloud services on the company's financial performance.\", 'sources': \"- Web Search: Microsoft's 2024 financial results from official earnings release and news articles.\\n- Microsoft's Investor Relations website: https://www.microsoft.com/en-us/investor/earnings/FY-2024-Q4/press-release-webcast\"})\n"
     ]
    }
   ],
   "source": [
    "out = runnable.invoke({\n",
    "    \"input\": \"provide information about Microsoft's 2024 financial results\",\n",
    "    \"chat_history\": []\n",
    "})"
   ]
  },
  {
   "cell_type": "code",
   "execution_count": 111,
   "metadata": {},
   "outputs": [
    {
     "name": "stdout",
     "output_type": "stream",
     "text": [
      "\n",
      "INTRODUCTION\n",
      "------------\n",
      "Microsoft's financial performance in 2024 has been a topic of interest for investors and analysts alike, given the company's significant role in the technology sector. This report delves into the financial results of Microsoft for the fiscal year 2024, highlighting key metrics and performance indicators.\n",
      "\n",
      "RESEARCH STEPS\n",
      "--------------\n",
      "- Conducted a web search for Microsoft's 2024 financial results.\n",
      "- Reviewed the official earnings release from Microsoft's Investor Relations website.\n",
      "- Analyzed the revenue growth and other financial metrics reported for the fiscal year 2024.\n",
      "\n",
      "REPORT\n",
      "------\n",
      "In 2024, Microsoft reported robust financial results, driven primarily by the strength of its cloud services. For the fourth quarter ending June 30, 2024, Microsoft announced a revenue of $64.7 billion, marking a 15% increase compared to the same period in the previous fiscal year. This growth was even more pronounced when adjusted for constant currency, showing a 16% increase.\n",
      "\n",
      "The company's cloud segment, which includes Azure and other cloud services, was a significant contributor to this growth. Microsoft's strategic focus on digital transformation and intelligent cloud solutions has positioned it well in the market, allowing it to capture a larger share of the growing demand for cloud services.\n",
      "\n",
      "Throughout the fiscal year, Microsoft maintained a strong financial performance across its various business segments, including productivity and business processes, intelligent cloud, and more personal computing. The company's ability to innovate and adapt to market needs has been a key factor in sustaining its growth trajectory.\n",
      "\n",
      "CONCLUSION\n",
      "----------\n",
      "Microsoft's financial results for 2024 reflect its successful strategies in expanding its cloud services and maintaining strong performance across its business segments. The company's focus on digital transformation and intelligent cloud solutions has been instrumental in driving revenue growth and solidifying its position in the technology sector.\n",
      "\n",
      "DIFFERENCES\n",
      "----------\n",
      "The information from the web search and Microsoft's official earnings release were consistent, both highlighting the significant revenue growth and the impact of cloud services on the company's financial performance.\n",
      "\n",
      "SOURCES\n",
      "-------\n",
      "- Web Search: Microsoft's 2024 financial results from official earnings release and news articles.\n",
      "- Microsoft's Investor Relations website: https://www.microsoft.com/en-us/investor/earnings/FY-2024-Q4/press-release-webcast\n",
      "\n"
     ]
    }
   ],
   "source": [
    "print(build_report(\n",
    "    output=out[\"intermediate_steps\"][-1].tool_input\n",
    "))"
   ]
  },
  {
   "cell_type": "code",
   "execution_count": 112,
   "metadata": {},
   "outputs": [
    {
     "name": "stdout",
     "output_type": "stream",
     "text": [
      "run_oracle\n",
      "intermediate_steps: []\n",
      "llm_knowledge_llama.invoke(input={'query': 'history of Italy'})\n",
      "run_oracle\n",
      "intermediate_steps: [AgentAction(tool='llm_knowledge_llama', tool_input={'query': 'history of Italy'}, log='TBD'), AgentAction(tool='llm_knowledge_llama', tool_input={'query': 'history of Italy'}, log=\"Italy has a rich and complex history that spans over 2,500 years. Here is a brief overview:\\n\\n**Ancient Italy (8th century BC - 476 AD)**\\n\\n* The Italian peninsula was inhabited by various tribes, including the Etruscans, Latins, and Greeks.\\n* In 753 BC, Rome was founded, and it became a major power in the Mediterranean region.\\n* The Roman Republic (509-27 BC) was established after the overthrow of the monarchy, and it expanded its territories through conquests and alliances.\\n* The Roman Empire (27 BC-476 AD) was established under Augustus Caesar, and it reached its peak during the Pax Romana (Roman Peace).\\n* Italy played a significant role in the decline and fall of the Western Roman Empire.\\n\\n**Middle Ages (476-1492)**\\n\\n* After the fall of the Western Roman Empire, Italy was invaded by various barbarian tribes, including the Visigoths and the Ostrogoths.\\n* The Byzantine Empire, also known as the Eastern Roman Empire, controlled much of Italy during this period.\\n* The Holy Roman Empire, a loose confederation of German states, gained control over parts of northern Italy in the 10th century.\\n* Italy experienced significant cultural and artistic developments during the Middle Ages, including the rise of the Renaissance.\\n\\n**Renaissance (1492-1559)**\\n\\n* The Renaissance was a cultural and intellectual movement that emerged in Italy in the 15th century.\\n* Cities such as Florence, Venice, and Rome became centers of art, literature, and science.\\n* Famous figures such as Leonardo da Vinci, Michelangelo, and Galileo Galilei made significant contributions to Italian culture.\\n\\n**Age of Exploration (1492-1600)**\\n\\n* Italy played a key role in the Age of Exploration, with many Italian cities serving as ports for maritime trade and exploration.\\n* Christopher Columbus's voyage to the New World was sponsored by the Catholic Monarchs of Spain, who were allies of the Pope.\\n* The Ottoman Empire threatened Italy during this period, particularly in the 16th century.\\n\\n**Baroque and Enlightenment (1600-1800)**\\n\\n* The Baroque era saw significant artistic and architectural developments in Italy, including the works of Caravaggio, Bernini, and Borromini.\\n* The Enlightenment emphasized reason, science, and individualism, and had a significant impact on Italian thought and culture.\\n\\n**Unification of Italy (1815-1871)**\\n\\n* After Napoleon's defeat at Waterloo, many Italian states were reorganized under the Austrian Empire.\\n* The Risorgimento movement, which aimed to unify Italy under a single government, gained momentum in the mid-19th century.\\n* Victor Emmanuel II became King of Sardinia and later King of Italy, uniting the country under his rule.\\n\\n**Kingdom of Italy (1871-1943)**\\n\\n* After the unification of Italy, the country experienced significant economic growth and industrialization.\\n* Italy played a major role in both World Wars I and II.\\n* The fascist regime of Benito Mussolini ruled Italy from 1922 to 1943.\\n\\n**Post-War Period (1943-1999)**\\n\\n* After World War II, Italy became a republic and adopted the Constitution of Italy.\\n* Italy experienced significant economic growth and joined the European Economic Community (EEC) in 1957.\\n* The country also faced significant challenges, including corruption, Mafia influence, and a slow economy.\\n\\n**Modern Italy (1999-present)**\\n\\n* In 1999, Italy joined the Eurozone and adopted the euro as its currency.\\n* The government of Silvio Berlusconi dominated Italian politics from the 1980s to the 2000s.\\n* The European sovereign-debt crisis had a significant impact on Italy's economy in the 2010s.\\n\\nThis is just a brief overview of Italy's history. There are many more events, figures, and periods that could be included in a comprehensive account of Italian history.\\n[Info provided by llama3.2:latest]\")]\n",
      "llm_knowledge_mistral.invoke(input={'query': 'history of Italy'})\n",
      "run_oracle\n",
      "intermediate_steps: [AgentAction(tool='llm_knowledge_llama', tool_input={'query': 'history of Italy'}, log='TBD'), AgentAction(tool='llm_knowledge_llama', tool_input={'query': 'history of Italy'}, log=\"Italy has a rich and complex history that spans over 2,500 years. Here is a brief overview:\\n\\n**Ancient Italy (8th century BC - 476 AD)**\\n\\n* The Italian peninsula was inhabited by various tribes, including the Etruscans, Latins, and Greeks.\\n* In 753 BC, Rome was founded, and it became a major power in the Mediterranean region.\\n* The Roman Republic (509-27 BC) was established after the overthrow of the monarchy, and it expanded its territories through conquests and alliances.\\n* The Roman Empire (27 BC-476 AD) was established under Augustus Caesar, and it reached its peak during the Pax Romana (Roman Peace).\\n* Italy played a significant role in the decline and fall of the Western Roman Empire.\\n\\n**Middle Ages (476-1492)**\\n\\n* After the fall of the Western Roman Empire, Italy was invaded by various barbarian tribes, including the Visigoths and the Ostrogoths.\\n* The Byzantine Empire, also known as the Eastern Roman Empire, controlled much of Italy during this period.\\n* The Holy Roman Empire, a loose confederation of German states, gained control over parts of northern Italy in the 10th century.\\n* Italy experienced significant cultural and artistic developments during the Middle Ages, including the rise of the Renaissance.\\n\\n**Renaissance (1492-1559)**\\n\\n* The Renaissance was a cultural and intellectual movement that emerged in Italy in the 15th century.\\n* Cities such as Florence, Venice, and Rome became centers of art, literature, and science.\\n* Famous figures such as Leonardo da Vinci, Michelangelo, and Galileo Galilei made significant contributions to Italian culture.\\n\\n**Age of Exploration (1492-1600)**\\n\\n* Italy played a key role in the Age of Exploration, with many Italian cities serving as ports for maritime trade and exploration.\\n* Christopher Columbus's voyage to the New World was sponsored by the Catholic Monarchs of Spain, who were allies of the Pope.\\n* The Ottoman Empire threatened Italy during this period, particularly in the 16th century.\\n\\n**Baroque and Enlightenment (1600-1800)**\\n\\n* The Baroque era saw significant artistic and architectural developments in Italy, including the works of Caravaggio, Bernini, and Borromini.\\n* The Enlightenment emphasized reason, science, and individualism, and had a significant impact on Italian thought and culture.\\n\\n**Unification of Italy (1815-1871)**\\n\\n* After Napoleon's defeat at Waterloo, many Italian states were reorganized under the Austrian Empire.\\n* The Risorgimento movement, which aimed to unify Italy under a single government, gained momentum in the mid-19th century.\\n* Victor Emmanuel II became King of Sardinia and later King of Italy, uniting the country under his rule.\\n\\n**Kingdom of Italy (1871-1943)**\\n\\n* After the unification of Italy, the country experienced significant economic growth and industrialization.\\n* Italy played a major role in both World Wars I and II.\\n* The fascist regime of Benito Mussolini ruled Italy from 1922 to 1943.\\n\\n**Post-War Period (1943-1999)**\\n\\n* After World War II, Italy became a republic and adopted the Constitution of Italy.\\n* Italy experienced significant economic growth and joined the European Economic Community (EEC) in 1957.\\n* The country also faced significant challenges, including corruption, Mafia influence, and a slow economy.\\n\\n**Modern Italy (1999-present)**\\n\\n* In 1999, Italy joined the Eurozone and adopted the euro as its currency.\\n* The government of Silvio Berlusconi dominated Italian politics from the 1980s to the 2000s.\\n* The European sovereign-debt crisis had a significant impact on Italy's economy in the 2010s.\\n\\nThis is just a brief overview of Italy's history. There are many more events, figures, and periods that could be included in a comprehensive account of Italian history.\\n[Info provided by llama3.2:latest]\"), AgentAction(tool='llm_knowledge_mistral', tool_input={'query': 'history of Italy'}, log='TBD'), AgentAction(tool='llm_knowledge_mistral', tool_input={'query': 'history of Italy'}, log=\" The history of Italy is rich and complex, spanning over three thousand years. Here's a brief overview of some key periods in Italian history:\\n\\n1. Ancient Italy (8th century BC - 5th century AD): The Italian Peninsula was home to several ancient civilizations, including the Etruscans, Umbrians, and Sabines. However, it is most famous for the Roman Empire, which was founded in 753 BC and grew to become one of the largest empires in the world. Rome's influence spread across Europe, North Africa, and the Middle East. The fall of the Western Roman Empire in 476 AD marked the end of ancient Italy.\\n\\n2. Early Middle Ages (5th - 10th centuries): Following the fall of the Roman Empire, Italy was divided into several kingdoms and city-states. This period is known as the Dark Ages, characterized by political instability, economic decline, and cultural stagnation. During this time, the Byzantine Empire, the Holy Roman Empire, and the Lombards played significant roles in shaping Italy.\\n\\n3. High Middle Ages (10th - 13th centuries): The period saw the rise of powerful city-states such as Florence, Venice, Milan, and Genoa. These cities became centers of commerce, art, and learning. The papacy also played a crucial role during this time, as Rome regained its status as a significant religious and political center.\\n\\n4. Renaissance (14th - 17th centuries): The Renaissance was a period of great cultural and artistic flowering in Italy. Cities like Florence, Venice, and Rome became hubs of innovation and creativity, producing some of the most famous artists, scientists, and thinkers in history, such as Leonardo da Vinci, Michelangelo, Galileo, and Niccolò Machiavelli.\\n\\n5. Age of Exploration and Baroque (16th - 18th centuries): Italy was not a unified country during this period but rather a collection of city-states, duchies, and papal states. The discovery of the New World by Italian explorers like Christopher Columbus and Amerigo Vespucci had profound effects on Europe and the world. The Baroque style emerged in Italy as a response to the Renaissance, characterized by ornate, dramatic, and emotional art and architecture.\\n\\n6. Risorgimento (19th century): The Risorgimento was a movement for Italian unification that began in the early 19th century and lasted until 1870. It resulted in the establishment of the Kingdom of Italy under King Victor Emmanuel II, marking the birth of modern Italy.\\n\\n7. Fascist Era (1922 - 1945): Benito Mussolini came to power in 1922, establishing a totalitarian regime known as the Italian Fascist Party. During World War II, Italy initially fought alongside the Allies but later switched sides and aligned with Germany and Japan. In 1945, the Allies defeated the Axis Powers, and Mussolini was executed.\\n\\n8. Post-War Italy (1946 - present): After World War II, Italy became a democratic republic. The country faced significant economic challenges but also experienced periods of growth and prosperity. Today, Italy is a member of NATO, the European Union, and the G7. It remains one of the most culturally influential nations in the world, renowned for its art, architecture, cuisine, fashion, and contributions to science and philosophy.\\n[Info provided by mistral:latest]\")]\n",
      "llm_knowledge_gpt4o.invoke(input={'query': 'history of Italy'})\n",
      "run_oracle\n",
      "intermediate_steps: [AgentAction(tool='llm_knowledge_llama', tool_input={'query': 'history of Italy'}, log='TBD'), AgentAction(tool='llm_knowledge_llama', tool_input={'query': 'history of Italy'}, log=\"Italy has a rich and complex history that spans over 2,500 years. Here is a brief overview:\\n\\n**Ancient Italy (8th century BC - 476 AD)**\\n\\n* The Italian peninsula was inhabited by various tribes, including the Etruscans, Latins, and Greeks.\\n* In 753 BC, Rome was founded, and it became a major power in the Mediterranean region.\\n* The Roman Republic (509-27 BC) was established after the overthrow of the monarchy, and it expanded its territories through conquests and alliances.\\n* The Roman Empire (27 BC-476 AD) was established under Augustus Caesar, and it reached its peak during the Pax Romana (Roman Peace).\\n* Italy played a significant role in the decline and fall of the Western Roman Empire.\\n\\n**Middle Ages (476-1492)**\\n\\n* After the fall of the Western Roman Empire, Italy was invaded by various barbarian tribes, including the Visigoths and the Ostrogoths.\\n* The Byzantine Empire, also known as the Eastern Roman Empire, controlled much of Italy during this period.\\n* The Holy Roman Empire, a loose confederation of German states, gained control over parts of northern Italy in the 10th century.\\n* Italy experienced significant cultural and artistic developments during the Middle Ages, including the rise of the Renaissance.\\n\\n**Renaissance (1492-1559)**\\n\\n* The Renaissance was a cultural and intellectual movement that emerged in Italy in the 15th century.\\n* Cities such as Florence, Venice, and Rome became centers of art, literature, and science.\\n* Famous figures such as Leonardo da Vinci, Michelangelo, and Galileo Galilei made significant contributions to Italian culture.\\n\\n**Age of Exploration (1492-1600)**\\n\\n* Italy played a key role in the Age of Exploration, with many Italian cities serving as ports for maritime trade and exploration.\\n* Christopher Columbus's voyage to the New World was sponsored by the Catholic Monarchs of Spain, who were allies of the Pope.\\n* The Ottoman Empire threatened Italy during this period, particularly in the 16th century.\\n\\n**Baroque and Enlightenment (1600-1800)**\\n\\n* The Baroque era saw significant artistic and architectural developments in Italy, including the works of Caravaggio, Bernini, and Borromini.\\n* The Enlightenment emphasized reason, science, and individualism, and had a significant impact on Italian thought and culture.\\n\\n**Unification of Italy (1815-1871)**\\n\\n* After Napoleon's defeat at Waterloo, many Italian states were reorganized under the Austrian Empire.\\n* The Risorgimento movement, which aimed to unify Italy under a single government, gained momentum in the mid-19th century.\\n* Victor Emmanuel II became King of Sardinia and later King of Italy, uniting the country under his rule.\\n\\n**Kingdom of Italy (1871-1943)**\\n\\n* After the unification of Italy, the country experienced significant economic growth and industrialization.\\n* Italy played a major role in both World Wars I and II.\\n* The fascist regime of Benito Mussolini ruled Italy from 1922 to 1943.\\n\\n**Post-War Period (1943-1999)**\\n\\n* After World War II, Italy became a republic and adopted the Constitution of Italy.\\n* Italy experienced significant economic growth and joined the European Economic Community (EEC) in 1957.\\n* The country also faced significant challenges, including corruption, Mafia influence, and a slow economy.\\n\\n**Modern Italy (1999-present)**\\n\\n* In 1999, Italy joined the Eurozone and adopted the euro as its currency.\\n* The government of Silvio Berlusconi dominated Italian politics from the 1980s to the 2000s.\\n* The European sovereign-debt crisis had a significant impact on Italy's economy in the 2010s.\\n\\nThis is just a brief overview of Italy's history. There are many more events, figures, and periods that could be included in a comprehensive account of Italian history.\\n[Info provided by llama3.2:latest]\"), AgentAction(tool='llm_knowledge_mistral', tool_input={'query': 'history of Italy'}, log='TBD'), AgentAction(tool='llm_knowledge_mistral', tool_input={'query': 'history of Italy'}, log=\" The history of Italy is rich and complex, spanning over three thousand years. Here's a brief overview of some key periods in Italian history:\\n\\n1. Ancient Italy (8th century BC - 5th century AD): The Italian Peninsula was home to several ancient civilizations, including the Etruscans, Umbrians, and Sabines. However, it is most famous for the Roman Empire, which was founded in 753 BC and grew to become one of the largest empires in the world. Rome's influence spread across Europe, North Africa, and the Middle East. The fall of the Western Roman Empire in 476 AD marked the end of ancient Italy.\\n\\n2. Early Middle Ages (5th - 10th centuries): Following the fall of the Roman Empire, Italy was divided into several kingdoms and city-states. This period is known as the Dark Ages, characterized by political instability, economic decline, and cultural stagnation. During this time, the Byzantine Empire, the Holy Roman Empire, and the Lombards played significant roles in shaping Italy.\\n\\n3. High Middle Ages (10th - 13th centuries): The period saw the rise of powerful city-states such as Florence, Venice, Milan, and Genoa. These cities became centers of commerce, art, and learning. The papacy also played a crucial role during this time, as Rome regained its status as a significant religious and political center.\\n\\n4. Renaissance (14th - 17th centuries): The Renaissance was a period of great cultural and artistic flowering in Italy. Cities like Florence, Venice, and Rome became hubs of innovation and creativity, producing some of the most famous artists, scientists, and thinkers in history, such as Leonardo da Vinci, Michelangelo, Galileo, and Niccolò Machiavelli.\\n\\n5. Age of Exploration and Baroque (16th - 18th centuries): Italy was not a unified country during this period but rather a collection of city-states, duchies, and papal states. The discovery of the New World by Italian explorers like Christopher Columbus and Amerigo Vespucci had profound effects on Europe and the world. The Baroque style emerged in Italy as a response to the Renaissance, characterized by ornate, dramatic, and emotional art and architecture.\\n\\n6. Risorgimento (19th century): The Risorgimento was a movement for Italian unification that began in the early 19th century and lasted until 1870. It resulted in the establishment of the Kingdom of Italy under King Victor Emmanuel II, marking the birth of modern Italy.\\n\\n7. Fascist Era (1922 - 1945): Benito Mussolini came to power in 1922, establishing a totalitarian regime known as the Italian Fascist Party. During World War II, Italy initially fought alongside the Allies but later switched sides and aligned with Germany and Japan. In 1945, the Allies defeated the Axis Powers, and Mussolini was executed.\\n\\n8. Post-War Italy (1946 - present): After World War II, Italy became a democratic republic. The country faced significant economic challenges but also experienced periods of growth and prosperity. Today, Italy is a member of NATO, the European Union, and the G7. It remains one of the most culturally influential nations in the world, renowned for its art, architecture, cuisine, fashion, and contributions to science and philosophy.\\n[Info provided by mistral:latest]\"), AgentAction(tool='llm_knowledge_gpt4o', tool_input={'query': 'history of Italy'}, log='TBD'), AgentAction(tool='llm_knowledge_gpt4o', tool_input={'query': 'history of Italy'}, log='The history of Italy is rich and complex, marked by significant cultural, political, and social developments. Here’s a broad overview of Italy’s history:\\n\\n### Ancient Italy\\n- **Prehistoric and Tribal Periods**: The Italian Peninsula was inhabited by various tribes, including the Etruscans, Celts, and Italic tribes. The Etruscans, who settled in central Italy, were influential in the development of Roman culture.\\n  \\n- **Founding of Rome (753 BC)**: According to legend, Rome was founded in 753 BC by Romulus. It began as a small settlement and gradually expanded.\\n\\n### Roman Republic (509–27 BC)\\n- **Establishment**: The Roman Republic was established in 509 BC after the overthrow of the last Etruscan king. It was characterized by a complex system of government with elected officials, including consuls and senators.\\n  \\n- **Expansion**: Through a series of wars, including the Punic Wars against Carthage, Rome expanded its territory throughout the Mediterranean, gaining control over much of Europe, North Africa, and parts of the Middle East.\\n\\n### Roman Empire (27 BC–AD 476)\\n- **Imperial Era**: In 27 BC, Julius Caesar\\'s adopted heir, Octavian (later Augustus), became the first emperor of Rome, marking the transition from Republic to Empire. This period saw vast territorial expansion and the flourishing of culture, architecture, and engineering.\\n  \\n- **Pax Romana**: A long period of relative peace and stability known as the Pax Romana lasted until around AD 180, allowing trade and cultural exchange to thrive.\\n\\n- **Decline**: By the 3rd century AD, the Empire faced internal strife, economic troubles, and external invasions. The Western Roman Empire officially fell in AD 476 when the last emperor, Romulus Augustulus, was deposed.\\n\\n### Middle Ages (5th–14th Century)\\n- **Byzantine and Lombard Rule**: After the fall of the Western Roman Empire, Italy was divided among various kingdoms and territories, including the Byzantine Empire and the Lombards.\\n  \\n- **Holy Roman Empire**: In the 9th century, Charlemagne was crowned Emperor, leading to the establishment of the Holy Roman Empire, which exerted influence over large parts of Italy.\\n\\n- **City-States**: By the late Middle Ages, powerful city-states like Florence, Venice, and Milan emerged, becoming centers of trade, culture, and politics. This period also saw the rise of the Italian Renaissance, a cultural revival that emphasized art, science, and humanism.\\n\\n### Renaissance (14th–17th Century)\\n- The Renaissance marked a period of immense cultural achievement in art, literature, and thought. Artists like Leonardo da Vinci, Michelangelo, and Raphael flourished, and the period saw significant advancements in science and philosophy.\\n\\n### Unification (19th Century)\\n- **Risorgimento**: The movement for Italian unification, known as the Risorgimento, gained momentum in the 19th century. Key figures included Giuseppe Garibaldi and Count Camillo di Cavour.\\n  \\n- **Kingdom of Italy (1861)**: Italy was officially unified in 1861, with Victor Emmanuel II as its king. Rome was later captured in 1870, completing the unification.\\n\\n### 20th Century\\n- **World Wars**: Italy participated in both World War I and World War II. The aftermath of World War I saw economic hardship and social unrest, leading to the rise of Benito Mussolini and the Fascist Party.\\n\\n- **Fascist Regime**: Mussolini ruled from 1922 until he was deposed in 1943 during World War II. Italy was initially part of the Axis powers but switched sides to join the Allies.\\n\\n- **Republic (1946)**: After World War II, Italy abolished the monarchy through a referendum and established the Italian Republic. The new constitution came into effect in 1948.\\n\\n### Contemporary Italy\\n- **European Union**: Italy became a founding member of the European Economic Community in 1957, which evolved into the European Union (EU). \\n- **Economic Growth**: The post-war era saw significant economic growth, known as the \"Italian Economic Miracle,\" transforming Italy into one of the world\\'s largest economies.\\n\\n- **Challenges**: Italy has faced various challenges, including political instability, economic crises, and social issues such as immigration and regional disparities.\\n\\nToday, Italy is known for its rich cultural heritage, art, cuisine, and significant contributions to global history.\\n[Info provided by gpt-4o-mini]')]\n",
      "final_answer.invoke(input={'introduction': \"Italy's history is a tapestry of cultural, political, and social developments that have shaped not only the nation itself but also the broader world. From its ancient roots to its modern-day status, Italy's journey is marked by significant milestones and influential periods.\", 'research_steps': \"- Utilized the LLM knowledge of llama3.2 to gather an overview of Italy's history.\\n- Consulted the LLM knowledge of mistral for additional insights and details.\\n- Leveraged the LLM knowledge of gpt-4o-mini for a comprehensive and detailed account of Italy's historical timeline.\", 'main_body': \"Italy's history begins in ancient times, with the Italian Peninsula inhabited by various tribes such as the Etruscans and Italic tribes. The founding of Rome in 753 BC marked the beginning of a civilization that would grow into the Roman Republic and later the Roman Empire, dominating much of Europe, North Africa, and the Middle East. The fall of the Western Roman Empire in 476 AD led to a fragmented Italy, influenced by the Byzantine Empire, Lombards, and later the Holy Roman Empire.\\n\\nDuring the Middle Ages, Italy saw the rise of powerful city-states like Florence, Venice, and Milan, which became centers of trade and culture. This period also witnessed the Italian Renaissance, a cultural revival that produced legendary figures such as Leonardo da Vinci and Michelangelo, and emphasized humanism and scientific inquiry.\\n\\nThe 19th century was marked by the Risorgimento, a movement for Italian unification, culminating in the establishment of the Kingdom of Italy in 1861. The 20th century brought challenges and changes, including participation in both World Wars, the rise and fall of Mussolini's Fascist regime, and the transition to a republic in 1946.\\n\\nIn contemporary times, Italy has been a founding member of the European Union and has experienced significant economic growth, though it continues to face challenges such as political instability and economic disparities. Despite these issues, Italy remains a cultural powerhouse, renowned for its art, cuisine, and historical contributions.\", 'conclusion': \"Italy's history is a testament to its enduring influence and resilience. From the grandeur of the Roman Empire to the cultural renaissance and modern-day challenges, Italy has continually reinvented itself while maintaining its rich cultural heritage. Its journey through history reflects a nation that has been at the crossroads of civilization, contributing significantly to global culture and politics.\", 'differences': \"The sources provided consistent information regarding the major historical periods and events in Italy's history. While there were slight variations in emphasis and detail, particularly concerning the influence of different empires and the specifics of the Renaissance, the overall narrative remained coherent and aligned across the sources.\", 'sources': '- LLM knowledge from llama3.2\\n- LLM knowledge from mistral\\n- LLM knowledge from gpt-4o-mini'})\n"
     ]
    }
   ],
   "source": [
    "out = runnable.invoke({\n",
    "    \"input\": \"write the history of Italy\",\n",
    "    \"chat_history\": []\n",
    "})"
   ]
  },
  {
   "cell_type": "code",
   "execution_count": 113,
   "metadata": {},
   "outputs": [
    {
     "name": "stdout",
     "output_type": "stream",
     "text": [
      "\n",
      "INTRODUCTION\n",
      "------------\n",
      "Italy's history is a tapestry of cultural, political, and social developments that have shaped not only the nation itself but also the broader world. From its ancient roots to its modern-day status, Italy's journey is marked by significant milestones and influential periods.\n",
      "\n",
      "RESEARCH STEPS\n",
      "--------------\n",
      "- Utilized the LLM knowledge of llama3.2 to gather an overview of Italy's history.\n",
      "- Consulted the LLM knowledge of mistral for additional insights and details.\n",
      "- Leveraged the LLM knowledge of gpt-4o-mini for a comprehensive and detailed account of Italy's historical timeline.\n",
      "\n",
      "REPORT\n",
      "------\n",
      "Italy's history begins in ancient times, with the Italian Peninsula inhabited by various tribes such as the Etruscans and Italic tribes. The founding of Rome in 753 BC marked the beginning of a civilization that would grow into the Roman Republic and later the Roman Empire, dominating much of Europe, North Africa, and the Middle East. The fall of the Western Roman Empire in 476 AD led to a fragmented Italy, influenced by the Byzantine Empire, Lombards, and later the Holy Roman Empire.\n",
      "\n",
      "During the Middle Ages, Italy saw the rise of powerful city-states like Florence, Venice, and Milan, which became centers of trade and culture. This period also witnessed the Italian Renaissance, a cultural revival that produced legendary figures such as Leonardo da Vinci and Michelangelo, and emphasized humanism and scientific inquiry.\n",
      "\n",
      "The 19th century was marked by the Risorgimento, a movement for Italian unification, culminating in the establishment of the Kingdom of Italy in 1861. The 20th century brought challenges and changes, including participation in both World Wars, the rise and fall of Mussolini's Fascist regime, and the transition to a republic in 1946.\n",
      "\n",
      "In contemporary times, Italy has been a founding member of the European Union and has experienced significant economic growth, though it continues to face challenges such as political instability and economic disparities. Despite these issues, Italy remains a cultural powerhouse, renowned for its art, cuisine, and historical contributions.\n",
      "\n",
      "CONCLUSION\n",
      "----------\n",
      "Italy's history is a testament to its enduring influence and resilience. From the grandeur of the Roman Empire to the cultural renaissance and modern-day challenges, Italy has continually reinvented itself while maintaining its rich cultural heritage. Its journey through history reflects a nation that has been at the crossroads of civilization, contributing significantly to global culture and politics.\n",
      "\n",
      "DIFFERENCES\n",
      "----------\n",
      "The sources provided consistent information regarding the major historical periods and events in Italy's history. While there were slight variations in emphasis and detail, particularly concerning the influence of different empires and the specifics of the Renaissance, the overall narrative remained coherent and aligned across the sources.\n",
      "\n",
      "SOURCES\n",
      "-------\n",
      "- LLM knowledge from llama3.2\n",
      "- LLM knowledge from mistral\n",
      "- LLM knowledge from gpt-4o-mini\n",
      "\n"
     ]
    }
   ],
   "source": [
    "print(build_report(\n",
    "    output=out[\"intermediate_steps\"][-1].tool_input\n",
    "))"
   ]
  }
 ],
 "metadata": {
  "colab": {
   "provenance": []
  },
  "kernelspec": {
   "display_name": "Python 3 (ipykernel)",
   "language": "python",
   "name": "python3"
  },
  "language_info": {
   "codemirror_mode": {
    "name": "ipython",
    "version": 3
   },
   "file_extension": ".py",
   "mimetype": "text/x-python",
   "name": "python",
   "nbconvert_exporter": "python",
   "pygments_lexer": "ipython3",
   "version": "3.11.2"
  },
  "widgets": {
   "application/vnd.jupyter.widget-state+json": {
    "24a571b8cc864f60bea7ae90ef331b21": {
     "model_module": "@jupyter-widgets/controls",
     "model_module_version": "1.5.0",
     "model_name": "HTMLModel",
     "state": {
      "_dom_classes": [],
      "_model_module": "@jupyter-widgets/controls",
      "_model_module_version": "1.5.0",
      "_model_name": "HTMLModel",
      "_view_count": null,
      "_view_module": "@jupyter-widgets/controls",
      "_view_module_version": "1.5.0",
      "_view_name": "HTMLView",
      "description": "",
      "description_tooltip": null,
      "layout": "IPY_MODEL_c52a55d3643b4f1c83bdf1b1b5fce242",
      "placeholder": "​",
      "style": "IPY_MODEL_7de73bce9c0540e2b3b2c599d57ae215",
      "value": "100%"
     }
    },
    "45580486ce0742b29d0de17850c42060": {
     "model_module": "@jupyter-widgets/controls",
     "model_module_version": "1.5.0",
     "model_name": "FloatProgressModel",
     "state": {
      "_dom_classes": [],
      "_model_module": "@jupyter-widgets/controls",
      "_model_module_version": "1.5.0",
      "_model_name": "FloatProgressModel",
      "_view_count": null,
      "_view_module": "@jupyter-widgets/controls",
      "_view_module_version": "1.5.0",
      "_view_name": "ProgressView",
      "bar_style": "success",
      "description": "",
      "description_tooltip": null,
      "layout": "IPY_MODEL_84c25583658a4f4caeedbc19dd29457a",
      "max": 79,
      "min": 0,
      "orientation": "horizontal",
      "style": "IPY_MODEL_a9594c4de9734895862a48f90bc8c621",
      "value": 79
     }
    },
    "48ec484f11324501b1020314d4989da6": {
     "model_module": "@jupyter-widgets/base",
     "model_module_version": "1.2.0",
     "model_name": "LayoutModel",
     "state": {
      "_model_module": "@jupyter-widgets/base",
      "_model_module_version": "1.2.0",
      "_model_name": "LayoutModel",
      "_view_count": null,
      "_view_module": "@jupyter-widgets/base",
      "_view_module_version": "1.2.0",
      "_view_name": "LayoutView",
      "align_content": null,
      "align_items": null,
      "align_self": null,
      "border": null,
      "bottom": null,
      "display": null,
      "flex": null,
      "flex_flow": null,
      "grid_area": null,
      "grid_auto_columns": null,
      "grid_auto_flow": null,
      "grid_auto_rows": null,
      "grid_column": null,
      "grid_gap": null,
      "grid_row": null,
      "grid_template_areas": null,
      "grid_template_columns": null,
      "grid_template_rows": null,
      "height": null,
      "justify_content": null,
      "justify_items": null,
      "left": null,
      "margin": null,
      "max_height": null,
      "max_width": null,
      "min_height": null,
      "min_width": null,
      "object_fit": null,
      "object_position": null,
      "order": null,
      "overflow": null,
      "overflow_x": null,
      "overflow_y": null,
      "padding": null,
      "right": null,
      "top": null,
      "visibility": null,
      "width": null
     }
    },
    "7de73bce9c0540e2b3b2c599d57ae215": {
     "model_module": "@jupyter-widgets/controls",
     "model_module_version": "1.5.0",
     "model_name": "DescriptionStyleModel",
     "state": {
      "_model_module": "@jupyter-widgets/controls",
      "_model_module_version": "1.5.0",
      "_model_name": "DescriptionStyleModel",
      "_view_count": null,
      "_view_module": "@jupyter-widgets/base",
      "_view_module_version": "1.2.0",
      "_view_name": "StyleView",
      "description_width": ""
     }
    },
    "84c25583658a4f4caeedbc19dd29457a": {
     "model_module": "@jupyter-widgets/base",
     "model_module_version": "1.2.0",
     "model_name": "LayoutModel",
     "state": {
      "_model_module": "@jupyter-widgets/base",
      "_model_module_version": "1.2.0",
      "_model_name": "LayoutModel",
      "_view_count": null,
      "_view_module": "@jupyter-widgets/base",
      "_view_module_version": "1.2.0",
      "_view_name": "LayoutView",
      "align_content": null,
      "align_items": null,
      "align_self": null,
      "border": null,
      "bottom": null,
      "display": null,
      "flex": null,
      "flex_flow": null,
      "grid_area": null,
      "grid_auto_columns": null,
      "grid_auto_flow": null,
      "grid_auto_rows": null,
      "grid_column": null,
      "grid_gap": null,
      "grid_row": null,
      "grid_template_areas": null,
      "grid_template_columns": null,
      "grid_template_rows": null,
      "height": null,
      "justify_content": null,
      "justify_items": null,
      "left": null,
      "margin": null,
      "max_height": null,
      "max_width": null,
      "min_height": null,
      "min_width": null,
      "object_fit": null,
      "object_position": null,
      "order": null,
      "overflow": null,
      "overflow_x": null,
      "overflow_y": null,
      "padding": null,
      "right": null,
      "top": null,
      "visibility": null,
      "width": null
     }
    },
    "925f65b6b0cc47be803c021f644a8f84": {
     "model_module": "@jupyter-widgets/controls",
     "model_module_version": "1.5.0",
     "model_name": "HBoxModel",
     "state": {
      "_dom_classes": [],
      "_model_module": "@jupyter-widgets/controls",
      "_model_module_version": "1.5.0",
      "_model_name": "HBoxModel",
      "_view_count": null,
      "_view_module": "@jupyter-widgets/controls",
      "_view_module_version": "1.5.0",
      "_view_name": "HBoxView",
      "box_style": "",
      "children": [
       "IPY_MODEL_24a571b8cc864f60bea7ae90ef331b21",
       "IPY_MODEL_45580486ce0742b29d0de17850c42060",
       "IPY_MODEL_f1f07bc63a234590ac229d63217e197a"
      ],
      "layout": "IPY_MODEL_a6d67d04d1c8432c8840f411027a0e79"
     }
    },
    "a6d67d04d1c8432c8840f411027a0e79": {
     "model_module": "@jupyter-widgets/base",
     "model_module_version": "1.2.0",
     "model_name": "LayoutModel",
     "state": {
      "_model_module": "@jupyter-widgets/base",
      "_model_module_version": "1.2.0",
      "_model_name": "LayoutModel",
      "_view_count": null,
      "_view_module": "@jupyter-widgets/base",
      "_view_module_version": "1.2.0",
      "_view_name": "LayoutView",
      "align_content": null,
      "align_items": null,
      "align_self": null,
      "border": null,
      "bottom": null,
      "display": null,
      "flex": null,
      "flex_flow": null,
      "grid_area": null,
      "grid_auto_columns": null,
      "grid_auto_flow": null,
      "grid_auto_rows": null,
      "grid_column": null,
      "grid_gap": null,
      "grid_row": null,
      "grid_template_areas": null,
      "grid_template_columns": null,
      "grid_template_rows": null,
      "height": null,
      "justify_content": null,
      "justify_items": null,
      "left": null,
      "margin": null,
      "max_height": null,
      "max_width": null,
      "min_height": null,
      "min_width": null,
      "object_fit": null,
      "object_position": null,
      "order": null,
      "overflow": null,
      "overflow_x": null,
      "overflow_y": null,
      "padding": null,
      "right": null,
      "top": null,
      "visibility": null,
      "width": null
     }
    },
    "a9594c4de9734895862a48f90bc8c621": {
     "model_module": "@jupyter-widgets/controls",
     "model_module_version": "1.5.0",
     "model_name": "ProgressStyleModel",
     "state": {
      "_model_module": "@jupyter-widgets/controls",
      "_model_module_version": "1.5.0",
      "_model_name": "ProgressStyleModel",
      "_view_count": null,
      "_view_module": "@jupyter-widgets/base",
      "_view_module_version": "1.2.0",
      "_view_name": "StyleView",
      "bar_color": null,
      "description_width": ""
     }
    },
    "bfecdc3138334cd1adcd055f338060d1": {
     "model_module": "@jupyter-widgets/controls",
     "model_module_version": "1.5.0",
     "model_name": "DescriptionStyleModel",
     "state": {
      "_model_module": "@jupyter-widgets/controls",
      "_model_module_version": "1.5.0",
      "_model_name": "DescriptionStyleModel",
      "_view_count": null,
      "_view_module": "@jupyter-widgets/base",
      "_view_module_version": "1.2.0",
      "_view_name": "StyleView",
      "description_width": ""
     }
    },
    "c52a55d3643b4f1c83bdf1b1b5fce242": {
     "model_module": "@jupyter-widgets/base",
     "model_module_version": "1.2.0",
     "model_name": "LayoutModel",
     "state": {
      "_model_module": "@jupyter-widgets/base",
      "_model_module_version": "1.2.0",
      "_model_name": "LayoutModel",
      "_view_count": null,
      "_view_module": "@jupyter-widgets/base",
      "_view_module_version": "1.2.0",
      "_view_name": "LayoutView",
      "align_content": null,
      "align_items": null,
      "align_self": null,
      "border": null,
      "bottom": null,
      "display": null,
      "flex": null,
      "flex_flow": null,
      "grid_area": null,
      "grid_auto_columns": null,
      "grid_auto_flow": null,
      "grid_auto_rows": null,
      "grid_column": null,
      "grid_gap": null,
      "grid_row": null,
      "grid_template_areas": null,
      "grid_template_columns": null,
      "grid_template_rows": null,
      "height": null,
      "justify_content": null,
      "justify_items": null,
      "left": null,
      "margin": null,
      "max_height": null,
      "max_width": null,
      "min_height": null,
      "min_width": null,
      "object_fit": null,
      "object_position": null,
      "order": null,
      "overflow": null,
      "overflow_x": null,
      "overflow_y": null,
      "padding": null,
      "right": null,
      "top": null,
      "visibility": null,
      "width": null
     }
    },
    "f1f07bc63a234590ac229d63217e197a": {
     "model_module": "@jupyter-widgets/controls",
     "model_module_version": "1.5.0",
     "model_name": "HTMLModel",
     "state": {
      "_dom_classes": [],
      "_model_module": "@jupyter-widgets/controls",
      "_model_module_version": "1.5.0",
      "_model_name": "HTMLModel",
      "_view_count": null,
      "_view_module": "@jupyter-widgets/controls",
      "_view_module_version": "1.5.0",
      "_view_name": "HTMLView",
      "description": "",
      "description_tooltip": null,
      "layout": "IPY_MODEL_48ec484f11324501b1020314d4989da6",
      "placeholder": "​",
      "style": "IPY_MODEL_bfecdc3138334cd1adcd055f338060d1",
      "value": " 79/79 [04:03&lt;00:00,  2.64s/it]"
     }
    }
   }
  }
 },
 "nbformat": 4,
 "nbformat_minor": 4
}
