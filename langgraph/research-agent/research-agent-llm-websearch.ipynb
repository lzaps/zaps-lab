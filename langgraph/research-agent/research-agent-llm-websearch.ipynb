{
 "cells": [
  {
   "cell_type": "markdown",
   "metadata": {},
   "source": [
    "[![Open In Colab](https://colab.research.google.com/assets/colab-badge.svg)](https://colab.research.google.com/github/pinecone-io/examples/blob/master/learn/generation/langchain/langgraph/01-gpt-4o-research-agent.ipynb) [![Open nbviewer](https://raw.githubusercontent.com/pinecone-io/examples/master/assets/nbviewer-shield.svg)](https://nbviewer.org/github/pinecone-io/examples/blob/master/learn/generation/langchain/langgraph/01-gpt-4o-research-agent.ipynb)"
   ]
  },
  {
   "cell_type": "markdown",
   "metadata": {
    "id": "_PFp0JhOWCU5"
   },
   "source": [
    "# Research Agent in LangGraph, retrieve information from different LLMs and web search"
   ]
  },
  {
   "cell_type": "markdown",
   "metadata": {
    "id": "EckNKuhXWHEJ"
   },
   "source": [
    "Inspired by https://www.pinecone.io/learn/langgraph-research-agent/\n",
    "\n",
    "**Research agents** are multi-step LLM agents that through multiple steps can produce in depth research reports on a topic of our choosing.\n",
    "\n",
    "LangGraph agent that retrieve information form different LLMs and Tavily web search in order to respond to the request of the user.\n",
    "\n",
    "So you need the keys to call the API of OpenAI, Tavily and HuggingFace."
   ]
  },
  {
   "cell_type": "code",
   "execution_count": 113,
   "metadata": {
    "colab": {
     "base_uri": "https://localhost:8080/"
    },
    "id": "TCVLlfNyAtxD",
    "outputId": "658c89aa-52b6-4663-cfb7-1391d2a1170d"
   },
   "outputs": [],
   "source": [
    "import getpass\n",
    "import os\n",
    "\n",
    "\n",
    "def _set_if_undefined(var: str):\n",
    "    if not os.environ.get(var):\n",
    "        os.environ[var] = getpass.getpass(f\"Please provide your {var}\")\n",
    "\n",
    "\n",
    "_set_if_undefined(\"OPENAI_API_KEY\")\n",
    "_set_if_undefined(\"TAVILY_API_KEY\")\n",
    "_set_if_undefined(\"HF_TOKEN\")\n",
    "_set_if_undefined(\"PINECONE_API_KEY\")"
   ]
  },
  {
   "cell_type": "markdown",
   "metadata": {
    "id": "hITmdwQ7Qns0"
   },
   "source": [
    "## Graph State\n",
    "\n",
    "We will define a custom graph state to support our agent-oriented decision making."
   ]
  },
  {
   "cell_type": "code",
   "execution_count": 114,
   "metadata": {
    "id": "x7Fj9KNjQvUq"
   },
   "outputs": [],
   "source": [
    "from typing import TypedDict, Annotated, List, Union\n",
    "from langchain_core.agents import AgentAction, AgentFinish\n",
    "from langchain_core.messages import BaseMessage\n",
    "import operator\n",
    "\n",
    "\n",
    "class AgentState(TypedDict):\n",
    "    input: str\n",
    "    chat_history: list[BaseMessage]\n",
    "    intermediate_steps: Annotated[list[tuple[AgentAction, str]], operator.add]"
   ]
  },
  {
   "cell_type": "markdown",
   "metadata": {
    "id": "Fp4uQFBKQdyI"
   },
   "source": [
    "There are four parts to our agent state, those are:\n",
    "\n",
    "* `input`: this is the user's most recent query, usually this would be a question that we want to answer with our research agent.\n",
    "* `chat_history`: we are building a conversational agent that can support multiple interactions, to allow previous interactions to provide additional context throughout our agent logic we include the chat history in the agent state.\n",
    "* `intermediate_steps`: provides a record of all steps the research agent will take between the user asking a question via `input` and the agent providing a final answer. These intermediate steps are crucial to allowing the agent to follow a path of coherent actions and ultimately producing an informed final answer."
   ]
  },
  {
   "cell_type": "markdown",
   "metadata": {
    "id": "zlVbgX39Rhxj"
   },
   "source": [
    "## Custom Tools"
   ]
  },
  {
   "cell_type": "markdown",
   "metadata": {
    "id": "io-lnbpgKHzy"
   },
   "source": [
    "We will define several tools for this agent that will focus on initial data discovery, that will allow the LLM to use more tools to research more deeply via a variety of different routes."
   ]
  },
  {
   "cell_type": "markdown",
   "metadata": {},
   "source": [
    "### General LLM Knowledge"
   ]
  },
  {
   "cell_type": "markdown",
   "metadata": {},
   "source": [
    "Retrieve from the general knwoledge of different models (llama3.2:latest, mistral:latest, gpt-4o-mini)\n",
    "\n",
    "You need to install Ollama https://ollama.com/\n",
    "and pull the models\n",
    "\n",
    "`ollama pull llama3.2`\n",
    "\n",
    "`ollama pull mistral`"
   ]
  },
  {
   "cell_type": "code",
   "execution_count": 115,
   "metadata": {},
   "outputs": [
    {
     "name": "stdout",
     "output_type": "stream",
     "text": [
      "content=\"LangGraph is an open-source Python library for working with graph neural networks (GNNs) and their variants. It provides a simple and efficient way to implement and train GNNs, making it easier to leverage the strengths of these models in various machine learning tasks.\\n\\nSome key features of LangGraph include:\\n\\n1. **Simplified GNN implementation**: LangGraph abstracts away many low-level details, allowing users to focus on designing their model's architecture without getting bogged down in the implementation.\\n2. **High-performance computing**: LangGraph is optimized for performance and can handle large graphs with millions of nodes and edges.\\n3. **Support for various GNN variants**: LangGraph supports a range of GNN variants, including Graph Convolutional Networks (GCNs), Graph Attention Networks (GATs), and Graph Neural Networks (GNNs) based on the GraphSAGE algorithm.\\n4. **Easy integration with popular deep learning frameworks**: LangGraph can be easily integrated with popular deep learning frameworks like PyTorch and TensorFlow.\\n\\nOverall, LangGraph is a powerful tool for building and training GNNs, making it an attractive choice for researchers and practitioners working in areas like computer vision, natural language processing, and graph-structured data analysis.\" additional_kwargs={} response_metadata={'model': 'llama3.2:latest', 'created_at': '2024-11-03T20:10:50.55627Z', 'message': {'role': 'assistant', 'content': ''}, 'done_reason': 'stop', 'done': True, 'total_duration': 5505187417, 'load_duration': 33394042, 'prompt_eval_count': 30, 'prompt_eval_duration': 602874000, 'eval_count': 253, 'eval_duration': 4868001000} id='run-f531e12b-01c1-4adb-9138-db7de90db352-0' usage_metadata={'input_tokens': 30, 'output_tokens': 253, 'total_tokens': 283}\n",
      "LangGraph is an open-source Python library for working with graph neural networks (GNNs) and their variants. It provides a simple and efficient way to implement and train GNNs, making it easier to leverage the strengths of these models in various machine learning tasks.\n",
      "\n",
      "Some key features of LangGraph include:\n",
      "\n",
      "1. **Simplified GNN implementation**: LangGraph abstracts away many low-level details, allowing users to focus on designing their model's architecture without getting bogged down in the implementation.\n",
      "2. **High-performance computing**: LangGraph is optimized for performance and can handle large graphs with millions of nodes and edges.\n",
      "3. **Support for various GNN variants**: LangGraph supports a range of GNN variants, including Graph Convolutional Networks (GCNs), Graph Attention Networks (GATs), and Graph Neural Networks (GNNs) based on the GraphSAGE algorithm.\n",
      "4. **Easy integration with popular deep learning frameworks**: LangGraph can be easily integrated with popular deep learning frameworks like PyTorch and TensorFlow.\n",
      "\n",
      "Overall, LangGraph is a powerful tool for building and training GNNs, making it an attractive choice for researchers and practitioners working in areas like computer vision, natural language processing, and graph-structured data analysis.\n"
     ]
    }
   ],
   "source": [
    "from langchain_ollama import ChatOllama\n",
    "\n",
    "llmOlama = ChatOllama(model=\"llama3.2:latest\")\n",
    "results = llmOlama.invoke(\"What is LangGraph?\")\n",
    "print(results)\n",
    "print(results.content)"
   ]
  },
  {
   "cell_type": "markdown",
   "metadata": {},
   "source": [
    "Format the result"
   ]
  },
  {
   "cell_type": "code",
   "execution_count": 116,
   "metadata": {},
   "outputs": [
    {
     "name": "stdout",
     "output_type": "stream",
     "text": [
      "LangGraph is an open-source Python library for working with graph neural networks (GNNs) and their variants. It provides a simple and efficient way to implement and train GNNs, making it easier to leverage the strengths of these models in various machine learning tasks.\n",
      "\n",
      "Some key features of LangGraph include:\n",
      "\n",
      "1. **Simplified GNN implementation**: LangGraph abstracts away many low-level details, allowing users to focus on designing their model's architecture without getting bogged down in the implementation.\n",
      "2. **High-performance computing**: LangGraph is optimized for performance and can handle large graphs with millions of nodes and edges.\n",
      "3. **Support for various GNN variants**: LangGraph supports a range of GNN variants, including Graph Convolutional Networks (GCNs), Graph Attention Networks (GATs), and Graph Neural Networks (GNNs) based on the GraphSAGE algorithm.\n",
      "4. **Easy integration with popular deep learning frameworks**: LangGraph can be easily integrated with popular deep learning frameworks like PyTorch and TensorFlow.\n",
      "\n",
      "Overall, LangGraph is a powerful tool for building and training GNNs, making it an attractive choice for researchers and practitioners working in areas like computer vision, natural language processing, and graph-structured data analysis.\n",
      "[Info provided by llama3.2:latest]\n"
     ]
    }
   ],
   "source": [
    "contexts = f\"{results.content}\\n[Info provided by {llmOlama.model}]\"\n",
    "print(contexts)"
   ]
  },
  {
   "cell_type": "markdown",
   "metadata": {},
   "source": [
    "We put this process in a tool"
   ]
  },
  {
   "cell_type": "code",
   "execution_count": 117,
   "metadata": {},
   "outputs": [],
   "source": [
    "from langchain_core.tools import tool\n",
    "from langchain_ollama import ChatOllama\n",
    "\n",
    "@tool(\"llm_knowledge_llama\")\n",
    "def llm_knowledge_llama(query: str):\n",
    "    \"\"\"Finds general knowledge information using the knowlwdge of the LLM llama3.2, it's an inexpensive tool, but not very powerful.\"\"\"\n",
    "    try:\n",
    "        llmLlama = ChatOllama(model=\"llama3.2:latest\")\n",
    "        results = llmLlama.invoke(query)\n",
    "        contexts = f\"{results.content}\\n[Info provided by {llmLlama.model}]\"\n",
    "    except Exception as e:\n",
    "        print(f\"Error: {str(e)}\")\n",
    "        contexts = f\"Error: {str(e)}\"\n",
    "    return contexts\n",
    "    \n",
    "@tool(\"llm_knowledge_mistral\")\n",
    "def llm_knowledge_mistral(query: str):\n",
    "    \"\"\"Finds general knowledge information using the knowlwdge of the LLM mistral, it's an inexpensive tool, but not very powerful.\"\"\"\n",
    "    try:\n",
    "        llmMistral = ChatOllama(model=\"mistral:latest\")\n",
    "        results = llmMistral.invoke(query)\n",
    "        contexts = f\"{results.content}\\n[Info provided by {llmMistral.model}]\"\n",
    "    except Exception as e:\n",
    "        print(f\"Error: {str(e)}\")\n",
    "        contexts = f\"Error: {str(e)}\"\n",
    "    return contexts\n",
    "\n",
    "@tool(\"llm_knowledge_gpt4o\")\n",
    "def llm_knowledge_gpt4o(query: str):\n",
    "    \"\"\"Finds general knowledge information using the knowlwdge of the LLM GTP-4o.mini, it's an expensive tool, but more powerful.\n",
    "    Use this tool if you have not gotten relevant information from other tools\"\"\"\n",
    "    try:\n",
    "        llm = ChatOpenAI(model=\"gpt-4o-mini\")\n",
    "        results = llm.invoke(query)\n",
    "        contexts = f\"{results.content}\\n[Info provided by gpt-4o-mini]\"\n",
    "    except Exception as e:\n",
    "        print(f\"Error: {str(e)}\")\n",
    "        contexts = f\"Error: {str(e)}\"\n",
    "    return contexts"
   ]
  },
  {
   "cell_type": "code",
   "execution_count": 118,
   "metadata": {},
   "outputs": [
    {
     "name": "stdout",
     "output_type": "stream",
     "text": [
      "LangGraph is an open-source, modular framework for creating graph databases. It allows developers to build graph databases that support a wide range of query types and data models.\n",
      "\n",
      "LangGraph was designed to be highly customizable and flexible, with a focus on simplicity and ease of use. It provides a high-level API that abstracts away many of the complexities of building a graph database from scratch, allowing developers to focus on modeling their data and writing queries.\n",
      "\n",
      "Some key features of LangGraph include:\n",
      "\n",
      "1. Modular architecture: LangGraph is designed as a collection of modular components that can be easily extended or replaced.\n",
      "2. Query language: LangGraph has its own query language, which allows developers to write queries in a declarative style.\n",
      "3. Data model: LangGraph supports a wide range of data models, including nodes, edges, and properties.\n",
      "4. Indexing: LangGraph provides support for indexing, which allows for efficient querying of graph data.\n",
      "5. Acquaintance with various graph algorithms: LangGraph is familiar with multiple graph algorithms.\n",
      "\n",
      "LangGraph has several advantages over other graph databases, such as:\n",
      "\n",
      "* Easy to use and learn\n",
      "* Highly customizable\n",
      "* Scalable and high-performance\n",
      "\n",
      "LangGraph can be used in a variety of applications, including:\n",
      "\n",
      "* Social network analysis\n",
      "* Network traffic analysis\n",
      "* Recommendation systems\n",
      "* Knowledge graphs\n",
      "\n",
      "Overall, LangGraph is an excellent choice for anyone looking to build a graph database that meets their specific needs.\n",
      "[Info provided by llama3.2:latest]\n"
     ]
    }
   ],
   "source": [
    "print(llm_knowledge_llama.invoke(\"What is LangGraph?\"))"
   ]
  },
  {
   "cell_type": "markdown",
   "metadata": {
    "id": "vLX1N7oWKiNZ"
   },
   "source": [
    "### Web Search"
   ]
  },
  {
   "cell_type": "markdown",
   "metadata": {
    "id": "FsOutTz9KjoL"
   },
   "source": [
    "The web search tool will provide the agent with access to web search. It will be instructed to use this for more general knowledge queries."
   ]
  },
  {
   "cell_type": "code",
   "execution_count": 119,
   "metadata": {
    "id": "vuv_exwsH8ZJ"
   },
   "outputs": [
    {
     "name": "stdout",
     "output_type": "stream",
     "text": [
      "[{'url': 'https://www.langchain.com/langgraph', 'content': 'LangGraph is a stateful, orchestration framework that brings added control to agent workflows. LangGraph Cloud is a service for deploying and scaling LangGraph applications, with a built-in Studio for prototyping, debugging, and sharing LangGraph applications.'}, {'url': 'https://www.datacamp.com/tutorial/langgraph-tutorial', 'content': 'LangGraph is a library within the LangChain ecosystem designed to tackle these challenges head-on. LangGraph provides a framework for defining, coordinating, and executing multiple LLM agents (or chains) in a structured manner. It simplifies the development process by enabling the creation of cyclical graphs, which are essential for developing'}, {'url': 'https://towardsdatascience.com/from-basics-to-advanced-exploring-langgraph-e8c1cf4db787', 'content': \"LangGraph is a low-level framework that offers extensive customisation options, allowing you to build precisely what you need. Since LangGraph is built on top of LangChain, it's seamlessly integrated into its ecosystem, making it easy to leverage existing tools and components. However, there are areas where LangGrpah could be improved:\"}]\n"
     ]
    }
   ],
   "source": [
    "from langchain_community.tools.tavily_search import TavilySearchResults\n",
    "\n",
    "web_search = TavilySearchResults(max_results=3, include_answer=True, include_raw_content=True, include_images=True)\n",
    "results = web_search.invoke(\"What is LangGraph?\")\n",
    "print(results)"
   ]
  },
  {
   "cell_type": "code",
   "execution_count": 120,
   "metadata": {
    "id": "KklJP-XSTqLG"
   },
   "outputs": [
    {
     "name": "stdout",
     "output_type": "stream",
     "text": [
      "LangGraph is a stateful, orchestration framework that brings added control to agent workflows. LangGraph Cloud is a service for deploying and scaling LangGraph applications, with a built-in Studio for prototyping, debugging, and sharing LangGraph applications.\n",
      "https://www.langchain.com/langgraph\n",
      "---\n",
      "LangGraph is a library within the LangChain ecosystem designed to tackle these challenges head-on. LangGraph provides a framework for defining, coordinating, and executing multiple LLM agents (or chains) in a structured manner. It simplifies the development process by enabling the creation of cyclical graphs, which are essential for developing\n",
      "https://www.datacamp.com/tutorial/langgraph-tutorial\n",
      "---\n",
      "LangGraph is a low-level framework that offers extensive customisation options, allowing you to build precisely what you need. Since LangGraph is built on top of LangChain, it's seamlessly integrated into its ecosystem, making it easy to leverage existing tools and components. However, there are areas where LangGrpah could be improved:\n",
      "https://towardsdatascience.com/from-basics-to-advanced-exploring-langgraph-e8c1cf4db787\n"
     ]
    }
   ],
   "source": [
    "contexts = \"\\n---\\n\".join(\n",
    "    [\"\\n\".join([x[\"content\"], x[\"url\"]]) for x in results]\n",
    ")\n",
    "\n",
    "print(contexts)"
   ]
  },
  {
   "cell_type": "markdown",
   "metadata": {
    "id": "ZtmOt4nQH4KS"
   },
   "source": [
    "We put this process into a tool:"
   ]
  },
  {
   "cell_type": "code",
   "execution_count": 121,
   "metadata": {
    "id": "TYmOL54xH6GH"
   },
   "outputs": [],
   "source": [
    "from langchain_core.tools import tool\n",
    "from langchain_community.tools.tavily_search import TavilySearchResults\n",
    "\n",
    "@tool(\"web_search\")\n",
    "def web_search(query: str):\n",
    "    \"\"\"Finds general knowledge information using Tavily Web Search. Can also be used\n",
    "    to augment more 'general' knowledge to a previous specialist query.\n",
    "    It's an inexpensive tool, but it can find recent and niche information.\"\"\"\n",
    "    web_search = TavilySearchResults(max_results=3, include_answer=True, include_raw_content=True, include_images=True)\n",
    "    results = web_search.invoke(query)\n",
    "    contexts = \"\\n---\\n\".join(\n",
    "        [\"\\n\".join([x[\"content\"], x[\"url\"]]) for x in results]\n",
    "    )\n",
    "    return contexts"
   ]
  },
  {
   "cell_type": "markdown",
   "metadata": {
    "id": "KDBmpJ0URzKS"
   },
   "source": [
    "### RAG"
   ]
  },
  {
   "cell_type": "markdown",
   "metadata": {},
   "source": [
    "We setup a collection in Pinecone taking info from a the prechuncket dataset v2 of the AI ArXiv dataset, available on Hugging Face Datasets at [`jamescalam/ai-arxiv2-chunks`](https://huggingface.co/datasets/jamescalam/ai-arxiv2-chunks)"
   ]
  },
  {
   "cell_type": "code",
   "execution_count": 123,
   "metadata": {},
   "outputs": [
    {
     "name": "stdin",
     "output_type": "stream",
     "text": [
      "Do you want to load the dataset form Hugging Face? (y/n):  n\n"
     ]
    },
    {
     "name": "stdout",
     "output_type": "stream",
     "text": [
      "Dataset not loaded.\n"
     ]
    }
   ],
   "source": [
    "from datasets import load_dataset\n",
    "\n",
    "# Ask the user if they want to run the code block\n",
    "load_dataset = input(\"Do you want to load the dataset form Hugging Face? (y/n): \")\n",
    "\n",
    "if load_dataset.lower() == 'y':\n",
    "    dataset = load_dataset(\"jamescalam/ai-arxiv2-semantic-chunks\", split=\"train\")\n",
    "    dataset\n",
    "    dataset[0]\n",
    "else:\n",
    "    print(\"Dataset not loaded.\")"
   ]
  },
  {
   "cell_type": "markdown",
   "metadata": {},
   "source": [
    "Build the knwoledge base on Pinecone"
   ]
  },
  {
   "cell_type": "code",
   "execution_count": 124,
   "metadata": {},
   "outputs": [],
   "source": [
    "import os\n",
    "from getpass import getpass\n",
    "from semantic_router.encoders import OpenAIEncoder\n",
    "\n",
    "encoder = OpenAIEncoder(name=\"text-embedding-3-small\")"
   ]
  },
  {
   "cell_type": "code",
   "execution_count": 125,
   "metadata": {},
   "outputs": [
    {
     "data": {
      "text/plain": [
       "1536"
      ]
     },
     "execution_count": 125,
     "metadata": {},
     "output_type": "execute_result"
    }
   ],
   "source": [
    "from pinecone import Pinecone\n",
    "from pinecone import ServerlessSpec\n",
    "\n",
    "# initialize connection to pinecone (get API key at app.pinecone.io)\n",
    "PINECONE_API_KEY = os.getenv(\"PINECONE_API_KEY\") or getpass(\"Pinecone API key: \")\n",
    "\n",
    "# configure client\n",
    "pc = Pinecone(api_key=PINECONE_API_KEY)\n",
    "\n",
    "spec = ServerlessSpec(\n",
    "    cloud=\"aws\", region=\"us-east-1\"   #us-west-2\n",
    ")\n",
    "\n",
    "dims = len(encoder([\"some random text\"])[0])\n",
    "dims"
   ]
  },
  {
   "cell_type": "code",
   "execution_count": 126,
   "metadata": {},
   "outputs": [
    {
     "name": "stdout",
     "output_type": "stream",
     "text": [
      "Skipped...\n"
     ]
    },
    {
     "data": {
      "text/plain": [
       "{'dimension': 1536,\n",
       " 'index_fullness': 0.0,\n",
       " 'namespaces': {'': {'vector_count': 10000}},\n",
       " 'total_vector_count': 10000}"
      ]
     },
     "execution_count": 126,
     "metadata": {},
     "output_type": "execute_result"
    }
   ],
   "source": [
    "import time\n",
    "\n",
    "index_name = \"langgraph-research-agent\"\n",
    "\n",
    "if load_dataset.lower() == 'y':\n",
    "    # check if index already exists (it shouldn't if this is first time)\n",
    "    if index_name not in pc.list_indexes().names():\n",
    "        # if does not exist, create index\n",
    "        pc.create_index(\n",
    "            index_name,\n",
    "            dimension=dims,  # dimensionality of embed 3\n",
    "            metric='dotproduct',\n",
    "            spec=spec\n",
    "        )\n",
    "        # wait for index to be initialized\n",
    "        while not pc.describe_index(index_name).status['ready']:\n",
    "            time.sleep(1)\n",
    "else:\n",
    "    print(\"Skipped...\")\n",
    "    \n",
    "# connect to index\n",
    "indexPinecone = pc.Index(index_name)\n",
    "time.sleep(1)\n",
    "# view indexPinecone stats\n",
    "indexPinecone.describe_index_stats()"
   ]
  },
  {
   "cell_type": "markdown",
   "metadata": {},
   "source": [
    "Populate the knowledge base with the Hugging Face dataset"
   ]
  },
  {
   "cell_type": "code",
   "execution_count": 131,
   "metadata": {},
   "outputs": [
    {
     "name": "stdout",
     "output_type": "stream",
     "text": [
      "Skipped...\n",
      "{'matches': [{'id': '2310.12773#56',\n",
      "              'metadata': {'arxiv_id': '2310.12773',\n",
      "                           'content': 'Stanford alpaca: An '\n",
      "                                      'instruction-following llama model, '\n",
      "                                      '2023. Hugo Touvron, Thibaut Lavril, '\n",
      "                                      'Gautier Izacard, Xavier Martinet, '\n",
      "                                      'Marie-Anne Lachaux, TimothÂ´ee Lacroix, '\n",
      "                                      'Baptiste Rozi`ere, Naman Goyal, Eric '\n",
      "                                      'Hambro, Faisal Azhar, Aurelien '\n",
      "                                      'Rodriguez, Ar- mand Joulin, Edouard '\n",
      "                                      'Grave, and Guillaume Lample. Llama:',\n",
      "                           'references': ['2302.13971'],\n",
      "                           'title': 'Safe RLHF: Safe Reinforcement Learning '\n",
      "                                    'from Human Feedback'},\n",
      "              'score': 0.476823,\n",
      "              'values': []},\n",
      "             {'id': '2310.05910#83',\n",
      "              'metadata': {'arxiv_id': '2310.05910',\n",
      "                           'content': '[Assistant Name]: The alpaca, known by '\n",
      "                                      'its scientific name Lama pacos, is a '\n",
      "                                      'species of South American camelid. '\n",
      "                                      'Though they share a close resemblance '\n",
      "                                      'to llamas, alpacas are typically '\n",
      "                                      'smaller in size. 27 Preprint Their '\n",
      "                                      'classification places them within the '\n",
      "                                      'family Camelidae. This family not only '\n",
      "                                      'includes the alpacas, but also consists '\n",
      "                                      'of other species such as camels, '\n",
      "                                      'llamas, guanacos, and Ë nvicuas. Each '\n",
      "                                      'of these species, while distinct, '\n",
      "                                      'shares the common traits and attributes '\n",
      "                                      'of the Camelidae family, underscoring '\n",
      "                                      'their shared evolutionary lineage. '\n",
      "                                      'User: Good job! Clear context '\n",
      "                                      '[Assistant Name] (auto reply): Thank '\n",
      "                                      'you! Itâ s a pleasure to know that you '\n",
      "                                      'found the response helpful. User:',\n",
      "                           'references': ['2302.13971'],\n",
      "                           'title': 'SALMON: Self-Alignment with '\n",
      "                                    'Principle-Following Reward Models'},\n",
      "              'score': 0.474792361,\n",
      "              'values': []}],\n",
      " 'namespace': '',\n",
      " 'usage': {'read_units': 6}}\n"
     ]
    }
   ],
   "source": [
    "from tqdm.auto import tqdm\n",
    "\n",
    "if load_dataset.lower() == 'y':\n",
    "    # easier to work with dataset as pandas dataframe\n",
    "    data = dataset.to_pandas().iloc[:10000]\n",
    "    \n",
    "    batch_size = 128\n",
    "    \n",
    "    for i in tqdm(range(0, len(data), batch_size)):\n",
    "        i_end = min(len(data), i+batch_size)\n",
    "        batch = data[i:i_end].to_dict(orient=\"records\")\n",
    "        # get batch of data\n",
    "        metadata = [{\n",
    "            \"title\": r[\"title\"],\n",
    "            \"content\": r[\"content\"],\n",
    "            \"arxiv_id\": r[\"arxiv_id\"],\n",
    "            \"references\": r[\"references\"].tolist()\n",
    "        } for r in batch]\n",
    "        # generate unique ids for each chunk\n",
    "        ids = [r[\"id\"] for r in batch]\n",
    "        # get text content to embed\n",
    "        content = [r[\"content\"] for r in batch]\n",
    "        # embed text\n",
    "        embeds = encoder(content)\n",
    "        # add to Pinecone\n",
    "        indexPinecone.upsert(vectors=zip(ids, embeds, metadata))\n",
    "else:\n",
    "    print(\"Skipped...\")\n",
    "\n",
    "# test a search on Pinecone\n",
    "xq = encoder([\"Llama\"])\n",
    "xc = indexPinecone.query(vector=xq, top_k=2, include_metadata=True)\n",
    "print(xc)"
   ]
  },
  {
   "cell_type": "markdown",
   "metadata": {},
   "source": [
    "RAG Tools"
   ]
  },
  {
   "cell_type": "code",
   "execution_count": 128,
   "metadata": {},
   "outputs": [],
   "source": [
    "from langchain_core.tools import tool\n",
    "\n",
    "def format_rag_contexts(matches: list):\n",
    "    contexts = []\n",
    "    for x in matches:\n",
    "        text = (\n",
    "            f\"Title: {x['metadata']['title']}\\n\"\n",
    "            f\"Content: {x['metadata']['content']}\\n\"\n",
    "            f\"ArXiv ID: {x['metadata']['arxiv_id']}\\n\"\n",
    "            f\"Related Papers: {x['metadata']['references']}\\n\"\n",
    "        )\n",
    "        contexts.append(text)\n",
    "    context_str = \"\\n---\\n\".join(contexts)\n",
    "    return context_str\n",
    "\n",
    "@tool(\"rag_search_filter\")\n",
    "def rag_search_filter(query: str, arxiv_id: str):\n",
    "    \"\"\"Finds information from our ArXiv database using a natural language query\n",
    "    and a specific ArXiv ID. Allows us to learn more details about a specific paper.\"\"\"\n",
    "    xq = encoder([query])\n",
    "    xc = indexPinecone.query(vector=xq, top_k=6, include_metadata=True, filter={\"arxiv_id\": arxiv_id})\n",
    "    context_str = format_rag_contexts(xc[\"matches\"])\n",
    "    return context_str\n",
    "\n",
    "@tool(\"rag_search\")\n",
    "def rag_search(query: str):\n",
    "    \"\"\"Finds specialist information on AI using a natural language query.\"\"\"\n",
    "    xq = encoder([query])\n",
    "    xc = indexPinecone.query(vector=xq, top_k=2, include_metadata=True)\n",
    "    context_str = format_rag_contexts(xc[\"matches\"])\n",
    "    return context_str"
   ]
  },
  {
   "cell_type": "markdown",
   "metadata": {
    "id": "KDBmpJ0URzKS"
   },
   "source": [
    "### Final Answer"
   ]
  },
  {
   "cell_type": "markdown",
   "metadata": {
    "id": "bWVKYuQ6R6nB"
   },
   "source": [
    "Finally, we define a \"final answer\" tool. This isn't a tool in the usual sense, instead we use it to force a particular output format from our LLM via the function/tool calling."
   ]
  },
  {
   "cell_type": "code",
   "execution_count": 100,
   "metadata": {
    "id": "UIjAlcHdfJCG"
   },
   "outputs": [],
   "source": [
    "@tool(\"final_answer\")\n",
    "def final_answer(\n",
    "    introduction: str,\n",
    "    research_steps: str,\n",
    "    main_body: str,\n",
    "    conclusion: str,\n",
    "    differences: str,\n",
    "    sources: str\n",
    "):\n",
    "    \"\"\"Returns a natural language response to the user in the form of a research\n",
    "    report. There are several sections to this report, those are:\n",
    "    - `introduction`: a short paragraph introducing the user's question and the\n",
    "    topic we are researching.\n",
    "    - `research_steps`: a few bullet points explaining the steps that were taken\n",
    "    to research your report.\n",
    "    - `main_body`: this is where the bulk of high quality and concise\n",
    "    information that answers the user's question belongs. It is 3-4 paragraphs\n",
    "    long in length.\n",
    "    - `conclusion`: this is a short single paragraph conclusion providing a\n",
    "    concise but sophisticated view on what was found.\n",
    "    - `differences`: any differences between the information taken from the different\n",
    "    sources, if there are no differences that the sources are not inconsistent with each other.\n",
    "    - `sources`: a bulletpoint list provided detailed sources for all information\n",
    "    referenced during the research process, please for LLM indacate the model used.\n",
    "    \"\"\"\n",
    "    if type(research_steps) is list:\n",
    "        research_steps = \"\\n\".join([f\"- {r}\" for r in research_steps])\n",
    "    if type(sources) is list:\n",
    "        sources = \"\\n\".join([f\"- {s}\" for s in sources])\n",
    "    return \"\""
   ]
  },
  {
   "cell_type": "markdown",
   "metadata": {
    "id": "E8OsQ3tIS-_t"
   },
   "source": [
    "## Initialize the \"Oracle\""
   ]
  },
  {
   "cell_type": "markdown",
   "metadata": {
    "id": "YykLRD5rXfr5"
   },
   "source": [
    "The **Oracle** LLM is our graph's decision maker. It decides which path we should take down our graph. It functions similarly to an agent but is much simpler and reliable.\n",
    "\n",
    "The Oracle consists of an LLM provided with a set of potential function calls (ie our tools) that it can decide to use — we force it to use _at least_ one of those tool using the `tool_choice=\"any\"` setting (see below). Our Oracle only makes the decision to use a tool, it doesn't execute the tool code itself (we do that seperately in our graph)."
   ]
  },
  {
   "cell_type": "markdown",
   "metadata": {
    "id": "lRlREI1wYSd0"
   },
   "source": [
    "### Oracle Prompt"
   ]
  },
  {
   "cell_type": "markdown",
   "metadata": {
    "id": "OFE638_CYUbf"
   },
   "source": [
    "Our prompt for the Oracle will emphasize it's decision making ability within the `system_prompt`, leave a placeholder for us to later insert `chat_history`, and provide a place for us to insert the user `input`."
   ]
  },
  {
   "cell_type": "code",
   "execution_count": 101,
   "metadata": {
    "id": "FBZrvHDAYmOP"
   },
   "outputs": [],
   "source": [
    "from langchain_core.prompts import ChatPromptTemplate, MessagesPlaceholder\n",
    "\n",
    "system_prompt = \"\"\"You are the oracle, the great AI decision maker.\n",
    "Given the user's query you must decide what to do with it based on the\n",
    "list of tools provided to you.\n",
    "\n",
    "If you see that a tool has been used (in the scratchpad) with a particular\n",
    "query, do NOT use that same tool with the same query again. Also, use the\n",
    "llm knowledge tool only once for a model (ie, if the tool appears in the \n",
    "scratchpad once, do not use it again, but you can use different models) \n",
    "for other tools do NOT use more than twice (ie, if the tool appears in the \n",
    "scratchpad twice, do not use it again).\n",
    "If the request is very specific it is preferable to use the most powerful tool \n",
    "even if more expensive.\n",
    "\n",
    "You should aim to collect information from a diverse range of sources before\n",
    "providing the answer to the user. Once you have collected plenty of information\n",
    "to answer the user's question (stored in the scratchpad) use the final_answer\n",
    "tool.\n",
    "Start looking for information from the cheapest tools.\n",
    "\"\"\"\n",
    "\n",
    "prompt = ChatPromptTemplate.from_messages([\n",
    "    (\"system\", system_prompt),\n",
    "    MessagesPlaceholder(variable_name=\"chat_history\"),\n",
    "    (\"user\", \"{input}\"),\n",
    "    (\"assistant\", \"scratchpad: {scratchpad}\"),\n",
    "])"
   ]
  },
  {
   "cell_type": "markdown",
   "metadata": {
    "id": "euGh0137Ynxv"
   },
   "source": [
    "Next, we must initialize our `llm` (for this we use `gpt-4o`) and then create the _runnable_ pipeline of our Oracle.\n",
    "\n",
    "The runnable connects our inputs (the user `input` and `chat_history`) to our `prompt`, and our `prompt` to our `llm`. It is also where we _bind_ our tools to the LLM and enforce function calling via `tool_choice=\"any\"`."
   ]
  },
  {
   "cell_type": "markdown",
   "metadata": {
    "id": "ESCSupKbTuVR"
   },
   "source": [
    "Test the agent quickly to confirm it is functional:"
   ]
  },
  {
   "cell_type": "code",
   "execution_count": 102,
   "metadata": {
    "id": "0gKxRe4tTBHX"
   },
   "outputs": [],
   "source": [
    "from langchain_core.messages import ToolCall, ToolMessage\n",
    "from langchain_openai import ChatOpenAI\n",
    "\n",
    "llm = ChatOpenAI(\n",
    "    model=\"gpt-4o\",\n",
    "    openai_api_key=os.environ[\"OPENAI_API_KEY\"],\n",
    "    temperature=0\n",
    ")\n",
    "\n",
    "tools=[\n",
    "    llm_knowledge_gpt4o,\n",
    "    llm_knowledge_llama,\n",
    "    llm_knowledge_mistral,\n",
    "    web_search,\n",
    "    rag_search_filter,\n",
    "    rag_search,\n",
    "    final_answer\n",
    "]\n",
    "\n",
    "# define a function to transform intermediate_steps from list\n",
    "# of AgentAction to scratchpad string\n",
    "def create_scratchpad(intermediate_steps: list[AgentAction]):\n",
    "    research_steps = []\n",
    "    for i, action in enumerate(intermediate_steps):\n",
    "        if action.log != \"TBD\":\n",
    "            # this was the ToolExecution\n",
    "            research_steps.append(\n",
    "                f\"Tool: {action.tool}, input: {action.tool_input}\\n\"\n",
    "                f\"Output: {action.log}\"\n",
    "            )\n",
    "    return \"\\n---\\n\".join(research_steps)\n",
    "\n",
    "oracle = (\n",
    "    {\n",
    "        \"input\": lambda x: x[\"input\"],\n",
    "        \"chat_history\": lambda x: x[\"chat_history\"],\n",
    "        \"scratchpad\": lambda x: create_scratchpad(\n",
    "            intermediate_steps=x[\"intermediate_steps\"]\n",
    "        ),\n",
    "    }\n",
    "    | prompt\n",
    "    | llm.bind_tools(tools, tool_choice=\"any\")\n",
    ")"
   ]
  },
  {
   "cell_type": "code",
   "execution_count": 103,
   "metadata": {
    "colab": {
     "base_uri": "https://localhost:8080/"
    },
    "id": "p5xMQ8ajTxFQ",
    "outputId": "0e7b08bc-9b32-425b-cf57-8255b4b6591b"
   },
   "outputs": [
    {
     "data": {
      "text/plain": [
       "AIMessage(content='', additional_kwargs={'tool_calls': [{'id': 'call_PzhWl3ko0l7ViUguzgWZ02EK', 'function': {'arguments': '{\"query\": \"LangGraph\"}', 'name': 'llm_knowledge_llama'}, 'type': 'function'}, {'id': 'call_zKb189GmEYQwQfH7RYTscxkZ', 'function': {'arguments': '{\"query\": \"LangGraph\"}', 'name': 'llm_knowledge_mistral'}, 'type': 'function'}], 'refusal': None}, response_metadata={'token_usage': {'completion_tokens': 55, 'prompt_tokens': 785, 'total_tokens': 840, 'completion_tokens_details': {'audio_tokens': None, 'reasoning_tokens': 0}, 'prompt_tokens_details': {'audio_tokens': None, 'cached_tokens': 0}}, 'model_name': 'gpt-4o-2024-08-06', 'system_fingerprint': 'fp_9e15ccd6a4', 'finish_reason': 'tool_calls', 'logprobs': None}, id='run-899eefe3-00cf-4c86-a6b2-1115e6df49a6-0', tool_calls=[{'name': 'llm_knowledge_llama', 'args': {'query': 'LangGraph'}, 'id': 'call_PzhWl3ko0l7ViUguzgWZ02EK', 'type': 'tool_call'}, {'name': 'llm_knowledge_mistral', 'args': {'query': 'LangGraph'}, 'id': 'call_zKb189GmEYQwQfH7RYTscxkZ', 'type': 'tool_call'}], usage_metadata={'input_tokens': 785, 'output_tokens': 55, 'total_tokens': 840, 'input_token_details': {'cache_read': 0}, 'output_token_details': {'reasoning': 0}})"
      ]
     },
     "execution_count": 103,
     "metadata": {},
     "output_type": "execute_result"
    }
   ],
   "source": [
    "inputs = {\n",
    "    \"input\": \"What is LangGraph?\",\n",
    "    \"chat_history\": [],\n",
    "    \"intermediate_steps\": [],\n",
    "}\n",
    "out = oracle.invoke(inputs)\n",
    "out"
   ]
  },
  {
   "cell_type": "markdown",
   "metadata": {
    "id": "zTwZ-7ZtZXq2"
   },
   "source": [
    "It is running but we are returning a lot of output here, we can narrow this down to what we need — ie, the chosen tool name and generated input args for the tool."
   ]
  },
  {
   "cell_type": "code",
   "execution_count": 104,
   "metadata": {
    "colab": {
     "base_uri": "https://localhost:8080/",
     "height": 55
    },
    "id": "u7wUMr2BUBt7",
    "outputId": "c32b2241-8657-4845-da30-78519e8b9473"
   },
   "outputs": [
    {
     "name": "stdout",
     "output_type": "stream",
     "text": [
      "1. llm_knowledge_llama {'query': 'LangGraph'}\n",
      "2. llm_knowledge_mistral {'query': 'LangGraph'}\n"
     ]
    }
   ],
   "source": [
    "for index, call in enumerate(out.tool_calls, start=1):\n",
    "    print(f\"{index}. {call.get('name', 'not found')} {call.get('args', '')}\")"
   ]
  },
  {
   "cell_type": "markdown",
   "metadata": {
    "id": "lbO6IMEZaK4q"
   },
   "source": [
    "We can see now that our Oracle decided to use the cheapest tool."
   ]
  },
  {
   "cell_type": "markdown",
   "metadata": {
    "id": "h6pAxC9kcY1F"
   },
   "source": [
    "## Define Nodes for Graph"
   ]
  },
  {
   "cell_type": "markdown",
   "metadata": {
    "id": "o8ykjVWoa0kz"
   },
   "source": [
    "We will be passing the tool use decision to our `router` which will _route_ the output to the chosen node component to run (we define these below) based on the `out.tool_calls[0][\"name\"]` value."
   ]
  },
  {
   "cell_type": "code",
   "execution_count": 105,
   "metadata": {
    "id": "LcRVPIuAgcoG"
   },
   "outputs": [],
   "source": [
    "def run_oracle(state: list):\n",
    "    print(\"run_oracle\")\n",
    "    print(f\"intermediate_steps: {state['intermediate_steps']}\")\n",
    "    out = oracle.invoke(state)\n",
    "    tool_name = out.tool_calls[0][\"name\"]\n",
    "    tool_args = out.tool_calls[0][\"args\"]\n",
    "    action_out = AgentAction(\n",
    "        tool=tool_name,\n",
    "        tool_input=tool_args,\n",
    "        log=\"TBD\"\n",
    "    )\n",
    "    return {\n",
    "        \"intermediate_steps\": [action_out]\n",
    "    }\n",
    "\n",
    "def router(state: list):\n",
    "    # return the tool name to use\n",
    "    if isinstance(state[\"intermediate_steps\"], list):\n",
    "        return state[\"intermediate_steps\"][-1].tool\n",
    "    else:\n",
    "        # if we output bad format go to final answer\n",
    "        print(\"Router invalid format\")\n",
    "        return \"final_answer\""
   ]
  },
  {
   "cell_type": "markdown",
   "metadata": {
    "id": "PtBEhoDOSOCQ"
   },
   "source": [
    "All of our tools can be run using the same function logic, which we define with `run_tool`. The input parameters to our tool call and the resultant output are added to our graph state's `intermediate_steps` parameter."
   ]
  },
  {
   "cell_type": "code",
   "execution_count": 106,
   "metadata": {
    "id": "-JGJGvDVcbvq"
   },
   "outputs": [],
   "source": [
    "tool_str_to_func = {\n",
    "    \"llm_knowledge_gpt4o\": llm_knowledge_gpt4o,\n",
    "    \"llm_knowledge_llama\": llm_knowledge_llama,\n",
    "    \"llm_knowledge_mistral\": llm_knowledge_mistral,\n",
    "    \"web_search\": web_search,\n",
    "    \"rag_search_filter\": rag_search_filter,\n",
    "    \"rag_search\": rag_search,\n",
    "    \"final_answer\": final_answer\n",
    "}\n",
    "\n",
    "def run_tool(state: list):\n",
    "    # use this as helper function so we repeat less code\n",
    "    tool_name = state[\"intermediate_steps\"][-1].tool\n",
    "    tool_args = state[\"intermediate_steps\"][-1].tool_input\n",
    "    print(f\"{tool_name}.invoke(input={tool_args})\")\n",
    "    # run tool\n",
    "    out = tool_str_to_func[tool_name].invoke(input=tool_args)\n",
    "    action_out = AgentAction(\n",
    "        tool=tool_name,\n",
    "        tool_input=tool_args,\n",
    "        log=str(out)\n",
    "    )\n",
    "    return {\"intermediate_steps\": [action_out]}"
   ]
  },
  {
   "cell_type": "markdown",
   "metadata": {
    "id": "zwv4EsTKeZzh"
   },
   "source": [
    "## Define Graph"
   ]
  },
  {
   "cell_type": "code",
   "execution_count": 107,
   "metadata": {
    "id": "LAkcBE5pebXv"
   },
   "outputs": [],
   "source": [
    "from langgraph.graph import StateGraph, END\n",
    "\n",
    "graph = StateGraph(AgentState)\n",
    "\n",
    "graph.add_node(\"oracle\", run_oracle)\n",
    "graph.add_node(\"llm_knowledge_gpt4o\", run_tool)\n",
    "graph.add_node(\"llm_knowledge_llama\", run_tool)\n",
    "graph.add_node(\"llm_knowledge_mistral\", run_tool)\n",
    "graph.add_node(\"web_search\", run_tool)\n",
    "graph.add_node(\"rag_search_filter\", run_tool)\n",
    "graph.add_node(\"rag_search\", run_tool)\n",
    "graph.add_node(\"final_answer\", run_tool)\n",
    "\n",
    "graph.set_entry_point(\"oracle\")\n",
    "\n",
    "graph.add_conditional_edges(\n",
    "    source=\"oracle\",  # where in graph to start\n",
    "    path=router,  # function to determine which node is called\n",
    ")\n",
    "\n",
    "# create edges from each tool back to the oracle\n",
    "for tool_obj in tools:\n",
    "    if tool_obj.name != \"final_answer\":\n",
    "        graph.add_edge(tool_obj.name, \"oracle\")\n",
    "\n",
    "# if anything goes to final answer, it must then move to END\n",
    "graph.add_edge(\"final_answer\", END)\n",
    "\n",
    "runnable = graph.compile()"
   ]
  },
  {
   "cell_type": "code",
   "execution_count": 108,
   "metadata": {
    "colab": {
     "base_uri": "https://localhost:8080/",
     "height": 467
    },
    "id": "EmwkoQkthb__",
    "outputId": "f2cd4b01-b9f6-49c2-e4bf-3c235ec15aa0"
   },
   "outputs": [
    {
     "data": {
      "image/jpeg": "[encoded data removed]",
      "text/plain": [
       "<IPython.core.display.Image object>"
      ]
     },
     "metadata": {},
     "output_type": "display_data"
    }
   ],
   "source": [
    "from IPython.display import Image, display\n",
    "\n",
    "display(Image(runnable.get_graph().draw_mermaid_png()))\n"
   ]
  },
  {
   "cell_type": "markdown",
   "metadata": {
    "id": "QmrXAdCwiN8N"
   },
   "source": [
    "## Building Reports"
   ]
  },
  {
   "cell_type": "markdown",
   "metadata": {
    "id": "nPJiet2niPnQ"
   },
   "source": [
    "Let's test our research agent. First, I want to try on something simple (although not within the intended use-case of our agent):"
   ]
  },
  {
   "cell_type": "code",
   "execution_count": 89,
   "metadata": {
    "colab": {
     "base_uri": "https://localhost:8080/"
    },
    "id": "eghr8ZBI-IJL",
    "outputId": "620075bc-51cb-444c-8cd9-9580790f0f7f"
   },
   "outputs": [
    {
     "name": "stdout",
     "output_type": "stream",
     "text": [
      "run_oracle\n",
      "intermediate_steps: []\n",
      "llm_knowledge_llama.invoke(input={'query': 'LangGraph'})\n",
      "run_oracle\n",
      "intermediate_steps: [AgentAction(tool='llm_knowledge_llama', tool_input={'query': 'LangGraph'}, log='TBD'), AgentAction(tool='llm_knowledge_llama', tool_input={'query': 'LangGraph'}, log=\"LangGraph is a lightweight graph database designed for the Go programming language. It's primarily used for building graph-based applications, such as social networks, recommendation systems, and knowledge graphs.\\n\\nHere are some key features of LangGraph:\\n\\n1. **In-memory data storage**: LangGraph stores data in memory by default, which provides faster query performance and better scalability.\\n2. **High-performance queries**: LangGraph supports high-performance queries using CQL (Cypher-like query language) or SQL.\\n3. **Graph traversal algorithms**: LangGraph includes built-in support for graph traversal algorithms like Dijkstra's algorithm and Breadth-First Search (BFS).\\n4. **Data modeling**: LangGraph allows you to define data models using a simple, JSON-based schema.\\n5. **Scalability**: LangGraph is designed to scale horizontally, making it suitable for large-scale graph applications.\\n\\nLangGraph has several use cases, including:\\n\\n1. **Social networks**: Building social networks with features like friend connections, follower relationships, and community management.\\n2. **Recommendation systems**: Implementing recommendation engines that suggest products or content based on user behavior and preferences.\\n3. **Knowledge graphs**: Creating knowledge graphs to represent complex relationships between entities, concepts, and ideas.\\n\\nLangGraph has some advantages over other graph databases:\\n\\n1. **Lightweight**: LangGraph is designed to be lightweight and efficient, making it suitable for resource-constrained environments.\\n2. **Easy integration**: LangGraph integrates well with the Go ecosystem, making it easy to use in Go-based applications.\\n\\nHowever, LangGraph also has some limitations:\\n\\n1. **Limited scalability**: While LangGraph can scale horizontally, it may not perform as well as other graph databases on extremely large datasets.\\n2. **Limited query capabilities**: LangGraph's query language is simplified compared to more powerful query languages like Cypher or Gremlin.\\n\\nOverall, LangGraph is a good choice for building small to medium-sized graph applications that require high-performance queries and in-memory data storage.\\n[Info provided by llama3.2:latest]\")]\n",
      "web_search.invoke(input={'query': 'LangGraph'})\n",
      "run_oracle\n",
      "intermediate_steps: [AgentAction(tool='llm_knowledge_llama', tool_input={'query': 'LangGraph'}, log='TBD'), AgentAction(tool='llm_knowledge_llama', tool_input={'query': 'LangGraph'}, log=\"LangGraph is a lightweight graph database designed for the Go programming language. It's primarily used for building graph-based applications, such as social networks, recommendation systems, and knowledge graphs.\\n\\nHere are some key features of LangGraph:\\n\\n1. **In-memory data storage**: LangGraph stores data in memory by default, which provides faster query performance and better scalability.\\n2. **High-performance queries**: LangGraph supports high-performance queries using CQL (Cypher-like query language) or SQL.\\n3. **Graph traversal algorithms**: LangGraph includes built-in support for graph traversal algorithms like Dijkstra's algorithm and Breadth-First Search (BFS).\\n4. **Data modeling**: LangGraph allows you to define data models using a simple, JSON-based schema.\\n5. **Scalability**: LangGraph is designed to scale horizontally, making it suitable for large-scale graph applications.\\n\\nLangGraph has several use cases, including:\\n\\n1. **Social networks**: Building social networks with features like friend connections, follower relationships, and community management.\\n2. **Recommendation systems**: Implementing recommendation engines that suggest products or content based on user behavior and preferences.\\n3. **Knowledge graphs**: Creating knowledge graphs to represent complex relationships between entities, concepts, and ideas.\\n\\nLangGraph has some advantages over other graph databases:\\n\\n1. **Lightweight**: LangGraph is designed to be lightweight and efficient, making it suitable for resource-constrained environments.\\n2. **Easy integration**: LangGraph integrates well with the Go ecosystem, making it easy to use in Go-based applications.\\n\\nHowever, LangGraph also has some limitations:\\n\\n1. **Limited scalability**: While LangGraph can scale horizontally, it may not perform as well as other graph databases on extremely large datasets.\\n2. **Limited query capabilities**: LangGraph's query language is simplified compared to more powerful query languages like Cypher or Gremlin.\\n\\nOverall, LangGraph is a good choice for building small to medium-sized graph applications that require high-performance queries and in-memory data storage.\\n[Info provided by llama3.2:latest]\"), AgentAction(tool='web_search', tool_input={'query': 'LangGraph'}, log='TBD'), AgentAction(tool='web_search', tool_input={'query': 'LangGraph'}, log='LangGraph is a framework for creating stateful, multi-actor applications with LLMs, using cycles, controllability, and persistence. Learn how to use LangGraph with LangChain, LangSmith, and Anthropic tools to build agent and multi-agent workflows.\\nhttps://langchain-ai.github.io/langgraph/\\n---\\nLangGraph is a library within the LangChain ecosystem that simplifies the development of complex, multi-agent large language model (LLM) applications. Learn how to use LangGraph to create stateful, flexible, and scalable systems with nodes, edges, and state management.\\nhttps://www.datacamp.com/tutorial/langgraph-tutorial\\n---\\nLangGraph is a framework for building language agents as graphs. Learn how to use LangGraph to create chatbots, code assistants, planning agents, reflection agents, and more with these notebooks.\\nhttps://langchain-ai.github.io/langgraph/tutorials/')]\n",
      "final_answer.invoke(input={'introduction': 'LangGraph is a versatile framework designed for creating stateful, multi-actor applications using large language models (LLMs). It is part of the LangChain ecosystem and is used to build complex, multi-agent workflows.', 'research_steps': '- Conducted a search using the Llama LLM to gather initial information about LangGraph.\\n- Performed a web search to find more detailed and specific information about LangGraph and its applications.', 'main_body': 'LangGraph is a framework that facilitates the development of applications involving multiple language agents. It is particularly useful for creating stateful, flexible, and scalable systems. The framework allows developers to construct applications as graphs, where nodes represent different agents or processes, and edges define the interactions or data flow between these nodes. This graph-based approach is beneficial for managing complex workflows and ensuring that the system can handle multiple tasks simultaneously.\\n\\nLangGraph is integrated with tools like LangChain, LangSmith, and Anthropic, which enhance its capabilities in building agent and multi-agent workflows. These integrations allow for the creation of sophisticated applications such as chatbots, code assistants, planning agents, and reflection agents. The framework supports cycles, controllability, and persistence, making it a robust choice for applications that require continuous learning and adaptation.\\n\\nAdditionally, LangGraph is designed to be lightweight and efficient, making it suitable for environments where resources are constrained. It provides high-performance query capabilities and supports in-memory data storage, which enhances its scalability and speed. However, it may have limitations in handling extremely large datasets compared to other graph databases.', 'conclusion': 'LangGraph is a powerful tool for developers looking to create complex, multi-agent applications using LLMs. Its integration with the LangChain ecosystem and its graph-based approach make it a flexible and scalable solution for a variety of applications, from chatbots to planning agents. While it offers high performance and efficiency, developers should consider its scalability limitations for very large datasets.', 'differences': \"The information from the Llama LLM described LangGraph as a lightweight graph database for Go, which contrasts with the web search results that define it as a framework for building multi-agent applications with LLMs. The web search results provide a more current and detailed understanding of LangGraph's role within the LangChain ecosystem.\", 'sources': '- Llama LLM: LangGraph as a lightweight graph database for Go.\\n- Web Search: LangGraph as a framework for multi-agent applications with LLMs, LangChain ecosystem (https://langchain-ai.github.io/langgraph/, https://www.datacamp.com/tutorial/langgraph-tutorial).'})\n"
     ]
    }
   ],
   "source": [
    "out = runnable.invoke({\n",
    "    \"input\": \"What is LangGraph?\",\n",
    "    \"chat_history\": [],\n",
    "})"
   ]
  },
  {
   "cell_type": "markdown",
   "metadata": {
    "id": "YjwDv5zvjACg"
   },
   "source": [
    "Let's create a function to consume the agent output and format it into our report:"
   ]
  },
  {
   "cell_type": "code",
   "execution_count": 90,
   "metadata": {
    "id": "xZxjrfBfjFPl"
   },
   "outputs": [],
   "source": [
    "def build_report(output: dict):\n",
    "    research_steps = output[\"research_steps\"]\n",
    "    if type(research_steps) is list:\n",
    "        research_steps = \"\\n\".join([f\"- {r}\" for r in research_steps])\n",
    "    sources = output[\"sources\"]\n",
    "    if type(sources) is list:\n",
    "        sources = \"\\n\".join([f\"- {s}\" for s in sources])\n",
    "    return f\"\"\"\n",
    "INTRODUCTION\n",
    "------------\n",
    "{output[\"introduction\"]}\n",
    "\n",
    "RESEARCH STEPS\n",
    "--------------\n",
    "{research_steps}\n",
    "\n",
    "REPORT\n",
    "------\n",
    "{output[\"main_body\"]}\n",
    "\n",
    "CONCLUSION\n",
    "----------\n",
    "{output[\"conclusion\"]}\n",
    "\n",
    "DIFFERENCES\n",
    "----------\n",
    "{output[\"differences\"]}\n",
    "\n",
    "SOURCES\n",
    "-------\n",
    "{sources}\n",
    "\"\"\""
   ]
  },
  {
   "cell_type": "code",
   "execution_count": 91,
   "metadata": {
    "colab": {
     "base_uri": "https://localhost:8080/"
    },
    "id": "xjbPRhk8dhfs",
    "outputId": "bd56c2f8-b6af-44a5-9ee9-c12311ca0c50"
   },
   "outputs": [
    {
     "name": "stdout",
     "output_type": "stream",
     "text": [
      "\n",
      "INTRODUCTION\n",
      "------------\n",
      "LangGraph is a versatile framework designed for creating stateful, multi-actor applications using large language models (LLMs). It is part of the LangChain ecosystem and is used to build complex, multi-agent workflows.\n",
      "\n",
      "RESEARCH STEPS\n",
      "--------------\n",
      "- Conducted a search using the Llama LLM to gather initial information about LangGraph.\n",
      "- Performed a web search to find more detailed and specific information about LangGraph and its applications.\n",
      "\n",
      "REPORT\n",
      "------\n",
      "LangGraph is a framework that facilitates the development of applications involving multiple language agents. It is particularly useful for creating stateful, flexible, and scalable systems. The framework allows developers to construct applications as graphs, where nodes represent different agents or processes, and edges define the interactions or data flow between these nodes. This graph-based approach is beneficial for managing complex workflows and ensuring that the system can handle multiple tasks simultaneously.\n",
      "\n",
      "LangGraph is integrated with tools like LangChain, LangSmith, and Anthropic, which enhance its capabilities in building agent and multi-agent workflows. These integrations allow for the creation of sophisticated applications such as chatbots, code assistants, planning agents, and reflection agents. The framework supports cycles, controllability, and persistence, making it a robust choice for applications that require continuous learning and adaptation.\n",
      "\n",
      "Additionally, LangGraph is designed to be lightweight and efficient, making it suitable for environments where resources are constrained. It provides high-performance query capabilities and supports in-memory data storage, which enhances its scalability and speed. However, it may have limitations in handling extremely large datasets compared to other graph databases.\n",
      "\n",
      "CONCLUSION\n",
      "----------\n",
      "LangGraph is a powerful tool for developers looking to create complex, multi-agent applications using LLMs. Its integration with the LangChain ecosystem and its graph-based approach make it a flexible and scalable solution for a variety of applications, from chatbots to planning agents. While it offers high performance and efficiency, developers should consider its scalability limitations for very large datasets.\n",
      "\n",
      "DIFFERENCES\n",
      "----------\n",
      "The information from the Llama LLM described LangGraph as a lightweight graph database for Go, which contrasts with the web search results that define it as a framework for building multi-agent applications with LLMs. The web search results provide a more current and detailed understanding of LangGraph's role within the LangChain ecosystem.\n",
      "\n",
      "SOURCES\n",
      "-------\n",
      "- Llama LLM: LangGraph as a lightweight graph database for Go.\n",
      "- Web Search: LangGraph as a framework for multi-agent applications with LLMs, LangChain ecosystem (https://langchain-ai.github.io/langgraph/, https://www.datacamp.com/tutorial/langgraph-tutorial).\n",
      "\n"
     ]
    }
   ],
   "source": [
    "print(build_report(\n",
    "    output=out[\"intermediate_steps\"][-1].tool_input\n",
    "))"
   ]
  },
  {
   "cell_type": "markdown",
   "metadata": {
    "id": "TBgBR3PdiXIg"
   },
   "source": [
    "Now let's try with an on-topic question on AI."
   ]
  },
  {
   "cell_type": "code",
   "execution_count": 109,
   "metadata": {
    "colab": {
     "base_uri": "https://localhost:8080/"
    },
    "id": "a21f9VneePw_",
    "outputId": "5a8cba34-6819-46fc-fd30-cc58911f81f0"
   },
   "outputs": [
    {
     "name": "stdout",
     "output_type": "stream",
     "text": [
      "run_oracle\n",
      "intermediate_steps: []\n",
      "rag_search.invoke(input={'query': 'Cycles and Branching in LangGraph'})\n",
      "run_oracle\n",
      "intermediate_steps: [AgentAction(tool='rag_search', tool_input={'query': 'Cycles and Branching in LangGraph'}, log='TBD'), AgentAction(tool='rag_search', tool_input={'query': 'Cycles and Branching in LangGraph'}, log='Title: GPT-4 Doesn\\'t Know It\\'s Wrong: An Analysis of Iterative Prompting for Reasoning Problems\\nContent: are unlikely to do well on graphs with over twenty nodes. Therefore, we built our own dataset. We use GrinPy2 to handle common graph operations. Each graph is constructed using the ErdË osâ RÃ©nyi method (p = 0.4), modified so that any generation that fails to be planar or happens to be isomorphic to a previously generated one is retried. Once a successful candidate is found, it is compiled into the standard DIMACS format[1], appended with a comment containing its precalculated chromatic number. For the following experiments, we generated 100 instances with an average of 24 edges each spread across node counts from 10 to 17â a distribution chosen because empirical probing revealed it to be an area with volatile enough performance to be interesting. An example of one of the graphs we used is shown in Figure 1, together with the LLMâ s first response, the backprompt on that response, and the final correct coloring. # 3.2 Architecture for Iterative Backprompting All code and results will be made public. # Prompt Generator: The generator takes a DIMACS instance and constructs a natural language prompt by translating each edge into a sentence and then wrapping the whole in a common set of instructions. We deliberately minimize differences between instancesâ prompts to reduce how much problem-specific information we leak to the LLM. Examples of each prompt type can be found in the appendix. # Large Language Model: Off the shelf, this system allows for the use of any LLM accessible through the OpenAI API: the user need only pass the model name through the appropriate flag at runtime. The present work focuses on GPT-4, the current state of the art, because of recent claims about its \"emergent\" reasoning capabilities[3]. We provide a system role of \"You are a constraint satisfaction solver that solves various CSP problems.\" and set the temperature to 0, thus ensuring output is mostly deterministic. # Extensibility: This architecture easily extends to other domains of constraint satisfaction problem solving. In the public repository, we provide a way to add a new domain description by adding just one file to the project in plug-and-play fashion.\\nArXiv ID: 2310.12397\\nRelated Papers: [\\'2206.10498\\']\\n\\n---\\nTitle: AutoGen: Enabling Next-Gen LLM Applications via Multi-Agent Conversation\\nContent: â ¢ LangChain Agents: LangChain is a general framework for developing LLM-based applica- tions (LangChain, 2023). LangChain Agents is a subpackage for using an LLM to choose a sequence of actions. There are various types of agents in LangChain Agents, with the ReAct agent being a notable example that combines reasoning and acting when using LLMs (mainly designed for LLMs prior to ChatGPT) (Yao et al., 2022). All agents provided in LangChain Agents fol- low a single-agent paradigm and are not inherently designed for communicative and collaborative modes.\\nArXiv ID: 2308.08155\\nRelated Papers: [\\'2103.03874\\']\\n')]\n",
      "web_search.invoke(input={'query': 'Cycles and Branching in LangGraph'})\n",
      "run_oracle\n",
      "intermediate_steps: [AgentAction(tool='rag_search', tool_input={'query': 'Cycles and Branching in LangGraph'}, log='TBD'), AgentAction(tool='rag_search', tool_input={'query': 'Cycles and Branching in LangGraph'}, log='Title: GPT-4 Doesn\\'t Know It\\'s Wrong: An Analysis of Iterative Prompting for Reasoning Problems\\nContent: are unlikely to do well on graphs with over twenty nodes. Therefore, we built our own dataset. We use GrinPy2 to handle common graph operations. Each graph is constructed using the ErdË osâ RÃ©nyi method (p = 0.4), modified so that any generation that fails to be planar or happens to be isomorphic to a previously generated one is retried. Once a successful candidate is found, it is compiled into the standard DIMACS format[1], appended with a comment containing its precalculated chromatic number. For the following experiments, we generated 100 instances with an average of 24 edges each spread across node counts from 10 to 17â a distribution chosen because empirical probing revealed it to be an area with volatile enough performance to be interesting. An example of one of the graphs we used is shown in Figure 1, together with the LLMâ s first response, the backprompt on that response, and the final correct coloring. # 3.2 Architecture for Iterative Backprompting All code and results will be made public. # Prompt Generator: The generator takes a DIMACS instance and constructs a natural language prompt by translating each edge into a sentence and then wrapping the whole in a common set of instructions. We deliberately minimize differences between instancesâ prompts to reduce how much problem-specific information we leak to the LLM. Examples of each prompt type can be found in the appendix. # Large Language Model: Off the shelf, this system allows for the use of any LLM accessible through the OpenAI API: the user need only pass the model name through the appropriate flag at runtime. The present work focuses on GPT-4, the current state of the art, because of recent claims about its \"emergent\" reasoning capabilities[3]. We provide a system role of \"You are a constraint satisfaction solver that solves various CSP problems.\" and set the temperature to 0, thus ensuring output is mostly deterministic. # Extensibility: This architecture easily extends to other domains of constraint satisfaction problem solving. In the public repository, we provide a way to add a new domain description by adding just one file to the project in plug-and-play fashion.\\nArXiv ID: 2310.12397\\nRelated Papers: [\\'2206.10498\\']\\n\\n---\\nTitle: AutoGen: Enabling Next-Gen LLM Applications via Multi-Agent Conversation\\nContent: â ¢ LangChain Agents: LangChain is a general framework for developing LLM-based applica- tions (LangChain, 2023). LangChain Agents is a subpackage for using an LLM to choose a sequence of actions. There are various types of agents in LangChain Agents, with the ReAct agent being a notable example that combines reasoning and acting when using LLMs (mainly designed for LLMs prior to ChatGPT) (Yao et al., 2022). All agents provided in LangChain Agents fol- low a single-agent paradigm and are not inherently designed for communicative and collaborative modes.\\nArXiv ID: 2308.08155\\nRelated Papers: [\\'2103.03874\\']\\n'), AgentAction(tool='web_search', tool_input={'query': 'Cycles and Branching in LangGraph'}, log='TBD'), AgentAction(tool='web_search', tool_input={'query': 'Cycles and Branching in LangGraph'}, log='To learn more about LangGraph, check out our first LangChain Academy course, Introduction to LangGraph, available for free here. Key Features¶ Cycles and Branching: Implement loops and conditionals in your apps. Persistence: Automatically save state after each step in the graph. Pause and resume the graph execution at any point to support\\nhttps://langchain-ai.github.io/langgraph/\\n---\\nLangGraph.js is a library for building stateful, multi-actor applications with LLMs, used to create agent and multi-agent workflows. Compared to other LLM frameworks, it offers these core benefits: cycles, controllability, and persistence. LangGraph allows you to define flows that involve cycles, essential for most agentic architectures, differentiating it from DAG-based solutions.\\nhttps://github.com/langchain-ai/langgraphjs\\n---\\nHow to create branches for parallel node execution¶ LangGraph natively supports fan-out and fan-in using either regular edges or conditionalEdges. This lets you run nodes in parallel to speed up your total graph execution. Below are some examples showing how to add create branching dataflows that work for you. Setup¶ First, install LangGraph.js\\nhttps://langchain-ai.github.io/langgraphjs/how-tos/branching/')]\n",
      "final_answer.invoke(input={'introduction': 'LangGraph is a framework designed to facilitate the development of stateful, multi-actor applications using large language models (LLMs). It is particularly noted for its ability to implement cycles and branching, which are crucial for creating complex workflows in applications.', 'research_steps': '- Conducted a RAG search to find specialist information on LangGraph and its features.\\n- Performed a web search to gather additional insights and recent developments related to LangGraph.', 'main_body': \"LangGraph is a powerful tool for building applications that require complex workflows involving cycles and branching. It is part of the LangChain ecosystem, which is a framework for developing applications based on large language models. LangGraph stands out due to its ability to handle cycles and branching, which are essential for creating dynamic and flexible workflows. \\n\\nCycles in LangGraph allow for the implementation of loops within applications. This feature is particularly useful for agentic architectures where repeated actions or iterative processes are necessary. Unlike traditional directed acyclic graph (DAG) based solutions, LangGraph's support for cycles provides a more natural and efficient way to model such processes.\\n\\nBranching in LangGraph enables the execution of parallel processes, which can significantly speed up the execution of workflows. This is achieved through the use of regular edges or conditional edges, allowing for fan-out and fan-in operations. This feature is crucial for applications that require decision-making processes or need to handle multiple tasks simultaneously.\\n\\nOverall, LangGraph provides a robust framework for developing applications that require complex, stateful interactions between multiple actors, making it a valuable tool for developers working with LLMs.\", 'conclusion': 'LangGraph offers a unique set of features that make it an ideal choice for developing complex, stateful applications with LLMs. Its support for cycles and branching allows for the creation of dynamic workflows that can handle iterative processes and parallel execution, setting it apart from other frameworks.', 'differences': \"The information from the RAG search and web search was consistent, both highlighting LangGraph's capabilities in handling cycles and branching for complex workflows.\", 'sources': '- RAG search on LangGraph\\n- Web search results from LangChain AI GitHub and LangGraph documentation'})\n"
     ]
    }
   ],
   "source": [
    "out = runnable.invoke({\n",
    "    \"input\": \"Cycles and Branching in LangGraph\",\n",
    "    \"chat_history\": []\n",
    "})"
   ]
  },
  {
   "cell_type": "code",
   "execution_count": 110,
   "metadata": {
    "colab": {
     "base_uri": "https://localhost:8080/"
    },
    "id": "Vis78CFR3puz",
    "outputId": "da622cdd-510b-4996-97c1-62c6050d66ac"
   },
   "outputs": [
    {
     "name": "stdout",
     "output_type": "stream",
     "text": [
      "\n",
      "INTRODUCTION\n",
      "------------\n",
      "LangGraph is a framework designed to facilitate the development of stateful, multi-actor applications using large language models (LLMs). It is particularly noted for its ability to implement cycles and branching, which are crucial for creating complex workflows in applications.\n",
      "\n",
      "RESEARCH STEPS\n",
      "--------------\n",
      "- Conducted a RAG search to find specialist information on LangGraph and its features.\n",
      "- Performed a web search to gather additional insights and recent developments related to LangGraph.\n",
      "\n",
      "REPORT\n",
      "------\n",
      "LangGraph is a powerful tool for building applications that require complex workflows involving cycles and branching. It is part of the LangChain ecosystem, which is a framework for developing applications based on large language models. LangGraph stands out due to its ability to handle cycles and branching, which are essential for creating dynamic and flexible workflows. \n",
      "\n",
      "Cycles in LangGraph allow for the implementation of loops within applications. This feature is particularly useful for agentic architectures where repeated actions or iterative processes are necessary. Unlike traditional directed acyclic graph (DAG) based solutions, LangGraph's support for cycles provides a more natural and efficient way to model such processes.\n",
      "\n",
      "Branching in LangGraph enables the execution of parallel processes, which can significantly speed up the execution of workflows. This is achieved through the use of regular edges or conditional edges, allowing for fan-out and fan-in operations. This feature is crucial for applications that require decision-making processes or need to handle multiple tasks simultaneously.\n",
      "\n",
      "Overall, LangGraph provides a robust framework for developing applications that require complex, stateful interactions between multiple actors, making it a valuable tool for developers working with LLMs.\n",
      "\n",
      "CONCLUSION\n",
      "----------\n",
      "LangGraph offers a unique set of features that make it an ideal choice for developing complex, stateful applications with LLMs. Its support for cycles and branching allows for the creation of dynamic workflows that can handle iterative processes and parallel execution, setting it apart from other frameworks.\n",
      "\n",
      "DIFFERENCES\n",
      "----------\n",
      "The information from the RAG search and web search was consistent, both highlighting LangGraph's capabilities in handling cycles and branching for complex workflows.\n",
      "\n",
      "SOURCES\n",
      "-------\n",
      "- RAG search on LangGraph\n",
      "- Web search results from LangChain AI GitHub and LangGraph documentation\n",
      "\n"
     ]
    }
   ],
   "source": [
    "print(build_report(\n",
    "    output=out[\"intermediate_steps\"][-1].tool_input\n",
    "))"
   ]
  },
  {
   "cell_type": "markdown",
   "metadata": {
    "id": "JNyxZL4SNjhX"
   },
   "source": [
    "Let's ask about RAG specifically."
   ]
  },
  {
   "cell_type": "code",
   "execution_count": 111,
   "metadata": {
    "colab": {
     "base_uri": "https://localhost:8080/"
    },
    "id": "x0VmnWlWE6Lg",
    "outputId": "eb6cd6d7-274b-4856-b6ff-34a0dd615aab"
   },
   "outputs": [
    {
     "name": "stdout",
     "output_type": "stream",
     "text": [
      "run_oracle\n",
      "intermediate_steps: []\n",
      "llm_knowledge_llama.invoke(input={'query': 'retrieval augmented generation'})\n",
      "run_oracle\n",
      "intermediate_steps: [AgentAction(tool='llm_knowledge_llama', tool_input={'query': 'retrieval augmented generation'}, log='TBD'), AgentAction(tool='llm_knowledge_llama', tool_input={'query': 'retrieval augmented generation'}, log=\"Retrieval Augmented Generation (RAG) is a type of deep learning algorithm used for text generation tasks, such as generating text summaries or answering questions. It combines the strengths of two popular architectures:\\n\\n1. **Retrieval**: This involves retrieving relevant information from a knowledge base or database.\\n2. **Augmentation**: This involves augmenting the retrieved information with additional context, such as user queries or external knowledge sources.\\n\\nThe RAG architecture typically consists of three main components:\\n\\n1. **Knowledge Retrieval**: A neural network that retrieves relevant information from a knowledge base or database based on a user query.\\n2. **Question Encoder**: A neural network that encodes the question and retrieved information into a compact representation.\\n3. **Answer Generator**: A neural network that generates text based on the encoded representation.\\n\\nThe RAG algorithm works as follows:\\n\\n1. The question encoder takes in the user query and retrieves relevant information from the knowledge base.\\n2. The retrieval module uses this information to augment the query, incorporating additional context or external knowledge sources.\\n3. The answer generator uses the augmented query to generate a text response based on the retrieved information.\\n\\nRAG has several advantages over traditional sequence-to-sequence models:\\n\\n1. **Improved accuracy**: By incorporating relevant information from multiple sources, RAG can improve the accuracy of generated responses.\\n2. **Increased robustness**: RAG is more robust to out-of-vocabulary words and noisy or irrelevant information in the knowledge base.\\n3. **Better handling of uncertainty**: RAG can handle uncertain or ambiguous queries by retrieving multiple relevant pieces of information.\\n\\nHowever, RAG also has some challenges:\\n\\n1. **Knowledge graph construction**: Building a large-scale knowledge graph that covers all possible scenarios is a significant challenge.\\n2. **Query understanding**: The question encoder needs to accurately understand the user query and retrieve relevant information.\\n3. **Answer generation**: The answer generator must generate coherent and relevant responses based on the retrieved information.\\n\\nRAG has been applied in various domains, including:\\n\\n1. **Question answering**: RAG can be used to build more accurate question-answering systems.\\n2. **Text summarization**: RAG can be used to improve text summarization by incorporating additional context and knowledge sources.\\n3. **Conversational AI**: RAG can be used to build more conversational AI systems that can understand and respond to user queries.\\n\\nSome notable applications of RAG include:\\n\\n1. **Microsoft's Q&A system**: Microsoft has developed a question-answering system using RAG, which uses a large-scale knowledge graph to answer questions.\\n2. **Google's Knowledge Graph**: Google has built a massive knowledge graph that uses RAG-like techniques to retrieve relevant information and answer user queries.\\n\\nOverall, Retrieval Augmented Generation is an exciting area of research that combines the strengths of retrieval and augmentation architectures to build more accurate and robust text generation models.\\n[Info provided by llama3.2:latest]\")]\n",
      "llm_knowledge_mistral.invoke(input={'query': 'retrieval augmented generation'})\n",
      "run_oracle\n",
      "intermediate_steps: [AgentAction(tool='llm_knowledge_llama', tool_input={'query': 'retrieval augmented generation'}, log='TBD'), AgentAction(tool='llm_knowledge_llama', tool_input={'query': 'retrieval augmented generation'}, log=\"Retrieval Augmented Generation (RAG) is a type of deep learning algorithm used for text generation tasks, such as generating text summaries or answering questions. It combines the strengths of two popular architectures:\\n\\n1. **Retrieval**: This involves retrieving relevant information from a knowledge base or database.\\n2. **Augmentation**: This involves augmenting the retrieved information with additional context, such as user queries or external knowledge sources.\\n\\nThe RAG architecture typically consists of three main components:\\n\\n1. **Knowledge Retrieval**: A neural network that retrieves relevant information from a knowledge base or database based on a user query.\\n2. **Question Encoder**: A neural network that encodes the question and retrieved information into a compact representation.\\n3. **Answer Generator**: A neural network that generates text based on the encoded representation.\\n\\nThe RAG algorithm works as follows:\\n\\n1. The question encoder takes in the user query and retrieves relevant information from the knowledge base.\\n2. The retrieval module uses this information to augment the query, incorporating additional context or external knowledge sources.\\n3. The answer generator uses the augmented query to generate a text response based on the retrieved information.\\n\\nRAG has several advantages over traditional sequence-to-sequence models:\\n\\n1. **Improved accuracy**: By incorporating relevant information from multiple sources, RAG can improve the accuracy of generated responses.\\n2. **Increased robustness**: RAG is more robust to out-of-vocabulary words and noisy or irrelevant information in the knowledge base.\\n3. **Better handling of uncertainty**: RAG can handle uncertain or ambiguous queries by retrieving multiple relevant pieces of information.\\n\\nHowever, RAG also has some challenges:\\n\\n1. **Knowledge graph construction**: Building a large-scale knowledge graph that covers all possible scenarios is a significant challenge.\\n2. **Query understanding**: The question encoder needs to accurately understand the user query and retrieve relevant information.\\n3. **Answer generation**: The answer generator must generate coherent and relevant responses based on the retrieved information.\\n\\nRAG has been applied in various domains, including:\\n\\n1. **Question answering**: RAG can be used to build more accurate question-answering systems.\\n2. **Text summarization**: RAG can be used to improve text summarization by incorporating additional context and knowledge sources.\\n3. **Conversational AI**: RAG can be used to build more conversational AI systems that can understand and respond to user queries.\\n\\nSome notable applications of RAG include:\\n\\n1. **Microsoft's Q&A system**: Microsoft has developed a question-answering system using RAG, which uses a large-scale knowledge graph to answer questions.\\n2. **Google's Knowledge Graph**: Google has built a massive knowledge graph that uses RAG-like techniques to retrieve relevant information and answer user queries.\\n\\nOverall, Retrieval Augmented Generation is an exciting area of research that combines the strengths of retrieval and augmentation architectures to build more accurate and robust text generation models.\\n[Info provided by llama3.2:latest]\"), AgentAction(tool='llm_knowledge_mistral', tool_input={'query': 'retrieval augmented generation'}, log='TBD'), AgentAction(tool='llm_knowledge_mistral', tool_input={'query': 'retrieval augmented generation'}, log=\" Retrieval-Augmented Generation (RAG) is a strategy used in natural language processing to improve the performance of text generation models. It combines the strengths of two approaches: retriever systems that find relevant examples from a large corpus, and generation models that create new text.\\n\\nThe basic idea behind RAG is to use a retriever system to fetch a few contextually relevant sentences or passages from a large dataset (like a pre-trained model's vocabulary or a collection of books) when generating a response for a given prompt. The retrieved sentences are then concatenated with the output of a generation model, resulting in a more informative and contextually accurate response.\\n\\nRAG has been shown to be effective in various tasks such as question answering, summarization, and dialogue systems, as it can help models overcome their limitations in coverage, contextual bias, and common sense knowledge. By incorporating diverse perspectives from a large corpus into its responses, RAG can generate more robust and well-informed answers compared to traditional text generation methods.\\n[Info provided by mistral:latest]\")]\n",
      "final_answer.invoke(input={'introduction': 'Retrieval Augmented Generation (RAG) is an advanced technique in natural language processing that enhances the capabilities of text generation models by integrating retrieval mechanisms.', 'research_steps': '- Utilized the Llama3.2 model to gather a detailed explanation of RAG.\\n- Employed the Mistral model to obtain additional insights into the workings and applications of RAG.', 'main_body': \"Retrieval Augmented Generation (RAG) is a sophisticated approach in the field of natural language processing that combines the strengths of retrieval systems and generative models. The primary goal of RAG is to improve the accuracy and contextual relevance of text generation tasks, such as question answering, text summarization, and conversational AI.\\n\\nThe RAG architecture typically involves three main components: a knowledge retrieval system, a question encoder, and an answer generator. The process begins with the question encoder, which processes the user query and retrieves pertinent information from a knowledge base. This retrieval step is crucial as it brings in contextually relevant data that can enhance the generative process.\\n\\nOnce the relevant information is retrieved, it is used to augment the original query, providing additional context or external knowledge. The answer generator then utilizes this enriched query to produce a coherent and contextually accurate response. This method allows RAG to handle out-of-vocabulary words and ambiguous queries more effectively than traditional models.\\n\\nRAG has been successfully applied in various domains, including Microsoft's Q&A systems and Google's Knowledge Graph, demonstrating its potential to build more accurate and robust AI systems. By leveraging a large corpus of data, RAG can incorporate diverse perspectives, leading to more informed and reliable text generation.\", 'conclusion': \"Retrieval Augmented Generation represents a significant advancement in text generation, offering improved accuracy and contextual understanding by integrating retrieval mechanisms. Its application across various domains highlights its potential to enhance AI systems' performance.\", 'differences': \"The Llama3.2 model provided a detailed breakdown of the RAG architecture and its components, while the Mistral model emphasized the strategy's effectiveness in overcoming limitations in coverage and contextual bias. Both sources agree on the fundamental principles and benefits of RAG.\", 'sources': \"- Llama3.2 model for detailed explanation of RAG.\\n- Mistral model for additional insights into RAG's applications and effectiveness.\"})\n"
     ]
    }
   ],
   "source": [
    "out = runnable.invoke({\n",
    "    \"input\": \"what is retrieval augmented generation?\",\n",
    "    \"chat_history\": []\n",
    "})"
   ]
  },
  {
   "cell_type": "code",
   "execution_count": 112,
   "metadata": {
    "colab": {
     "base_uri": "https://localhost:8080/"
    },
    "id": "I7LssyU4Nqis",
    "outputId": "270d7a52-6eda-438b-db15-4e2b889133bd"
   },
   "outputs": [
    {
     "name": "stdout",
     "output_type": "stream",
     "text": [
      "\n",
      "INTRODUCTION\n",
      "------------\n",
      "Retrieval Augmented Generation (RAG) is an advanced technique in natural language processing that enhances the capabilities of text generation models by integrating retrieval mechanisms.\n",
      "\n",
      "RESEARCH STEPS\n",
      "--------------\n",
      "- Utilized the Llama3.2 model to gather a detailed explanation of RAG.\n",
      "- Employed the Mistral model to obtain additional insights into the workings and applications of RAG.\n",
      "\n",
      "REPORT\n",
      "------\n",
      "Retrieval Augmented Generation (RAG) is a sophisticated approach in the field of natural language processing that combines the strengths of retrieval systems and generative models. The primary goal of RAG is to improve the accuracy and contextual relevance of text generation tasks, such as question answering, text summarization, and conversational AI.\n",
      "\n",
      "The RAG architecture typically involves three main components: a knowledge retrieval system, a question encoder, and an answer generator. The process begins with the question encoder, which processes the user query and retrieves pertinent information from a knowledge base. This retrieval step is crucial as it brings in contextually relevant data that can enhance the generative process.\n",
      "\n",
      "Once the relevant information is retrieved, it is used to augment the original query, providing additional context or external knowledge. The answer generator then utilizes this enriched query to produce a coherent and contextually accurate response. This method allows RAG to handle out-of-vocabulary words and ambiguous queries more effectively than traditional models.\n",
      "\n",
      "RAG has been successfully applied in various domains, including Microsoft's Q&A systems and Google's Knowledge Graph, demonstrating its potential to build more accurate and robust AI systems. By leveraging a large corpus of data, RAG can incorporate diverse perspectives, leading to more informed and reliable text generation.\n",
      "\n",
      "CONCLUSION\n",
      "----------\n",
      "Retrieval Augmented Generation represents a significant advancement in text generation, offering improved accuracy and contextual understanding by integrating retrieval mechanisms. Its application across various domains highlights its potential to enhance AI systems' performance.\n",
      "\n",
      "DIFFERENCES\n",
      "----------\n",
      "The Llama3.2 model provided a detailed breakdown of the RAG architecture and its components, while the Mistral model emphasized the strategy's effectiveness in overcoming limitations in coverage and contextual bias. Both sources agree on the fundamental principles and benefits of RAG.\n",
      "\n",
      "SOURCES\n",
      "-------\n",
      "- Llama3.2 model for detailed explanation of RAG.\n",
      "- Mistral model for additional insights into RAG's applications and effectiveness.\n",
      "\n"
     ]
    }
   ],
   "source": [
    "print(build_report(\n",
    "    output=out[\"intermediate_steps\"][-1].tool_input\n",
    "))"
   ]
  },
  {
   "cell_type": "markdown",
   "metadata": {},
   "source": [
    "Let's ask about recent financial results, probably the best source will be web search."
   ]
  },
  {
   "cell_type": "code",
   "execution_count": 63,
   "metadata": {},
   "outputs": [
    {
     "name": "stdout",
     "output_type": "stream",
     "text": [
      "run_oracle\n",
      "intermediate_steps: []\n",
      "web_search.invoke(input={'query': 'Microsoft 2024 financial results'})\n",
      "run_oracle\n",
      "intermediate_steps: [AgentAction(tool='web_search', tool_input={'query': 'Microsoft 2024 financial results'}, log='TBD'), AgentAction(tool='web_search', tool_input={'query': 'Microsoft 2024 financial results'}, log='Earnings Release FY24 Q4. Microsoft Cloud Strength Drives Fourth Quarter Results. REDMOND, Wash. — July 30, 2024 — Microsoft Corp. today announced the following results for the quarter ended June 30, 2024, as compared to the corresponding period of last fiscal year: · Revenue was $64.7 billion and increased 15% (up 16% in constant currency)\\nhttps://www.microsoft.com/en-us/investor/earnings/FY-2024-Q4/press-release-webcast\\n---\\nOctober 30, 2024 | Microsoft Source. Share on Facebook (opens new window) Share on LinkedIn (opens new window) Share on X (opens new window) REDMOND, Wash. — Oct. 30, 2024 — Microsoft Corp. on Wednesday announced that fiscal year 2025 first-quarter financial results are available on its Investor Relations website. The direct link\\nhttps://news.microsoft.com/2024/10/30/microsoft-earnings-press-release-available-on-investor-relations-website-24/\\n---\\nMicrosoft All Microsoft Microsoft 365 Microsoft 365 Commercial products and cloud services revenue increased 13% (up 14% in constant currency) driven by Microsoft 365 Commercial cloud revenue growth of 15% (up 16% in constant currency) Microsoft 365 Consumer products and cloud services revenue increased 5% (up 6% in constant currency) driven by Microsoft 365 Consumer cloud revenue growth of 6% (up 7% in constant currency) Three Months Ended September 30, 2024Percentage Change Y/Y (GAAP)Constant Currency ImpactPercentage Change Y/Y Constant CurrencyMicrosoft Cloud22%0%22%Microsoft 365 Commercial products and cloud services13%1%14%Microsoft 365 Commercial cloud15%1%16%Microsoft 365 Consumer products and cloud services5%1%6%Microsoft 365 Consumer cloud6%1%7%LinkedIn10%(1)%9%Dynamics products and cloud services14%0%14%Dynamics 36518%1%19%Server products and cloud services23%0%23%Azure and other cloud services33%1%34%Windows OEM and Devices2%0%2%Xbox content and services61%0%61%Search and news advertising excluding traffic acquisition costs18%1%19% About Microsoft Microsoft 365 About Microsoft\\nhttps://news.microsoft.com/2024/10/30/microsoft-cloud-strength-drives-first-quarter-results-7/')]\n",
      "final_answer.invoke(input={'introduction': \"Microsoft's financial results for 2024 reflect the company's continued growth and strength, particularly in its cloud services and commercial products. The results highlight significant revenue increases across various sectors, showcasing Microsoft's robust performance in the technology market.\", 'research_steps': \"- Conducted a web search for Microsoft's 2024 financial results to gather the most recent and relevant data.\", 'main_body': \"In the fiscal year 2024, Microsoft reported a revenue of $64.7 billion for the fourth quarter, marking a 15% increase compared to the same period in the previous year. This growth was driven by the company's strong performance in cloud services, with Microsoft Cloud revenue increasing by 22% year-over-year. The commercial products and cloud services segment, including Microsoft 365, also saw substantial growth, with a 13% increase in revenue, driven by a 15% rise in Microsoft 365 Commercial cloud revenue. \\n\\nThe consumer products and cloud services segment experienced a 5% increase in revenue, with Microsoft 365 Consumer cloud revenue growing by 6%. Other notable areas of growth included LinkedIn, which saw a 10% increase, and Dynamics products and cloud services, which grew by 14%. Azure and other cloud services reported a remarkable 33% increase in revenue, underscoring Microsoft's leadership in the cloud computing space.\\n\\nAdditionally, the Xbox content and services segment experienced a significant 61% increase, reflecting the company's strong position in the gaming industry. The search and news advertising segment also contributed to the overall growth, with an 18% increase in revenue, excluding traffic acquisition costs.\", 'conclusion': \"Microsoft's financial results for 2024 demonstrate the company's strong market position and its ability to drive growth across various sectors, particularly in cloud services and commercial products. The significant increases in revenue across multiple segments highlight Microsoft's strategic focus on expanding its cloud offerings and enhancing its product portfolio.\", 'differences': \"The information from different sources was consistent, with all sources highlighting Microsoft's strong performance in cloud services and commercial products, as well as significant growth in the Xbox and advertising segments.\", 'sources': \"- Web search results from Microsoft's official investor relations and news websites.\"})\n"
     ]
    }
   ],
   "source": [
    "out = runnable.invoke({\n",
    "    \"input\": \"provide information about Microsoft's 2024 financial results\",\n",
    "    \"chat_history\": []\n",
    "})"
   ]
  },
  {
   "cell_type": "code",
   "execution_count": 64,
   "metadata": {},
   "outputs": [
    {
     "name": "stdout",
     "output_type": "stream",
     "text": [
      "\n",
      "INTRODUCTION\n",
      "------------\n",
      "Microsoft's financial results for 2024 reflect the company's continued growth and strength, particularly in its cloud services and commercial products. The results highlight significant revenue increases across various sectors, showcasing Microsoft's robust performance in the technology market.\n",
      "\n",
      "RESEARCH STEPS\n",
      "--------------\n",
      "- Conducted a web search for Microsoft's 2024 financial results to gather the most recent and relevant data.\n",
      "\n",
      "REPORT\n",
      "------\n",
      "In the fiscal year 2024, Microsoft reported a revenue of $64.7 billion for the fourth quarter, marking a 15% increase compared to the same period in the previous year. This growth was driven by the company's strong performance in cloud services, with Microsoft Cloud revenue increasing by 22% year-over-year. The commercial products and cloud services segment, including Microsoft 365, also saw substantial growth, with a 13% increase in revenue, driven by a 15% rise in Microsoft 365 Commercial cloud revenue. \n",
      "\n",
      "The consumer products and cloud services segment experienced a 5% increase in revenue, with Microsoft 365 Consumer cloud revenue growing by 6%. Other notable areas of growth included LinkedIn, which saw a 10% increase, and Dynamics products and cloud services, which grew by 14%. Azure and other cloud services reported a remarkable 33% increase in revenue, underscoring Microsoft's leadership in the cloud computing space.\n",
      "\n",
      "Additionally, the Xbox content and services segment experienced a significant 61% increase, reflecting the company's strong position in the gaming industry. The search and news advertising segment also contributed to the overall growth, with an 18% increase in revenue, excluding traffic acquisition costs.\n",
      "\n",
      "CONCLUSION\n",
      "----------\n",
      "Microsoft's financial results for 2024 demonstrate the company's strong market position and its ability to drive growth across various sectors, particularly in cloud services and commercial products. The significant increases in revenue across multiple segments highlight Microsoft's strategic focus on expanding its cloud offerings and enhancing its product portfolio.\n",
      "\n",
      "DIFFERENCES\n",
      "----------\n",
      "The information from different sources was consistent, with all sources highlighting Microsoft's strong performance in cloud services and commercial products, as well as significant growth in the Xbox and advertising segments.\n",
      "\n",
      "SOURCES\n",
      "-------\n",
      "- Web search results from Microsoft's official investor relations and news websites.\n",
      "\n"
     ]
    }
   ],
   "source": [
    "print(build_report(\n",
    "    output=out[\"intermediate_steps\"][-1].tool_input\n",
    "))"
   ]
  },
  {
   "cell_type": "code",
   "execution_count": 65,
   "metadata": {},
   "outputs": [
    {
     "name": "stdout",
     "output_type": "stream",
     "text": [
      "run_oracle\n",
      "intermediate_steps: []\n",
      "llm_knowledge_llama.invoke(input={'query': 'history of Italy'})\n",
      "run_oracle\n",
      "intermediate_steps: [AgentAction(tool='llm_knowledge_llama', tool_input={'query': 'history of Italy'}, log='TBD'), AgentAction(tool='llm_knowledge_llama', tool_input={'query': 'history of Italy'}, log='Italy has a rich and complex history that spans over 2,500 years. Here\\'s an overview:\\n\\n**Ancient Italy (8th century BC - 476 AD)**\\n\\n* The Italian peninsula was inhabited by various tribes, including the Latins, Etruscans, and Greeks.\\n* In the 8th century BC, the Romans conquered much of Italy, founding the city of Rome in 753 BC.\\n* The Roman Empire expanded throughout Italy, establishing a system of government, laws, and infrastructure that lasted for centuries.\\n* During this period, the Etruscan civilization flourished in central Italy, leaving behind art, architecture, and engineering feats.\\n\\n**Middle Ages (476 - 1300)**\\n\\n* In 476 AD, the Western Roman Empire fell to barbarian tribes, marking the end of the Roman Empire.\\n* Italy was fragmented into various kingdoms, duchies, and city-states, including the Ostrogothic Kingdom, the Byzantine Empire, and the Holy Roman Empire.\\n* The Catholic Church played a significant role in shaping Italian politics, culture, and society during this period.\\n\\n**Renaissance (1300 - 1600)**\\n\\n* The Renaissance saw a resurgence of art, science, and culture in Italy, particularly in Florence, Venice, and Rome.\\n* City-states like Florence, Venice, and Milan emerged as powerful centers of trade, commerce, and politics.\\n* Figures like Leonardo da Vinci, Michelangelo, and Galileo Galilei made significant contributions to art, science, and philosophy.\\n\\n**Baroque Period (1600 - 1800)**\\n\\n* The Baroque period saw the rise of absolute monarchies in Italy, with powerful rulers like Louis XIV of France and Philip II of Spain.\\n* The Catholic Church continued to play a dominant role in Italian politics and society, leading to conflicts with Protestant reformers.\\n* Cities like Rome, Venice, and Turin became major centers of art, architecture, and engineering.\\n\\n**Risorgimento (1800 - 1871)**\\n\\n* The Risorgimento, or \"Resurgence,\" was a period of unification and nationalism that saw the emergence of Italy as a single nation-state.\\n* Victor Emmanuel II of Savoy was crowned King of Sardinia in 1861, marking the beginning of modern Italian history.\\n* Giuseppe Garibaldi and Camillo di Cavour led military campaigns to unite the various regions of Italy under a single government.\\n\\n**Unification (1871 - 1945)**\\n\\n* Italy became an independent nation-state in 1871, with Victor Emmanuel II as its first king.\\n* The kingdom expanded through colonial conquests, establishing territories in Africa and Asia.\\n* World War I saw Italy fight on the side of the Allies, while World War II saw the country invade France and Yugoslavia.\\n\\n**Post-War Period (1945 - present)**\\n\\n* Following World War II, Italy experienced a period of economic growth, social change, and cultural renewal.\\n* The Italian Republic was established in 1946, with Giuseppe Saragat as its first president.\\n* In recent years, Italy has faced challenges such as the economic crisis, migration, and terrorism.\\n\\n**Key Figures**\\n\\n* Julius Caesar (100 - 44 BC): Roman general and statesman who expanded Rome\\'s territories.\\n* Augustus (63 BC - 14 AD): Roman emperor who established the Principate and ruled for over four decades.\\n* Leonardo da Vinci (1452 - 1519): Renaissance artist, inventor, and polymath who made significant contributions to art, science, and engineering.\\n* Napoleon Bonaparte (1769 - 1821): French military leader who conquered much of Italy during the Napoleonic Wars.\\n* Benito Mussolini (1883 - 1945): Fascist dictator who ruled Italy from 1922 to 1943.\\n\\n**Timeline**\\n\\n* 753 BC: Foundation of Rome\\n* 509 BC: End of Roman monarchy and beginning of republic\\n* 44 BC: Assassination of Julius Caesar\\n* 14 AD: Death of Augustus\\n* 476 AD: Fall of Western Roman Empire\\n* 1300s - 1500s: Renaissance in Italy\\n* 1600s - 1800s: Baroque period in Italy\\n* 1871: Unification of Italy\\n* 1945: End of World War II\\n* 1946: Establishment of Italian Republic\\n\\nThis is just a brief overview of Italy\\'s history, but I hope it provides a good starting point for further exploration and discovery!\\n[Info provided by llama3.2:latest]')]\n",
      "llm_knowledge_mistral.invoke(input={'query': 'history of Italy'})\n",
      "run_oracle\n",
      "intermediate_steps: [AgentAction(tool='llm_knowledge_llama', tool_input={'query': 'history of Italy'}, log='TBD'), AgentAction(tool='llm_knowledge_llama', tool_input={'query': 'history of Italy'}, log='Italy has a rich and complex history that spans over 2,500 years. Here\\'s an overview:\\n\\n**Ancient Italy (8th century BC - 476 AD)**\\n\\n* The Italian peninsula was inhabited by various tribes, including the Latins, Etruscans, and Greeks.\\n* In the 8th century BC, the Romans conquered much of Italy, founding the city of Rome in 753 BC.\\n* The Roman Empire expanded throughout Italy, establishing a system of government, laws, and infrastructure that lasted for centuries.\\n* During this period, the Etruscan civilization flourished in central Italy, leaving behind art, architecture, and engineering feats.\\n\\n**Middle Ages (476 - 1300)**\\n\\n* In 476 AD, the Western Roman Empire fell to barbarian tribes, marking the end of the Roman Empire.\\n* Italy was fragmented into various kingdoms, duchies, and city-states, including the Ostrogothic Kingdom, the Byzantine Empire, and the Holy Roman Empire.\\n* The Catholic Church played a significant role in shaping Italian politics, culture, and society during this period.\\n\\n**Renaissance (1300 - 1600)**\\n\\n* The Renaissance saw a resurgence of art, science, and culture in Italy, particularly in Florence, Venice, and Rome.\\n* City-states like Florence, Venice, and Milan emerged as powerful centers of trade, commerce, and politics.\\n* Figures like Leonardo da Vinci, Michelangelo, and Galileo Galilei made significant contributions to art, science, and philosophy.\\n\\n**Baroque Period (1600 - 1800)**\\n\\n* The Baroque period saw the rise of absolute monarchies in Italy, with powerful rulers like Louis XIV of France and Philip II of Spain.\\n* The Catholic Church continued to play a dominant role in Italian politics and society, leading to conflicts with Protestant reformers.\\n* Cities like Rome, Venice, and Turin became major centers of art, architecture, and engineering.\\n\\n**Risorgimento (1800 - 1871)**\\n\\n* The Risorgimento, or \"Resurgence,\" was a period of unification and nationalism that saw the emergence of Italy as a single nation-state.\\n* Victor Emmanuel II of Savoy was crowned King of Sardinia in 1861, marking the beginning of modern Italian history.\\n* Giuseppe Garibaldi and Camillo di Cavour led military campaigns to unite the various regions of Italy under a single government.\\n\\n**Unification (1871 - 1945)**\\n\\n* Italy became an independent nation-state in 1871, with Victor Emmanuel II as its first king.\\n* The kingdom expanded through colonial conquests, establishing territories in Africa and Asia.\\n* World War I saw Italy fight on the side of the Allies, while World War II saw the country invade France and Yugoslavia.\\n\\n**Post-War Period (1945 - present)**\\n\\n* Following World War II, Italy experienced a period of economic growth, social change, and cultural renewal.\\n* The Italian Republic was established in 1946, with Giuseppe Saragat as its first president.\\n* In recent years, Italy has faced challenges such as the economic crisis, migration, and terrorism.\\n\\n**Key Figures**\\n\\n* Julius Caesar (100 - 44 BC): Roman general and statesman who expanded Rome\\'s territories.\\n* Augustus (63 BC - 14 AD): Roman emperor who established the Principate and ruled for over four decades.\\n* Leonardo da Vinci (1452 - 1519): Renaissance artist, inventor, and polymath who made significant contributions to art, science, and engineering.\\n* Napoleon Bonaparte (1769 - 1821): French military leader who conquered much of Italy during the Napoleonic Wars.\\n* Benito Mussolini (1883 - 1945): Fascist dictator who ruled Italy from 1922 to 1943.\\n\\n**Timeline**\\n\\n* 753 BC: Foundation of Rome\\n* 509 BC: End of Roman monarchy and beginning of republic\\n* 44 BC: Assassination of Julius Caesar\\n* 14 AD: Death of Augustus\\n* 476 AD: Fall of Western Roman Empire\\n* 1300s - 1500s: Renaissance in Italy\\n* 1600s - 1800s: Baroque period in Italy\\n* 1871: Unification of Italy\\n* 1945: End of World War II\\n* 1946: Establishment of Italian Republic\\n\\nThis is just a brief overview of Italy\\'s history, but I hope it provides a good starting point for further exploration and discovery!\\n[Info provided by llama3.2:latest]'), AgentAction(tool='llm_knowledge_mistral', tool_input={'query': 'history of Italy'}, log='TBD'), AgentAction(tool='llm_knowledge_mistral', tool_input={'query': 'history of Italy'}, log=\" The history of Italy is rich and complex, spanning over three thousand years. Here's a brief overview of some significant periods:\\n\\n1. **Ancient Rome (8th Century BCE - 5th Century CE)**: The Italian Peninsula was home to the Roman Empire, one of the most powerful civilizations in history. Rome was founded around 753 BCE and gradually expanded its territory, becoming a major political and cultural force by the 2nd Century BCE. The Pax Romana (Roman Peace) marked a long period of relative peace and stability that lasted for over two centuries from 27 BCE to 180 CE.\\n\\n2. **Middle Ages (5th - 15th Century)**: After the fall of the Western Roman Empire, Italy was divided into city-states, duchies, and kingdoms. The Byzantine Empire, the Holy Roman Empire, and the Papal States were among the major powers that influenced the region during this period.\\n\\n3. **Renaissance (14th - 17th Century)**: A cultural movement that originated in Florence, the Renaissance was a rebirth of interest in classical learning and the arts. Cities like Florence, Venice, and Rome became centers for art, science, and philosophy during this period.\\n\\n4. **Unification (19th Century)**: Italy was unified as a single state in 1861 under King Victor Emmanuel II. The process began with the Risorgimento movement, which aimed to create a united Italian nation free from foreign control.\\n\\n5. **Fascist Era (1922 - 1945)**: Benito Mussolini rose to power and established a totalitarian regime known as the Italian Fascist Party. Italy participated in World War II, initially on the side of the Axis Powers but later switching sides and suffering heavy losses.\\n\\n6. **Post-War Period (1945 - Present)**: After World War II, Italy became a democratic republic in 1946. The country experienced significant economic growth during the post-war economic miracle, but it has also faced periods of political instability and economic crisis. Today, Italy is a key member of the European Union and NATO.\\n\\nThis is a very brief overview of Italian history, and there's much more to explore in each period. If you're interested in a specific era or topic, feel free to ask for more information!\\n[Info provided by mistral:latest]\")]\n",
      "llm_knowledge_gpt4o.invoke(input={'query': 'history of Italy'})\n",
      "run_oracle\n",
      "intermediate_steps: [AgentAction(tool='llm_knowledge_llama', tool_input={'query': 'history of Italy'}, log='TBD'), AgentAction(tool='llm_knowledge_llama', tool_input={'query': 'history of Italy'}, log='Italy has a rich and complex history that spans over 2,500 years. Here\\'s an overview:\\n\\n**Ancient Italy (8th century BC - 476 AD)**\\n\\n* The Italian peninsula was inhabited by various tribes, including the Latins, Etruscans, and Greeks.\\n* In the 8th century BC, the Romans conquered much of Italy, founding the city of Rome in 753 BC.\\n* The Roman Empire expanded throughout Italy, establishing a system of government, laws, and infrastructure that lasted for centuries.\\n* During this period, the Etruscan civilization flourished in central Italy, leaving behind art, architecture, and engineering feats.\\n\\n**Middle Ages (476 - 1300)**\\n\\n* In 476 AD, the Western Roman Empire fell to barbarian tribes, marking the end of the Roman Empire.\\n* Italy was fragmented into various kingdoms, duchies, and city-states, including the Ostrogothic Kingdom, the Byzantine Empire, and the Holy Roman Empire.\\n* The Catholic Church played a significant role in shaping Italian politics, culture, and society during this period.\\n\\n**Renaissance (1300 - 1600)**\\n\\n* The Renaissance saw a resurgence of art, science, and culture in Italy, particularly in Florence, Venice, and Rome.\\n* City-states like Florence, Venice, and Milan emerged as powerful centers of trade, commerce, and politics.\\n* Figures like Leonardo da Vinci, Michelangelo, and Galileo Galilei made significant contributions to art, science, and philosophy.\\n\\n**Baroque Period (1600 - 1800)**\\n\\n* The Baroque period saw the rise of absolute monarchies in Italy, with powerful rulers like Louis XIV of France and Philip II of Spain.\\n* The Catholic Church continued to play a dominant role in Italian politics and society, leading to conflicts with Protestant reformers.\\n* Cities like Rome, Venice, and Turin became major centers of art, architecture, and engineering.\\n\\n**Risorgimento (1800 - 1871)**\\n\\n* The Risorgimento, or \"Resurgence,\" was a period of unification and nationalism that saw the emergence of Italy as a single nation-state.\\n* Victor Emmanuel II of Savoy was crowned King of Sardinia in 1861, marking the beginning of modern Italian history.\\n* Giuseppe Garibaldi and Camillo di Cavour led military campaigns to unite the various regions of Italy under a single government.\\n\\n**Unification (1871 - 1945)**\\n\\n* Italy became an independent nation-state in 1871, with Victor Emmanuel II as its first king.\\n* The kingdom expanded through colonial conquests, establishing territories in Africa and Asia.\\n* World War I saw Italy fight on the side of the Allies, while World War II saw the country invade France and Yugoslavia.\\n\\n**Post-War Period (1945 - present)**\\n\\n* Following World War II, Italy experienced a period of economic growth, social change, and cultural renewal.\\n* The Italian Republic was established in 1946, with Giuseppe Saragat as its first president.\\n* In recent years, Italy has faced challenges such as the economic crisis, migration, and terrorism.\\n\\n**Key Figures**\\n\\n* Julius Caesar (100 - 44 BC): Roman general and statesman who expanded Rome\\'s territories.\\n* Augustus (63 BC - 14 AD): Roman emperor who established the Principate and ruled for over four decades.\\n* Leonardo da Vinci (1452 - 1519): Renaissance artist, inventor, and polymath who made significant contributions to art, science, and engineering.\\n* Napoleon Bonaparte (1769 - 1821): French military leader who conquered much of Italy during the Napoleonic Wars.\\n* Benito Mussolini (1883 - 1945): Fascist dictator who ruled Italy from 1922 to 1943.\\n\\n**Timeline**\\n\\n* 753 BC: Foundation of Rome\\n* 509 BC: End of Roman monarchy and beginning of republic\\n* 44 BC: Assassination of Julius Caesar\\n* 14 AD: Death of Augustus\\n* 476 AD: Fall of Western Roman Empire\\n* 1300s - 1500s: Renaissance in Italy\\n* 1600s - 1800s: Baroque period in Italy\\n* 1871: Unification of Italy\\n* 1945: End of World War II\\n* 1946: Establishment of Italian Republic\\n\\nThis is just a brief overview of Italy\\'s history, but I hope it provides a good starting point for further exploration and discovery!\\n[Info provided by llama3.2:latest]'), AgentAction(tool='llm_knowledge_mistral', tool_input={'query': 'history of Italy'}, log='TBD'), AgentAction(tool='llm_knowledge_mistral', tool_input={'query': 'history of Italy'}, log=\" The history of Italy is rich and complex, spanning over three thousand years. Here's a brief overview of some significant periods:\\n\\n1. **Ancient Rome (8th Century BCE - 5th Century CE)**: The Italian Peninsula was home to the Roman Empire, one of the most powerful civilizations in history. Rome was founded around 753 BCE and gradually expanded its territory, becoming a major political and cultural force by the 2nd Century BCE. The Pax Romana (Roman Peace) marked a long period of relative peace and stability that lasted for over two centuries from 27 BCE to 180 CE.\\n\\n2. **Middle Ages (5th - 15th Century)**: After the fall of the Western Roman Empire, Italy was divided into city-states, duchies, and kingdoms. The Byzantine Empire, the Holy Roman Empire, and the Papal States were among the major powers that influenced the region during this period.\\n\\n3. **Renaissance (14th - 17th Century)**: A cultural movement that originated in Florence, the Renaissance was a rebirth of interest in classical learning and the arts. Cities like Florence, Venice, and Rome became centers for art, science, and philosophy during this period.\\n\\n4. **Unification (19th Century)**: Italy was unified as a single state in 1861 under King Victor Emmanuel II. The process began with the Risorgimento movement, which aimed to create a united Italian nation free from foreign control.\\n\\n5. **Fascist Era (1922 - 1945)**: Benito Mussolini rose to power and established a totalitarian regime known as the Italian Fascist Party. Italy participated in World War II, initially on the side of the Axis Powers but later switching sides and suffering heavy losses.\\n\\n6. **Post-War Period (1945 - Present)**: After World War II, Italy became a democratic republic in 1946. The country experienced significant economic growth during the post-war economic miracle, but it has also faced periods of political instability and economic crisis. Today, Italy is a key member of the European Union and NATO.\\n\\nThis is a very brief overview of Italian history, and there's much more to explore in each period. If you're interested in a specific era or topic, feel free to ask for more information!\\n[Info provided by mistral:latest]\"), AgentAction(tool='llm_knowledge_gpt4o', tool_input={'query': 'history of Italy'}, log='TBD'), AgentAction(tool='llm_knowledge_gpt4o', tool_input={'query': 'history of Italy'}, log='The history of Italy is rich and complex, marked by the rise and fall of various civilizations, kingdoms, and states. Here’s an overview of key periods and events in Italian history:\\n\\n### Prehistoric and Ancient Italy\\n- **Prehistoric Times**: Human presence in Italy dates back to the Paleolithic era. The region saw the development of various cultures, including the Villanovan culture (1100-800 BC).\\n- **Etruscans (c. 800-300 BC)**: The Etruscans were a significant civilization in ancient Italy, known for their influence on Roman culture, particularly in religious practices and governance.\\n- **Roman Kingdom (c. 753-509 BC)**: According to tradition, Rome was founded in 753 BC. The early Roman Kingdom is characterized by a series of kings, culminating in the establishment of the Roman Republic.\\n\\n### Roman Republic (509-27 BC)\\n- The Roman Republic was marked by a complex system of government, social classes, and military conquests. Key events include the Punic Wars against Carthage (264-146 BC) and the expansion of Roman territory across the Mediterranean.\\n- The Republic faced internal strife, leading to social conflicts (like the Conflict of the Orders) and the rise of powerful generals.\\n\\n### Roman Empire (27 BC-476 AD)\\n- **Principate**: Augustus became the first emperor in 27 BC, marking the beginning of the Roman Empire. The Pax Romana was a period of relative peace and stability across the empire.\\n- **Crisis of the Third Century**: Political instability, economic troubles, and external invasions characterized the 3rd century. The empire was divided temporarily into multiple regions.\\n- **Fall of the Western Roman Empire (476 AD)**: The deposition of the last emperor, Romulus Augustulus, by the Germanic king Odoacer marked the traditional date for the fall of the Western Roman Empire.\\n\\n### Middle Ages (5th-15th Century)\\n- **Byzantine Influence**: The Eastern Roman Empire (Byzantine Empire) maintained influence in Italy, particularly in the south.\\n- **Rise of City-States**: By the 9th century, Italy was fragmented into various city-states such as Venice, Florence, and Milan. These states became centers of trade, culture, and innovation during the Renaissance.\\n- **The Papal States**: The Pope\\'s temporal power began to solidify, leading to the establishment of the Papal States.\\n\\n### Renaissance (14th-17th Century)\\n- The Renaissance began in Italy, marking a rebirth of art, culture, and humanism. Figures such as Leonardo da Vinci, Michelangelo, and Galileo emerged during this period.\\n- Economic prosperity in city-states facilitated advancements in art, science, and philosophy.\\n\\n### Unification (Risorgimento, 19th Century)\\n- **Early Movements**: The 19th century saw growing nationalist sentiments, with figures like Giuseppe Mazzini and Giuseppe Garibaldi advocating for unification.\\n- **Kingdom of Italy (1861)**: The unification of Italy was largely completed in 1861 under King Victor Emmanuel II, although Rome was not incorporated until 1870.\\n\\n### 20th Century\\n- **World War I**: Italy was part of the Allies but faced significant losses. The war led to political and social unrest.\\n- **Fascism**: Benito Mussolini established a fascist regime in 1922, leading Italy into World War II alongside the Axis Powers. The regime was marked by authoritarianism, nationalism, and militarism.\\n- **World War II**: Italy faced military defeats and internal strife, leading to Mussolini\\'s downfall in 1943. Italy surrendered to the Allies and was later liberated.\\n\\n### Post-War Period and Republic (1946-Present)\\n- **Establishment of the Italian Republic (1946)**: A referendum abolished the monarchy, and Italy became a republic.\\n- **Economic Boom**: The post-war years saw rapid economic growth, known as the \"Italian Economic Miracle,\" transforming Italy into a major industrial power.\\n- **Political Challenges**: Italy faced political instability, characterized by the rise of various parties, including the Christian Democracy and the Italian Communist Party. The period also saw terrorism, particularly from the Red Brigades in the 1970s.\\n- **European Integration**: Italy became a founding member of the European Economic Community (EEC) in 1957, which evolved into the European Union (EU).\\n- **21st Century**: Italy has faced economic challenges, political fragmentation, and issues related to immigration and social integration, all while maintaining its cultural heritage and influence in Europe and the world.\\n\\nItaly\\'s history is a tapestry of cultural achievements, political struggles, and social transformations, and it continues to play a significant role in global affairs today.\\n[Info provided by gpt-4o-mini]')]\n",
      "final_answer.invoke(input={'introduction': \"Italy's history is a rich tapestry of cultural, political, and social evolution, spanning over three millennia. From the rise of the Roman Empire to the Renaissance and modern-day Italy, the country's past is marked by significant events and influential figures.\", 'research_steps': \"- Utilized the LLM knowledge of llama3.2 to gather a broad overview of Italy's history.\\n- Consulted the LLM knowledge of mistral for additional insights and details on key historical periods.\\n- Leveraged the LLM knowledge of gpt-4o-mini for a comprehensive and detailed account of Italy's historical timeline.\", 'main_body': 'Italy\\'s history begins in prehistoric times, with human presence dating back to the Paleolithic era. The Etruscans, a significant civilization, influenced early Roman culture. Rome\\'s foundation in 753 BC marked the beginning of the Roman Kingdom, which evolved into the Roman Republic in 509 BC. The Republic expanded through military conquests, leading to the Roman Empire\\'s establishment in 27 BC under Augustus. The Empire\\'s fall in 476 AD led to the Middle Ages, characterized by Byzantine influence and the rise of city-states like Venice and Florence.\\n\\nThe Renaissance, originating in Italy, was a period of cultural rebirth, with Florence, Venice, and Rome becoming centers of art and science. This era produced luminaries like Leonardo da Vinci and Michelangelo. The 19th century saw the Risorgimento movement, culminating in Italy\\'s unification in 1861 under King Victor Emmanuel II.\\n\\nThe 20th century was marked by Italy\\'s involvement in both World Wars and the rise of Fascism under Benito Mussolini. Post-World War II, Italy became a republic in 1946, experiencing an economic boom known as the \"Italian Economic Miracle.\" Despite political challenges, Italy became a founding member of the European Economic Community, now the European Union.\\n\\nIn the 21st century, Italy faces economic and political challenges but remains a cultural and historical beacon in Europe.', 'conclusion': \"Italy's history is a testament to its enduring influence on global culture, politics, and society. From ancient Rome to the Renaissance and modern times, Italy has played a pivotal role in shaping Western civilization. Despite contemporary challenges, its rich heritage continues to inspire and captivate the world.\", 'differences': \"The sources provided consistent information on Italy's historical timeline and key events. While the level of detail varied, there were no significant discrepancies in the historical narrative.\", 'sources': '- LLM knowledge from llama3.2\\n- LLM knowledge from mistral\\n- LLM knowledge from gpt-4o-mini'})\n"
     ]
    }
   ],
   "source": [
    "out = runnable.invoke({\n",
    "    \"input\": \"write the history of Italy\",\n",
    "    \"chat_history\": []\n",
    "})"
   ]
  },
  {
   "cell_type": "code",
   "execution_count": 66,
   "metadata": {},
   "outputs": [
    {
     "name": "stdout",
     "output_type": "stream",
     "text": [
      "\n",
      "INTRODUCTION\n",
      "------------\n",
      "Italy's history is a rich tapestry of cultural, political, and social evolution, spanning over three millennia. From the rise of the Roman Empire to the Renaissance and modern-day Italy, the country's past is marked by significant events and influential figures.\n",
      "\n",
      "RESEARCH STEPS\n",
      "--------------\n",
      "- Utilized the LLM knowledge of llama3.2 to gather a broad overview of Italy's history.\n",
      "- Consulted the LLM knowledge of mistral for additional insights and details on key historical periods.\n",
      "- Leveraged the LLM knowledge of gpt-4o-mini for a comprehensive and detailed account of Italy's historical timeline.\n",
      "\n",
      "REPORT\n",
      "------\n",
      "Italy's history begins in prehistoric times, with human presence dating back to the Paleolithic era. The Etruscans, a significant civilization, influenced early Roman culture. Rome's foundation in 753 BC marked the beginning of the Roman Kingdom, which evolved into the Roman Republic in 509 BC. The Republic expanded through military conquests, leading to the Roman Empire's establishment in 27 BC under Augustus. The Empire's fall in 476 AD led to the Middle Ages, characterized by Byzantine influence and the rise of city-states like Venice and Florence.\n",
      "\n",
      "The Renaissance, originating in Italy, was a period of cultural rebirth, with Florence, Venice, and Rome becoming centers of art and science. This era produced luminaries like Leonardo da Vinci and Michelangelo. The 19th century saw the Risorgimento movement, culminating in Italy's unification in 1861 under King Victor Emmanuel II.\n",
      "\n",
      "The 20th century was marked by Italy's involvement in both World Wars and the rise of Fascism under Benito Mussolini. Post-World War II, Italy became a republic in 1946, experiencing an economic boom known as the \"Italian Economic Miracle.\" Despite political challenges, Italy became a founding member of the European Economic Community, now the European Union.\n",
      "\n",
      "In the 21st century, Italy faces economic and political challenges but remains a cultural and historical beacon in Europe.\n",
      "\n",
      "CONCLUSION\n",
      "----------\n",
      "Italy's history is a testament to its enduring influence on global culture, politics, and society. From ancient Rome to the Renaissance and modern times, Italy has played a pivotal role in shaping Western civilization. Despite contemporary challenges, its rich heritage continues to inspire and captivate the world.\n",
      "\n",
      "DIFFERENCES\n",
      "----------\n",
      "The sources provided consistent information on Italy's historical timeline and key events. While the level of detail varied, there were no significant discrepancies in the historical narrative.\n",
      "\n",
      "SOURCES\n",
      "-------\n",
      "- LLM knowledge from llama3.2\n",
      "- LLM knowledge from mistral\n",
      "- LLM knowledge from gpt-4o-mini\n",
      "\n"
     ]
    }
   ],
   "source": [
    "print(build_report(\n",
    "    output=out[\"intermediate_steps\"][-1].tool_input\n",
    "))"
   ]
  },
  {
   "cell_type": "code",
   "execution_count": null,
   "metadata": {},
   "outputs": [],
   "source": []
  }
 ],
 "metadata": {
  "colab": {
   "provenance": []
  },
  "kernelspec": {
   "display_name": "Python 3 (ipykernel)",
   "language": "python",
   "name": "python3"
  },
  "language_info": {
   "codemirror_mode": {
    "name": "ipython",
    "version": 3
   },
   "file_extension": ".py",
   "mimetype": "text/x-python",
   "name": "python",
   "nbconvert_exporter": "python",
   "pygments_lexer": "ipython3",
   "version": "3.11.2"
  },
  "widgets": {
   "application/vnd.jupyter.widget-state+json": {
    "24a571b8cc864f60bea7ae90ef331b21": {
     "model_module": "@jupyter-widgets/controls",
     "model_module_version": "1.5.0",
     "model_name": "HTMLModel",
     "state": {
      "_dom_classes": [],
      "_model_module": "@jupyter-widgets/controls",
      "_model_module_version": "1.5.0",
      "_model_name": "HTMLModel",
      "_view_count": null,
      "_view_module": "@jupyter-widgets/controls",
      "_view_module_version": "1.5.0",
      "_view_name": "HTMLView",
      "description": "",
      "description_tooltip": null,
      "layout": "IPY_MODEL_c52a55d3643b4f1c83bdf1b1b5fce242",
      "placeholder": "​",
      "style": "IPY_MODEL_7de73bce9c0540e2b3b2c599d57ae215",
      "value": "100%"
     }
    },
    "45580486ce0742b29d0de17850c42060": {
     "model_module": "@jupyter-widgets/controls",
     "model_module_version": "1.5.0",
     "model_name": "FloatProgressModel",
     "state": {
      "_dom_classes": [],
      "_model_module": "@jupyter-widgets/controls",
      "_model_module_version": "1.5.0",
      "_model_name": "FloatProgressModel",
      "_view_count": null,
      "_view_module": "@jupyter-widgets/controls",
      "_view_module_version": "1.5.0",
      "_view_name": "ProgressView",
      "bar_style": "success",
      "description": "",
      "description_tooltip": null,
      "layout": "IPY_MODEL_84c25583658a4f4caeedbc19dd29457a",
      "max": 79,
      "min": 0,
      "orientation": "horizontal",
      "style": "IPY_MODEL_a9594c4de9734895862a48f90bc8c621",
      "value": 79
     }
    },
    "48ec484f11324501b1020314d4989da6": {
     "model_module": "@jupyter-widgets/base",
     "model_module_version": "1.2.0",
     "model_name": "LayoutModel",
     "state": {
      "_model_module": "@jupyter-widgets/base",
      "_model_module_version": "1.2.0",
      "_model_name": "LayoutModel",
      "_view_count": null,
      "_view_module": "@jupyter-widgets/base",
      "_view_module_version": "1.2.0",
      "_view_name": "LayoutView",
      "align_content": null,
      "align_items": null,
      "align_self": null,
      "border": null,
      "bottom": null,
      "display": null,
      "flex": null,
      "flex_flow": null,
      "grid_area": null,
      "grid_auto_columns": null,
      "grid_auto_flow": null,
      "grid_auto_rows": null,
      "grid_column": null,
      "grid_gap": null,
      "grid_row": null,
      "grid_template_areas": null,
      "grid_template_columns": null,
      "grid_template_rows": null,
      "height": null,
      "justify_content": null,
      "justify_items": null,
      "left": null,
      "margin": null,
      "max_height": null,
      "max_width": null,
      "min_height": null,
      "min_width": null,
      "object_fit": null,
      "object_position": null,
      "order": null,
      "overflow": null,
      "overflow_x": null,
      "overflow_y": null,
      "padding": null,
      "right": null,
      "top": null,
      "visibility": null,
      "width": null
     }
    },
    "7de73bce9c0540e2b3b2c599d57ae215": {
     "model_module": "@jupyter-widgets/controls",
     "model_module_version": "1.5.0",
     "model_name": "DescriptionStyleModel",
     "state": {
      "_model_module": "@jupyter-widgets/controls",
      "_model_module_version": "1.5.0",
      "_model_name": "DescriptionStyleModel",
      "_view_count": null,
      "_view_module": "@jupyter-widgets/base",
      "_view_module_version": "1.2.0",
      "_view_name": "StyleView",
      "description_width": ""
     }
    },
    "84c25583658a4f4caeedbc19dd29457a": {
     "model_module": "@jupyter-widgets/base",
     "model_module_version": "1.2.0",
     "model_name": "LayoutModel",
     "state": {
      "_model_module": "@jupyter-widgets/base",
      "_model_module_version": "1.2.0",
      "_model_name": "LayoutModel",
      "_view_count": null,
      "_view_module": "@jupyter-widgets/base",
      "_view_module_version": "1.2.0",
      "_view_name": "LayoutView",
      "align_content": null,
      "align_items": null,
      "align_self": null,
      "border": null,
      "bottom": null,
      "display": null,
      "flex": null,
      "flex_flow": null,
      "grid_area": null,
      "grid_auto_columns": null,
      "grid_auto_flow": null,
      "grid_auto_rows": null,
      "grid_column": null,
      "grid_gap": null,
      "grid_row": null,
      "grid_template_areas": null,
      "grid_template_columns": null,
      "grid_template_rows": null,
      "height": null,
      "justify_content": null,
      "justify_items": null,
      "left": null,
      "margin": null,
      "max_height": null,
      "max_width": null,
      "min_height": null,
      "min_width": null,
      "object_fit": null,
      "object_position": null,
      "order": null,
      "overflow": null,
      "overflow_x": null,
      "overflow_y": null,
      "padding": null,
      "right": null,
      "top": null,
      "visibility": null,
      "width": null
     }
    },
    "925f65b6b0cc47be803c021f644a8f84": {
     "model_module": "@jupyter-widgets/controls",
     "model_module_version": "1.5.0",
     "model_name": "HBoxModel",
     "state": {
      "_dom_classes": [],
      "_model_module": "@jupyter-widgets/controls",
      "_model_module_version": "1.5.0",
      "_model_name": "HBoxModel",
      "_view_count": null,
      "_view_module": "@jupyter-widgets/controls",
      "_view_module_version": "1.5.0",
      "_view_name": "HBoxView",
      "box_style": "",
      "children": [
       "IPY_MODEL_24a571b8cc864f60bea7ae90ef331b21",
       "IPY_MODEL_45580486ce0742b29d0de17850c42060",
       "IPY_MODEL_f1f07bc63a234590ac229d63217e197a"
      ],
      "layout": "IPY_MODEL_a6d67d04d1c8432c8840f411027a0e79"
     }
    },
    "a6d67d04d1c8432c8840f411027a0e79": {
     "model_module": "@jupyter-widgets/base",
     "model_module_version": "1.2.0",
     "model_name": "LayoutModel",
     "state": {
      "_model_module": "@jupyter-widgets/base",
      "_model_module_version": "1.2.0",
      "_model_name": "LayoutModel",
      "_view_count": null,
      "_view_module": "@jupyter-widgets/base",
      "_view_module_version": "1.2.0",
      "_view_name": "LayoutView",
      "align_content": null,
      "align_items": null,
      "align_self": null,
      "border": null,
      "bottom": null,
      "display": null,
      "flex": null,
      "flex_flow": null,
      "grid_area": null,
      "grid_auto_columns": null,
      "grid_auto_flow": null,
      "grid_auto_rows": null,
      "grid_column": null,
      "grid_gap": null,
      "grid_row": null,
      "grid_template_areas": null,
      "grid_template_columns": null,
      "grid_template_rows": null,
      "height": null,
      "justify_content": null,
      "justify_items": null,
      "left": null,
      "margin": null,
      "max_height": null,
      "max_width": null,
      "min_height": null,
      "min_width": null,
      "object_fit": null,
      "object_position": null,
      "order": null,
      "overflow": null,
      "overflow_x": null,
      "overflow_y": null,
      "padding": null,
      "right": null,
      "top": null,
      "visibility": null,
      "width": null
     }
    },
    "a9594c4de9734895862a48f90bc8c621": {
     "model_module": "@jupyter-widgets/controls",
     "model_module_version": "1.5.0",
     "model_name": "ProgressStyleModel",
     "state": {
      "_model_module": "@jupyter-widgets/controls",
      "_model_module_version": "1.5.0",
      "_model_name": "ProgressStyleModel",
      "_view_count": null,
      "_view_module": "@jupyter-widgets/base",
      "_view_module_version": "1.2.0",
      "_view_name": "StyleView",
      "bar_color": null,
      "description_width": ""
     }
    },
    "bfecdc3138334cd1adcd055f338060d1": {
     "model_module": "@jupyter-widgets/controls",
     "model_module_version": "1.5.0",
     "model_name": "DescriptionStyleModel",
     "state": {
      "_model_module": "@jupyter-widgets/controls",
      "_model_module_version": "1.5.0",
      "_model_name": "DescriptionStyleModel",
      "_view_count": null,
      "_view_module": "@jupyter-widgets/base",
      "_view_module_version": "1.2.0",
      "_view_name": "StyleView",
      "description_width": ""
     }
    },
    "c52a55d3643b4f1c83bdf1b1b5fce242": {
     "model_module": "@jupyter-widgets/base",
     "model_module_version": "1.2.0",
     "model_name": "LayoutModel",
     "state": {
      "_model_module": "@jupyter-widgets/base",
      "_model_module_version": "1.2.0",
      "_model_name": "LayoutModel",
      "_view_count": null,
      "_view_module": "@jupyter-widgets/base",
      "_view_module_version": "1.2.0",
      "_view_name": "LayoutView",
      "align_content": null,
      "align_items": null,
      "align_self": null,
      "border": null,
      "bottom": null,
      "display": null,
      "flex": null,
      "flex_flow": null,
      "grid_area": null,
      "grid_auto_columns": null,
      "grid_auto_flow": null,
      "grid_auto_rows": null,
      "grid_column": null,
      "grid_gap": null,
      "grid_row": null,
      "grid_template_areas": null,
      "grid_template_columns": null,
      "grid_template_rows": null,
      "height": null,
      "justify_content": null,
      "justify_items": null,
      "left": null,
      "margin": null,
      "max_height": null,
      "max_width": null,
      "min_height": null,
      "min_width": null,
      "object_fit": null,
      "object_position": null,
      "order": null,
      "overflow": null,
      "overflow_x": null,
      "overflow_y": null,
      "padding": null,
      "right": null,
      "top": null,
      "visibility": null,
      "width": null
     }
    },
    "f1f07bc63a234590ac229d63217e197a": {
     "model_module": "@jupyter-widgets/controls",
     "model_module_version": "1.5.0",
     "model_name": "HTMLModel",
     "state": {
      "_dom_classes": [],
      "_model_module": "@jupyter-widgets/controls",
      "_model_module_version": "1.5.0",
      "_model_name": "HTMLModel",
      "_view_count": null,
      "_view_module": "@jupyter-widgets/controls",
      "_view_module_version": "1.5.0",
      "_view_name": "HTMLView",
      "description": "",
      "description_tooltip": null,
      "layout": "IPY_MODEL_48ec484f11324501b1020314d4989da6",
      "placeholder": "​",
      "style": "IPY_MODEL_bfecdc3138334cd1adcd055f338060d1",
      "value": " 79/79 [04:03&lt;00:00,  2.64s/it]"
     }
    }
   }
  }
 },
 "nbformat": 4,
 "nbformat_minor": 4
}
